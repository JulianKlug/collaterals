{
 "cells": [
  {
   "cell_type": "code",
   "execution_count": 1,
   "id": "000b1866",
   "metadata": {},
   "outputs": [],
   "source": [
    "import pandas as pd"
   ]
  },
  {
   "cell_type": "code",
   "execution_count": 2,
   "id": "06e5efca",
   "metadata": {},
   "outputs": [],
   "source": [
    "data_path = '/Users/jk1/temp/opsum_preprocessed_ehr_data/gsu_prepro_01012023_233050/preprocessed_features_01012023_233050.csv'\n",
    "outcome_data_path = '/Users/jk1/temp/opsum_preprocessed_ehr_data/gsu_prepro_01012023_233050/preprocessed_outcomes_01012023_233050.csv'"
   ]
  },
  {
   "cell_type": "code",
   "execution_count": 3,
   "id": "98f7570a",
   "metadata": {},
   "outputs": [],
   "source": [
    "data_df = pd.read_csv(data_path)\n",
    "outcome_df = pd.read_csv(outcome_data_path)"
   ]
  },
  {
   "cell_type": "code",
   "execution_count": 4,
   "id": "173f2757",
   "metadata": {},
   "outputs": [
    {
     "data": {
      "application/vnd.microsoft.datawrangler.viewer.v0+json": {
       "columns": [
        {
         "name": "index",
         "rawType": "int64",
         "type": "integer"
        },
        {
         "name": "Unnamed: 0",
         "rawType": "int64",
         "type": "integer"
        },
        {
         "name": "relative_sample_date_hourly_cat",
         "rawType": "int64",
         "type": "integer"
        },
        {
         "name": "case_admission_id",
         "rawType": "object",
         "type": "string"
        },
        {
         "name": "sample_label",
         "rawType": "object",
         "type": "string"
        },
        {
         "name": "source",
         "rawType": "object",
         "type": "string"
        },
        {
         "name": "value",
         "rawType": "float64",
         "type": "float"
        }
       ],
       "ref": "82036f9b-9f97-4efa-9d1b-edf1131427e6",
       "rows": [
        [
         "0",
         "0",
         "0",
         "100023_4784",
         "ALAT",
         "EHR_pop_imputed",
         "-0.1626940711156264"
        ],
        [
         "1",
         "1",
         "1",
         "100023_4784",
         "ALAT",
         "EHR_pop_imputed_locf_imputed",
         "-0.1626940711156264"
        ],
        [
         "2",
         "2",
         "2",
         "100023_4784",
         "ALAT",
         "EHR",
         "-0.3008288477285921"
        ],
        [
         "3",
         "3",
         "3",
         "100023_4784",
         "ALAT",
         "EHR_locf_imputed",
         "-0.3008288477285921"
        ],
        [
         "4",
         "4",
         "4",
         "100023_4784",
         "ALAT",
         "EHR_locf_imputed",
         "-0.3008288477285921"
        ]
       ],
       "shape": {
        "columns": 6,
        "rows": 5
       }
      },
      "text/html": [
       "<div>\n",
       "<style scoped>\n",
       "    .dataframe tbody tr th:only-of-type {\n",
       "        vertical-align: middle;\n",
       "    }\n",
       "\n",
       "    .dataframe tbody tr th {\n",
       "        vertical-align: top;\n",
       "    }\n",
       "\n",
       "    .dataframe thead th {\n",
       "        text-align: right;\n",
       "    }\n",
       "</style>\n",
       "<table border=\"1\" class=\"dataframe\">\n",
       "  <thead>\n",
       "    <tr style=\"text-align: right;\">\n",
       "      <th></th>\n",
       "      <th>Unnamed: 0</th>\n",
       "      <th>relative_sample_date_hourly_cat</th>\n",
       "      <th>case_admission_id</th>\n",
       "      <th>sample_label</th>\n",
       "      <th>source</th>\n",
       "      <th>value</th>\n",
       "    </tr>\n",
       "  </thead>\n",
       "  <tbody>\n",
       "    <tr>\n",
       "      <th>0</th>\n",
       "      <td>0</td>\n",
       "      <td>0</td>\n",
       "      <td>100023_4784</td>\n",
       "      <td>ALAT</td>\n",
       "      <td>EHR_pop_imputed</td>\n",
       "      <td>-0.162694</td>\n",
       "    </tr>\n",
       "    <tr>\n",
       "      <th>1</th>\n",
       "      <td>1</td>\n",
       "      <td>1</td>\n",
       "      <td>100023_4784</td>\n",
       "      <td>ALAT</td>\n",
       "      <td>EHR_pop_imputed_locf_imputed</td>\n",
       "      <td>-0.162694</td>\n",
       "    </tr>\n",
       "    <tr>\n",
       "      <th>2</th>\n",
       "      <td>2</td>\n",
       "      <td>2</td>\n",
       "      <td>100023_4784</td>\n",
       "      <td>ALAT</td>\n",
       "      <td>EHR</td>\n",
       "      <td>-0.300829</td>\n",
       "    </tr>\n",
       "    <tr>\n",
       "      <th>3</th>\n",
       "      <td>3</td>\n",
       "      <td>3</td>\n",
       "      <td>100023_4784</td>\n",
       "      <td>ALAT</td>\n",
       "      <td>EHR_locf_imputed</td>\n",
       "      <td>-0.300829</td>\n",
       "    </tr>\n",
       "    <tr>\n",
       "      <th>4</th>\n",
       "      <td>4</td>\n",
       "      <td>4</td>\n",
       "      <td>100023_4784</td>\n",
       "      <td>ALAT</td>\n",
       "      <td>EHR_locf_imputed</td>\n",
       "      <td>-0.300829</td>\n",
       "    </tr>\n",
       "  </tbody>\n",
       "</table>\n",
       "</div>"
      ],
      "text/plain": [
       "   Unnamed: 0  relative_sample_date_hourly_cat case_admission_id sample_label  \\\n",
       "0           0                                0       100023_4784         ALAT   \n",
       "1           1                                1       100023_4784         ALAT   \n",
       "2           2                                2       100023_4784         ALAT   \n",
       "3           3                                3       100023_4784         ALAT   \n",
       "4           4                                4       100023_4784         ALAT   \n",
       "\n",
       "                         source     value  \n",
       "0               EHR_pop_imputed -0.162694  \n",
       "1  EHR_pop_imputed_locf_imputed -0.162694  \n",
       "2                           EHR -0.300829  \n",
       "3              EHR_locf_imputed -0.300829  \n",
       "4              EHR_locf_imputed -0.300829  "
      ]
     },
     "execution_count": 4,
     "metadata": {},
     "output_type": "execute_result"
    }
   ],
   "source": [
    "data_df.head()"
   ]
  },
  {
   "cell_type": "code",
   "execution_count": 5,
   "id": "71703e06",
   "metadata": {},
   "outputs": [
    {
     "data": {
      "application/vnd.microsoft.datawrangler.viewer.v0+json": {
       "columns": [
        {
         "name": "index",
         "rawType": "int64",
         "type": "integer"
        },
        {
         "name": "Unnamed: 0",
         "rawType": "int64",
         "type": "integer"
        },
        {
         "name": "case_admission_id",
         "rawType": "object",
         "type": "string"
        },
        {
         "name": "Symptomatic ICH",
         "rawType": "object",
         "type": "string"
        },
        {
         "name": "Symptomatic ICH date",
         "rawType": "float64",
         "type": "float"
        },
        {
         "name": "Recurrent stroke",
         "rawType": "object",
         "type": "string"
        },
        {
         "name": "Recurrent stroke date",
         "rawType": "float64",
         "type": "float"
        },
        {
         "name": "Orolingual angioedema",
         "rawType": "object",
         "type": "string"
        },
        {
         "name": "Death in hospital",
         "rawType": "float64",
         "type": "float"
        },
        {
         "name": "Death at hospital date",
         "rawType": "float64",
         "type": "float"
        },
        {
         "name": "Death at hospital time",
         "rawType": "object",
         "type": "string"
        },
        {
         "name": "Death at hospital cause",
         "rawType": "object",
         "type": "string"
        },
        {
         "name": "Epileptic seizure in hospital",
         "rawType": "object",
         "type": "string"
        },
        {
         "name": "Epileptic seizure in hospital date",
         "rawType": "float64",
         "type": "float"
        },
        {
         "name": "Decompr. craniectomy",
         "rawType": "object",
         "type": "string"
        },
        {
         "name": "Decompr. craniectomy date",
         "rawType": "float64",
         "type": "float"
        },
        {
         "name": "CEA",
         "rawType": "object",
         "type": "string"
        },
        {
         "name": "CEA date",
         "rawType": "float64",
         "type": "float"
        },
        {
         "name": "CAS",
         "rawType": "object",
         "type": "string"
        },
        {
         "name": "CAS date",
         "rawType": "float64",
         "type": "float"
        },
        {
         "name": "Other endovascular revascularization",
         "rawType": "object",
         "type": "string"
        },
        {
         "name": "Other surgical revascularization",
         "rawType": "object",
         "type": "string"
        },
        {
         "name": "Other surgical revascularization date",
         "rawType": "float64",
         "type": "float"
        },
        {
         "name": "Other surgical revascularization spec",
         "rawType": "object",
         "type": "string"
        },
        {
         "name": "PFO closure",
         "rawType": "object",
         "type": "string"
        },
        {
         "name": "PFO closure date",
         "rawType": "float64",
         "type": "float"
        },
        {
         "name": "Discharge destination",
         "rawType": "object",
         "type": "string"
        },
        {
         "name": "Discharge date",
         "rawType": "float64",
         "type": "float"
        },
        {
         "name": "Discharge time",
         "rawType": "object",
         "type": "string"
        },
        {
         "name": "Duration of hospital stay (days)",
         "rawType": "float64",
         "type": "float"
        },
        {
         "name": "3M date",
         "rawType": "float64",
         "type": "float"
        },
        {
         "name": "3M mode",
         "rawType": "object",
         "type": "string"
        },
        {
         "name": "3M mRS",
         "rawType": "float64",
         "type": "float"
        },
        {
         "name": "3M NIHSS",
         "rawType": "float64",
         "type": "float"
        },
        {
         "name": "3M Stroke",
         "rawType": "object",
         "type": "string"
        },
        {
         "name": "3M Stroke date",
         "rawType": "float64",
         "type": "float"
        },
        {
         "name": "3M ICH",
         "rawType": "object",
         "type": "string"
        },
        {
         "name": "3M ICH date",
         "rawType": "float64",
         "type": "float"
        },
        {
         "name": "3M Death",
         "rawType": "float64",
         "type": "float"
        },
        {
         "name": "3M Death date",
         "rawType": "float64",
         "type": "float"
        },
        {
         "name": "3M Death cause",
         "rawType": "object",
         "type": "string"
        },
        {
         "name": "3M Epileptic seizure",
         "rawType": "object",
         "type": "string"
        },
        {
         "name": "3M Epileptic seizure date",
         "rawType": "float64",
         "type": "float"
        },
        {
         "name": "3M delta mRS",
         "rawType": "float64",
         "type": "float"
        },
        {
         "name": "3M mRS 0-1",
         "rawType": "float64",
         "type": "float"
        },
        {
         "name": "3M mRS 0-2",
         "rawType": "float64",
         "type": "float"
        }
       ],
       "ref": "6786f094-1cf3-4139-8e90-8d02f15c2abc",
       "rows": [
        [
         "0",
         "3",
         "100503_0884",
         "no",
         null,
         "no",
         null,
         null,
         "0.0",
         null,
         null,
         null,
         "no",
         null,
         "no",
         null,
         "no",
         null,
         "no",
         null,
         "no",
         "no",
         null,
         null,
         "no",
         null,
         "Nursing home,palliative care center,or other medical facility",
         "20181116.0",
         "13:00",
         "7.99",
         "20190222.0",
         "Clinical",
         "3.0",
         "2.0",
         "no",
         null,
         "no",
         null,
         "0.0",
         null,
         null,
         null,
         null,
         "0.0",
         "0.0",
         "0.0"
        ],
        [
         "1",
         "5",
         "1005564_4109",
         "no",
         null,
         "no",
         null,
         null,
         "0.0",
         null,
         null,
         null,
         "no",
         null,
         "no",
         null,
         "no",
         null,
         "no",
         null,
         "no",
         "no",
         null,
         null,
         "no",
         null,
         "Rehabilitation hospital",
         "20181022.0",
         "09:35",
         "20.06",
         "20190222.0",
         "Clinical",
         "2.0",
         "1.0",
         "no",
         null,
         "no",
         null,
         "0.0",
         null,
         null,
         "no",
         null,
         "2.0",
         "0.0",
         "1.0"
        ],
        [
         "2",
         "6",
         "1005798_9217",
         "no",
         null,
         "no",
         null,
         null,
         "0.0",
         null,
         null,
         null,
         "no",
         null,
         "no",
         null,
         "no",
         null,
         "no",
         null,
         "no",
         "no",
         null,
         null,
         "no",
         null,
         "Home",
         "20180918.0",
         "17:47",
         "7.84",
         "20181203.0",
         "Clinical",
         "1.0",
         "0.0",
         "no",
         null,
         "no",
         null,
         "0.0",
         null,
         null,
         "no",
         null,
         "1.0",
         "1.0",
         "1.0"
        ],
        [
         "3",
         "11",
         "1011794_0030",
         "no",
         null,
         "no",
         null,
         null,
         "1.0",
         "20180201.0",
         "01:00",
         "Fatal stroke or intracranial hemorrhage",
         "no",
         null,
         "no",
         null,
         "no",
         null,
         "no",
         null,
         "no",
         "no",
         null,
         null,
         "no",
         null,
         null,
         null,
         null,
         null,
         null,
         null,
         "6.0",
         null,
         null,
         null,
         null,
         null,
         "1.0",
         null,
         null,
         null,
         null,
         "6.0",
         "0.0",
         "0.0"
        ],
        [
         "4",
         "13",
         "1012915_7747",
         "no",
         null,
         "no",
         null,
         null,
         "0.0",
         null,
         null,
         null,
         "no",
         null,
         "no",
         null,
         "no",
         null,
         "no",
         null,
         "no",
         "no",
         null,
         null,
         "no",
         null,
         "Other acute care hospital",
         "20180524.0",
         "12:37",
         "3.73",
         "20181026.0",
         "Clinical",
         "0.0",
         "0.0",
         "no",
         null,
         "no",
         null,
         "0.0",
         null,
         null,
         "no",
         null,
         "0.0",
         "1.0",
         "1.0"
        ]
       ],
       "shape": {
        "columns": 45,
        "rows": 5
       }
      },
      "text/html": [
       "<div>\n",
       "<style scoped>\n",
       "    .dataframe tbody tr th:only-of-type {\n",
       "        vertical-align: middle;\n",
       "    }\n",
       "\n",
       "    .dataframe tbody tr th {\n",
       "        vertical-align: top;\n",
       "    }\n",
       "\n",
       "    .dataframe thead th {\n",
       "        text-align: right;\n",
       "    }\n",
       "</style>\n",
       "<table border=\"1\" class=\"dataframe\">\n",
       "  <thead>\n",
       "    <tr style=\"text-align: right;\">\n",
       "      <th></th>\n",
       "      <th>Unnamed: 0</th>\n",
       "      <th>case_admission_id</th>\n",
       "      <th>Symptomatic ICH</th>\n",
       "      <th>Symptomatic ICH date</th>\n",
       "      <th>Recurrent stroke</th>\n",
       "      <th>Recurrent stroke date</th>\n",
       "      <th>Orolingual angioedema</th>\n",
       "      <th>Death in hospital</th>\n",
       "      <th>Death at hospital date</th>\n",
       "      <th>Death at hospital time</th>\n",
       "      <th>...</th>\n",
       "      <th>3M ICH</th>\n",
       "      <th>3M ICH date</th>\n",
       "      <th>3M Death</th>\n",
       "      <th>3M Death date</th>\n",
       "      <th>3M Death cause</th>\n",
       "      <th>3M Epileptic seizure</th>\n",
       "      <th>3M Epileptic seizure date</th>\n",
       "      <th>3M delta mRS</th>\n",
       "      <th>3M mRS 0-1</th>\n",
       "      <th>3M mRS 0-2</th>\n",
       "    </tr>\n",
       "  </thead>\n",
       "  <tbody>\n",
       "    <tr>\n",
       "      <th>0</th>\n",
       "      <td>3</td>\n",
       "      <td>100503_0884</td>\n",
       "      <td>no</td>\n",
       "      <td>NaN</td>\n",
       "      <td>no</td>\n",
       "      <td>NaN</td>\n",
       "      <td>NaN</td>\n",
       "      <td>0.0</td>\n",
       "      <td>NaN</td>\n",
       "      <td>NaN</td>\n",
       "      <td>...</td>\n",
       "      <td>no</td>\n",
       "      <td>NaN</td>\n",
       "      <td>0.0</td>\n",
       "      <td>NaN</td>\n",
       "      <td>NaN</td>\n",
       "      <td>NaN</td>\n",
       "      <td>NaN</td>\n",
       "      <td>0.0</td>\n",
       "      <td>0.0</td>\n",
       "      <td>0.0</td>\n",
       "    </tr>\n",
       "    <tr>\n",
       "      <th>1</th>\n",
       "      <td>5</td>\n",
       "      <td>1005564_4109</td>\n",
       "      <td>no</td>\n",
       "      <td>NaN</td>\n",
       "      <td>no</td>\n",
       "      <td>NaN</td>\n",
       "      <td>NaN</td>\n",
       "      <td>0.0</td>\n",
       "      <td>NaN</td>\n",
       "      <td>NaN</td>\n",
       "      <td>...</td>\n",
       "      <td>no</td>\n",
       "      <td>NaN</td>\n",
       "      <td>0.0</td>\n",
       "      <td>NaN</td>\n",
       "      <td>NaN</td>\n",
       "      <td>no</td>\n",
       "      <td>NaN</td>\n",
       "      <td>2.0</td>\n",
       "      <td>0.0</td>\n",
       "      <td>1.0</td>\n",
       "    </tr>\n",
       "    <tr>\n",
       "      <th>2</th>\n",
       "      <td>6</td>\n",
       "      <td>1005798_9217</td>\n",
       "      <td>no</td>\n",
       "      <td>NaN</td>\n",
       "      <td>no</td>\n",
       "      <td>NaN</td>\n",
       "      <td>NaN</td>\n",
       "      <td>0.0</td>\n",
       "      <td>NaN</td>\n",
       "      <td>NaN</td>\n",
       "      <td>...</td>\n",
       "      <td>no</td>\n",
       "      <td>NaN</td>\n",
       "      <td>0.0</td>\n",
       "      <td>NaN</td>\n",
       "      <td>NaN</td>\n",
       "      <td>no</td>\n",
       "      <td>NaN</td>\n",
       "      <td>1.0</td>\n",
       "      <td>1.0</td>\n",
       "      <td>1.0</td>\n",
       "    </tr>\n",
       "    <tr>\n",
       "      <th>3</th>\n",
       "      <td>11</td>\n",
       "      <td>1011794_0030</td>\n",
       "      <td>no</td>\n",
       "      <td>NaN</td>\n",
       "      <td>no</td>\n",
       "      <td>NaN</td>\n",
       "      <td>NaN</td>\n",
       "      <td>1.0</td>\n",
       "      <td>20180201.0</td>\n",
       "      <td>01:00</td>\n",
       "      <td>...</td>\n",
       "      <td>NaN</td>\n",
       "      <td>NaN</td>\n",
       "      <td>1.0</td>\n",
       "      <td>NaN</td>\n",
       "      <td>NaN</td>\n",
       "      <td>NaN</td>\n",
       "      <td>NaN</td>\n",
       "      <td>6.0</td>\n",
       "      <td>0.0</td>\n",
       "      <td>0.0</td>\n",
       "    </tr>\n",
       "    <tr>\n",
       "      <th>4</th>\n",
       "      <td>13</td>\n",
       "      <td>1012915_7747</td>\n",
       "      <td>no</td>\n",
       "      <td>NaN</td>\n",
       "      <td>no</td>\n",
       "      <td>NaN</td>\n",
       "      <td>NaN</td>\n",
       "      <td>0.0</td>\n",
       "      <td>NaN</td>\n",
       "      <td>NaN</td>\n",
       "      <td>...</td>\n",
       "      <td>no</td>\n",
       "      <td>NaN</td>\n",
       "      <td>0.0</td>\n",
       "      <td>NaN</td>\n",
       "      <td>NaN</td>\n",
       "      <td>no</td>\n",
       "      <td>NaN</td>\n",
       "      <td>0.0</td>\n",
       "      <td>1.0</td>\n",
       "      <td>1.0</td>\n",
       "    </tr>\n",
       "  </tbody>\n",
       "</table>\n",
       "<p>5 rows × 45 columns</p>\n",
       "</div>"
      ],
      "text/plain": [
       "   Unnamed: 0 case_admission_id Symptomatic ICH  Symptomatic ICH date  \\\n",
       "0           3       100503_0884              no                   NaN   \n",
       "1           5      1005564_4109              no                   NaN   \n",
       "2           6      1005798_9217              no                   NaN   \n",
       "3          11      1011794_0030              no                   NaN   \n",
       "4          13      1012915_7747              no                   NaN   \n",
       "\n",
       "  Recurrent stroke  Recurrent stroke date Orolingual angioedema  \\\n",
       "0               no                    NaN                   NaN   \n",
       "1               no                    NaN                   NaN   \n",
       "2               no                    NaN                   NaN   \n",
       "3               no                    NaN                   NaN   \n",
       "4               no                    NaN                   NaN   \n",
       "\n",
       "   Death in hospital  Death at hospital date Death at hospital time  ...  \\\n",
       "0                0.0                     NaN                    NaN  ...   \n",
       "1                0.0                     NaN                    NaN  ...   \n",
       "2                0.0                     NaN                    NaN  ...   \n",
       "3                1.0              20180201.0                  01:00  ...   \n",
       "4                0.0                     NaN                    NaN  ...   \n",
       "\n",
       "  3M ICH 3M ICH date  3M Death 3M Death date  3M Death cause  \\\n",
       "0     no         NaN       0.0           NaN             NaN   \n",
       "1     no         NaN       0.0           NaN             NaN   \n",
       "2     no         NaN       0.0           NaN             NaN   \n",
       "3    NaN         NaN       1.0           NaN             NaN   \n",
       "4     no         NaN       0.0           NaN             NaN   \n",
       "\n",
       "  3M Epileptic seizure  3M Epileptic seizure date 3M delta mRS  3M mRS 0-1  \\\n",
       "0                  NaN                        NaN          0.0         0.0   \n",
       "1                   no                        NaN          2.0         0.0   \n",
       "2                   no                        NaN          1.0         1.0   \n",
       "3                  NaN                        NaN          6.0         0.0   \n",
       "4                   no                        NaN          0.0         1.0   \n",
       "\n",
       "  3M mRS 0-2  \n",
       "0        0.0  \n",
       "1        1.0  \n",
       "2        1.0  \n",
       "3        0.0  \n",
       "4        1.0  \n",
       "\n",
       "[5 rows x 45 columns]"
      ]
     },
     "execution_count": 5,
     "metadata": {},
     "output_type": "execute_result"
    }
   ],
   "source": [
    "outcome_df.head()"
   ]
  },
  {
   "cell_type": "code",
   "execution_count": 6,
   "id": "976e6859",
   "metadata": {},
   "outputs": [
    {
     "data": {
      "text/plain": [
       "<AxesSubplot:>"
      ]
     },
     "execution_count": 6,
     "metadata": {},
     "output_type": "execute_result"
    },
    {
     "data": {
      "image/png": "[encoded data removed]",
      "text/plain": [
       "<Figure size 432x288 with 1 Axes>"
      ]
     },
     "metadata": {
      "needs_background": "light"
     },
     "output_type": "display_data"
    }
   ],
   "source": [
    "data_df[(data_df.sample_label == 'lactate') & (data_df.relative_sample_date_hourly_cat == 0)].value.hist()"
   ]
  },
  {
   "cell_type": "code",
   "execution_count": 7,
   "id": "54555e74",
   "metadata": {},
   "outputs": [],
   "source": [
    "lactate_df = data_df[(data_df.sample_label == 'lactate')]"
   ]
  },
  {
   "cell_type": "code",
   "execution_count": 8,
   "id": "2fe613c0",
   "metadata": {},
   "outputs": [],
   "source": [
    "lactate_df = lactate_df.merge(outcome_df[['case_admission_id', '3M mRS']], on='case_admission_id', how='left')"
   ]
  },
  {
   "cell_type": "code",
   "execution_count": 9,
   "id": "c167f59a",
   "metadata": {},
   "outputs": [],
   "source": [
    "first_lactate_df = lactate_df[lactate_df.relative_sample_date_hourly_cat == 0]\n",
    "lactate_day2_df = lactate_df[(lactate_df.relative_sample_date_hourly_cat >= 24) & (lactate_df.relative_sample_date_hourly_cat < 48)]"
   ]
  },
  {
   "cell_type": "code",
   "execution_count": 10,
   "id": "bc25e13a",
   "metadata": {},
   "outputs": [
    {
     "data": {
      "text/plain": [
       "<AxesSubplot:xlabel='relative_sample_date_hourly_cat', ylabel='value'>"
      ]
     },
     "execution_count": 10,
     "metadata": {},
     "output_type": "execute_result"
    },
    {
     "data": {
      "image/png": "[encoded data removed]",
      "text/plain": [
       "<Figure size 720x432 with 1 Axes>"
      ]
     },
     "metadata": {},
     "output_type": "display_data"
    }
   ],
   "source": [
    "# lactate over_time regplot\n",
    "import seaborn as sns\n",
    "import matplotlib.pyplot as plt\n",
    "sns.set(style=\"whitegrid\")\n",
    "plt.figure(figsize=(10, 6))\n",
    "sns.lineplot(x='relative_sample_date_hourly_cat', y='value', data=lactate_df)\n"
   ]
  },
  {
   "cell_type": "code",
   "execution_count": 11,
   "id": "dd56732f",
   "metadata": {},
   "outputs": [
    {
     "data": {
      "text/plain": [
       "<AxesSubplot:xlabel='3M mRS', ylabel='value'>"
      ]
     },
     "execution_count": 11,
     "metadata": {},
     "output_type": "execute_result"
    },
    {
     "data": {
      "image/png": "[encoded data removed]",
      "text/plain": [
       "<Figure size 720x432 with 1 Axes>"
      ]
     },
     "metadata": {},
     "output_type": "display_data"
    }
   ],
   "source": [
    "# scatterplot value vs 3M mRS\n",
    "import matplotlib.pyplot as plt\n",
    "import seaborn as sns\n",
    "plt.figure(figsize=(10, 6))\n",
    "sns.boxplot(data=lactate_day2_df, y='value', x='3M mRS')\n"
   ]
  },
  {
   "cell_type": "code",
   "execution_count": 12,
   "id": "8313c70b",
   "metadata": {},
   "outputs": [
    {
     "name": "stdout",
     "output_type": "stream",
     "text": [
      "Pearson correlation: 0.04966318151405835, p-value: 0.018531292759635245\n"
     ]
    }
   ],
   "source": [
    "# pearons correlation between value and 3M mRS \n",
    "from scipy.stats import pearsonr\n",
    "temp_df = first_lactate_df.dropna(subset=['value', '3M mRS'])\n",
    "corr, p_value = pearsonr(temp_df['value'], temp_df['3M mRS'])\n",
    "print(f'Pearson correlation: {corr}, p-value: {p_value}')"
   ]
  },
  {
   "cell_type": "code",
   "execution_count": null,
   "id": "1c52ea38",
   "metadata": {},
   "outputs": [],
   "source": [
    "temp_df = first_lactate_df.dropna(subset=['value', '3M mRS'])\n",
    "corr, p_value = pearsonr(temp_df['value'], temp_df['3M mRS'])\n",
    "print(f'Pearson correlation: {corr}, p-value: {p_value}')"
   ]
  }
 ],
 "metadata": {
  "kernelspec": {
   "display_name": "opsum",
   "language": "python",
   "name": "python3"
  },
  "language_info": {
   "codemirror_mode": {
    "name": "ipython",
    "version": 3
   },
   "file_extension": ".py",
   "mimetype": "text/x-python",
   "name": "python",
   "nbconvert_exporter": "python",
   "pygments_lexer": "ipython3",
   "version": "3.8.11"
  }
 },
 "nbformat": 4,
 "nbformat_minor": 5
}
