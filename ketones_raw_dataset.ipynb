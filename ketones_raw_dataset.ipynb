{
 "cells": [
  {
   "cell_type": "markdown",
   "id": "49da0c07",
   "metadata": {},
   "source": [
    "Relationship of ketones with outcome after ischemic stroke\n",
    "\n",
    "Ketones not in dataset -> use anion gap as surrogate"
   ]
  },
  {
   "cell_type": "code",
   "execution_count": 34,
   "id": "0136ca36",
   "metadata": {},
   "outputs": [],
   "source": [
    "import pandas as pd\n",
    "import numpy as np\n",
    "import os\n",
    "from scipy.stats import pearsonr\n",
    "from statsmodels.miscmodels.ordinal_model import OrderedModel\n",
    "import seaborn as sns\n",
    "import matplotlib.pyplot as plt\n",
    "from utils import create_registry_case_identification_column, create_ehr_case_identification_column, patient_selection\n",
    "from utils import load_data_from_main_dir\n",
    "from lab_preprocessing import preprocess_labs\n",
    "from outcome_preprocessing import preprocess_outcomes\n"
   ]
  },
  {
   "cell_type": "code",
   "execution_count": 2,
   "id": "01e0c260",
   "metadata": {},
   "outputs": [],
   "source": [
    "eds_path = '/Users/jk1/stroke_datasets/stroke_unit_dataset/per_value/Extraction_20221117/eds_j1.csv'\n",
    "ehr_data_path = '/Users/jk1/stroke_datasets/stroke_unit_dataset/per_value/Extraction_20221117/'\n",
    "registry_path = '/Users/jk1/Library/CloudStorage/OneDrive-unige.ch/stroke_research/geneva_stroke_unit_dataset/data/stroke_registry/post_hoc_modified/stroke_registry_post_hoc_modified.xlsx'"
   ]
  },
  {
   "cell_type": "code",
   "execution_count": 3,
   "id": "29df27c1",
   "metadata": {},
   "outputs": [],
   "source": [
    "eds_df = pd.read_csv(eds_path, delimiter=';', encoding='utf-8',\n",
    "                         dtype=str)\n",
    "registry_df = pd.read_excel(registry_path, dtype=str)"
   ]
  },
  {
   "cell_type": "code",
   "execution_count": 4,
   "id": "446b1617",
   "metadata": {},
   "outputs": [],
   "source": [
    "registry_df['case_admission_id'] = create_registry_case_identification_column(registry_df)\n",
    "eds_df['case_admission_id'] = create_ehr_case_identification_column(eds_df)"
   ]
  },
  {
   "cell_type": "code",
   "execution_count": 5,
   "id": "0bfc5550",
   "metadata": {},
   "outputs": [
    {
     "name": "stdout",
     "output_type": "stream",
     "text": [
      "Number of records screened:  5152 after removing duplicates:  12\n",
      "153 patients refuse the use of their data\n",
      "Number of patients excluded because not ischemic stroke:  1726\n",
      "Number of patients excluded because non acute stroke:  139\n",
      "Number of patients excluded because under 18:  1\n",
      "Number of patients excluded because intra-hospital stroke:  209\n"
     ]
    }
   ],
   "source": [
    "inclusion_registry_df, excluded_patients_df = patient_selection(\n",
    "    registry_path=registry_path,\n",
    "    eds_path=eds_path,\n",
    "    exclude_patients_under_18=True,\n",
    "    exclude_non_ischemic_stroke=True,\n",
    "    exclude_non_acute_stroke=True,\n",
    "    verbose=True\n",
    ")"
   ]
  },
  {
   "cell_type": "code",
   "execution_count": 6,
   "id": "c77feedb",
   "metadata": {},
   "outputs": [
    {
     "name": "stdout",
     "output_type": "stream",
     "text": [
      "Number of patients in EDS after selection: 3121\n"
     ]
    }
   ],
   "source": [
    "eds_df['case_admission_id'] = eds_df[eds_df['case_admission_id'].isin(inclusion_registry_df['case_admission_id'])]['case_admission_id']\n",
    "print(f'Number of patients in EDS after selection: {eds_df.patient_id.nunique()}')"
   ]
  },
  {
   "cell_type": "code",
   "execution_count": 7,
   "id": "51888f59",
   "metadata": {},
   "outputs": [],
   "source": [
    "lab_file_start = 'labo'\n",
    "lab_df = load_data_from_main_dir(ehr_data_path, lab_file_start)\n",
    "lab_df['case_admission_id'] = create_ehr_case_identification_column(lab_df)"
   ]
  },
  {
   "cell_type": "code",
   "execution_count": 18,
   "id": "b06ca9db",
   "metadata": {},
   "outputs": [
    {
     "name": "stdout",
     "output_type": "stream",
     "text": [
      "sodium ['mmol/l']\n",
      "chlore ['mmol/l']\n",
      "HCO3 ['mmol/l']\n",
      "lactate ['mmol/l']\n",
      "Remaining non-numerical values: []\n",
      "Excluding 1 observations because out of range\n",
      "Median observations per case admission id:\n",
      "              median_observations_per_case_admission_id\n",
      "dosage_label                                           \n",
      "HCO3                                                2.0\n",
      "chlore                                              1.0\n",
      "lactate                                             1.0\n",
      "sodium                                              5.0\n",
      "Descriptive statistics:\n",
      "                count        mean       std    min    25%    50%    75%    max\n",
      "dosage_label                                                                  \n",
      "HCO3          17966.0   24.650551  3.568749    2.3   22.6   24.6   26.7   47.2\n",
      "chlore        10794.0  107.515935  5.359388   71.0  104.0  107.0  111.0  143.0\n",
      "lactate        9132.0    1.341251  1.186077    0.1    0.7    1.0    1.5   21.0\n",
      "sodium        26680.0  139.672001  4.427427  111.0  137.0  140.0  142.0  165.0\n"
     ]
    },
    {
     "name": "stderr",
     "output_type": "stream",
     "text": [
      "/Users/jk1/stroke_research/collaterals/lab_preprocessing.py:195: FutureWarning: The default value of numeric_only in DataFrameGroupBy.median is deprecated. In a future version, numeric_only will default to False. Either specify numeric_only or select only columns which should be valid for the function.\n",
      "  median_observations_per_case_admission_id_df = median_observations_per_case_admission_id.groupby('dosage_label').median()\n"
     ]
    }
   ],
   "source": [
    "preprocessed_anion_gap_df = preprocess_labs(lab_df, [\"sodium\", \"chlore\", \"HCO3\", \"lactate\"])"
   ]
  },
  {
   "cell_type": "code",
   "execution_count": 23,
   "id": "9b0290ec",
   "metadata": {},
   "outputs": [],
   "source": [
    "preprocessed_anion_gap_df = preprocessed_anion_gap_df.pivot_table(index=['case_admission_id', \"sample_date\"], columns='dosage_label', values='value').reset_index()"
   ]
  },
  {
   "cell_type": "code",
   "execution_count": 26,
   "id": "87b9c6c2",
   "metadata": {},
   "outputs": [
    {
     "data": {
      "text/plain": [
       "<AxesSubplot:>"
      ]
     },
     "execution_count": 26,
     "metadata": {},
     "output_type": "execute_result"
    },
    {
     "data": {
      "image/png": "[encoded data removed]",
      "text/plain": [
       "<Figure size 432x288 with 1 Axes>"
      ]
     },
     "metadata": {
      "needs_background": "light"
     },
     "output_type": "display_data"
    }
   ],
   "source": [
    "preprocessed_anion_gap_df['anion_gap'] = preprocessed_anion_gap_df['sodium'] - (preprocessed_anion_gap_df['chlore'] + preprocessed_anion_gap_df['HCO3'])\n",
    "preprocessed_anion_gap_df['anion_gap'].hist(bins=50)"
   ]
  },
  {
   "cell_type": "code",
   "execution_count": 27,
   "id": "86d73e73",
   "metadata": {},
   "outputs": [],
   "source": [
    "# create non_lactate anion gap column (anion gap if lactate < 2.5)\n",
    "preprocessed_anion_gap_df['non_lactate_anion_gap'] = preprocessed_anion_gap_df.apply(\n",
    "    lambda row: row['anion_gap'] if row['lactate'] < 2.5 else None, axis=1\n",
    ")"
   ]
  },
  {
   "cell_type": "code",
   "execution_count": 30,
   "id": "6b230bbb",
   "metadata": {},
   "outputs": [
    {
     "data": {
      "application/vnd.microsoft.datawrangler.viewer.v0+json": {
       "columns": [
        {
         "name": "dosage_label",
         "rawType": "object",
         "type": "string"
        },
        {
         "name": "0",
         "rawType": "int64",
         "type": "integer"
        }
       ],
       "ref": "8a27a259-a018-46d0-a2f1-1adf626b7df6",
       "rows": [
        [
         "case_admission_id",
         "2115"
        ],
        [
         "sample_date",
         "8145"
        ],
        [
         "HCO3",
         "578"
        ],
        [
         "chlore",
         "61"
        ],
        [
         "lactate",
         "23"
        ],
        [
         "sodium",
         "64"
        ],
        [
         "anion_gap",
         "517"
        ],
        [
         "non_lactate_anion_gap",
         "517"
        ]
       ],
       "shape": {
        "columns": 1,
        "rows": 8
       }
      },
      "text/plain": [
       "dosage_label\n",
       "case_admission_id        2115\n",
       "sample_date              8145\n",
       "HCO3                      578\n",
       "chlore                     61\n",
       "lactate                    23\n",
       "sodium                     64\n",
       "anion_gap                 517\n",
       "non_lactate_anion_gap     517\n",
       "dtype: int64"
      ]
     },
     "execution_count": 30,
     "metadata": {},
     "output_type": "execute_result"
    }
   ],
   "source": [
    "preprocessed_anion_gap_df[preprocessed_anion_gap_df['non_lactate_anion_gap'].notnull()].nunique()"
   ]
  },
  {
   "cell_type": "code",
   "execution_count": 32,
   "id": "f07beb73",
   "metadata": {},
   "outputs": [],
   "source": [
    "inclusion_registry_df['T0'] = inclusion_registry_df['stroke_dt'].fillna(inclusion_registry_df['arrival_dt'])\n",
    "preprocessed_anion_gap_df = preprocessed_anion_gap_df.merge(\n",
    "    inclusion_registry_df[['case_admission_id', 'T0']],\n",
    "    on='case_admission_id',\n",
    "    how='left'\n",
    ")"
   ]
  },
  {
   "cell_type": "code",
   "execution_count": 33,
   "id": "c8428823",
   "metadata": {},
   "outputs": [],
   "source": [
    "dt_format = '%d.%m.%Y %H:%M'\n",
    "preprocessed_anion_gap_df['relative_sample_date'] = (pd.to_datetime(preprocessed_anion_gap_df['sample_date'], format=dt_format) - pd.to_datetime(preprocessed_anion_gap_df['T0'], format=dt_format)).dt.total_seconds() / 3600 # convert to hours"
   ]
  },
  {
   "cell_type": "code",
   "execution_count": 35,
   "id": "2c130be8",
   "metadata": {},
   "outputs": [],
   "source": [
    "preprocessed_anion_gap_df['relative_sample_date_hcat'] = preprocessed_anion_gap_df['relative_sample_date'].apply(np.floor)"
   ]
  },
  {
   "cell_type": "code",
   "execution_count": 36,
   "id": "aa9bb5d7",
   "metadata": {},
   "outputs": [
    {
     "data": {
      "text/plain": [
       "3265"
      ]
     },
     "execution_count": 36,
     "metadata": {},
     "output_type": "execute_result"
    }
   ],
   "source": [
    "preprocessed_anion_gap_df.case_admission_id.nunique()"
   ]
  },
  {
   "cell_type": "code",
   "execution_count": 41,
   "id": "9a4c07f1",
   "metadata": {},
   "outputs": [
    {
     "name": "stdout",
     "output_type": "stream",
     "text": [
      "Number of patients with anion gap in first 24h: 1600\n",
      "Number of patients with anion gap in 24 to 72h: 435\n"
     ]
    }
   ],
   "source": [
    "n_patients_with_ag_in_first_24h = preprocessed_anion_gap_df[(preprocessed_anion_gap_df.relative_sample_date > -12) & (preprocessed_anion_gap_df.relative_sample_date < 24) \n",
    "                                                            & (preprocessed_anion_gap_df.non_lactate_anion_gap.notna())].case_admission_id.nunique()\n",
    "n_patients_with_ag_in_24_to_72h = preprocessed_anion_gap_df[(preprocessed_anion_gap_df.relative_sample_date > 24) & (preprocessed_anion_gap_df.relative_sample_date < 3*24)\n",
    "                                                            & (preprocessed_anion_gap_df.non_lactate_anion_gap.notna())].case_admission_id.nunique()\n",
    "\n",
    "print(f'Number of patients with anion gap in first 24h: {n_patients_with_ag_in_first_24h}')\n",
    "print(f'Number of patients with anion gap in 24 to 72h: {n_patients_with_ag_in_24_to_72h}')"
   ]
  },
  {
   "cell_type": "code",
   "execution_count": 38,
   "id": "b7f3b36e",
   "metadata": {},
   "outputs": [
    {
     "name": "stderr",
     "output_type": "stream",
     "text": [
      "/Users/jk1/stroke_research/collaterals/outcome_preprocessing.py:72: SettingWithCopyWarning: \n",
      "A value is trying to be set on a copy of a slice from a DataFrame.\n",
      "Try using .loc[row_indexer,col_indexer] = value instead\n",
      "\n",
      "See the caveats in the documentation: https://pandas.pydata.org/pandas-docs/stable/user_guide/indexing.html#returning-a-view-versus-a-copy\n",
      "  outcome_df['3M mRS 0-1'] = np.where(outcome_df['3M mRS'].isna(), np.nan, np.where(outcome_df['3M mRS'] <= 1, 1, 0))\n",
      "/Users/jk1/stroke_research/collaterals/outcome_preprocessing.py:73: SettingWithCopyWarning: \n",
      "A value is trying to be set on a copy of a slice from a DataFrame.\n",
      "Try using .loc[row_indexer,col_indexer] = value instead\n",
      "\n",
      "See the caveats in the documentation: https://pandas.pydata.org/pandas-docs/stable/user_guide/indexing.html#returning-a-view-versus-a-copy\n",
      "  outcome_df['3M mRS 0-2'] = np.where(outcome_df['3M mRS'].isna(), np.nan, np.where(outcome_df['3M mRS'] <= 2, 1, 0))\n"
     ]
    }
   ],
   "source": [
    "outcome_df = preprocess_outcomes(registry_path)\n",
    "outcome_df = outcome_df[outcome_df.case_admission_id.isin(inclusion_registry_df.case_admission_id.unique())]\n",
    "outcome_df.drop_duplicates(subset='case_admission_id', keep='first', inplace=True)"
   ]
  },
  {
   "cell_type": "code",
   "execution_count": 39,
   "id": "f9cc0c66",
   "metadata": {},
   "outputs": [],
   "source": [
    "preprocessed_anion_gap_df = preprocessed_anion_gap_df.merge(\n",
    "    outcome_df[['case_admission_id', '3M mRS']],\n",
    "    on='case_admission_id',\n",
    "    how='left'\n",
    ")"
   ]
  },
  {
   "cell_type": "code",
   "execution_count": 40,
   "id": "de29dfcc",
   "metadata": {},
   "outputs": [
    {
     "data": {
      "application/vnd.microsoft.datawrangler.viewer.v0+json": {
       "columns": [
        {
         "name": "index",
         "rawType": "int64",
         "type": "integer"
        },
        {
         "name": "case_admission_id",
         "rawType": "object",
         "type": "string"
        },
        {
         "name": "sample_date",
         "rawType": "object",
         "type": "string"
        },
        {
         "name": "HCO3",
         "rawType": "float64",
         "type": "float"
        },
        {
         "name": "chlore",
         "rawType": "float64",
         "type": "float"
        },
        {
         "name": "lactate",
         "rawType": "float64",
         "type": "float"
        },
        {
         "name": "sodium",
         "rawType": "float64",
         "type": "float"
        },
        {
         "name": "anion_gap",
         "rawType": "float64",
         "type": "float"
        },
        {
         "name": "non_lactate_anion_gap",
         "rawType": "float64",
         "type": "float"
        },
        {
         "name": "T0",
         "rawType": "object",
         "type": "string"
        },
        {
         "name": "relative_sample_date",
         "rawType": "float64",
         "type": "float"
        },
        {
         "name": "relative_sample_date_hcat",
         "rawType": "float64",
         "type": "float"
        },
        {
         "name": "3M mRS",
         "rawType": "float64",
         "type": "float"
        }
       ],
       "ref": "555c1e34-322d-4804-ba4a-aca82cba87b9",
       "rows": [
        [
         "0",
         "100023_4784",
         "19.11.2019 04:35",
         "25.4",
         "106.0",
         "1.6",
         "140.0",
         "8.599999999999994",
         "8.599999999999994",
         "19.11.2019 00:30",
         "4.083333333333333",
         "4.0",
         "0.0"
        ],
        [
         "1",
         "100023_4784",
         "19.11.2019 04:40",
         null,
         null,
         null,
         "140.0",
         null,
         null,
         "19.11.2019 00:30",
         "4.166666666666667",
         "4.0",
         "0.0"
        ],
        [
         "2",
         "100023_4784",
         "19.11.2019 06:50",
         null,
         null,
         null,
         "136.0",
         null,
         null,
         "19.11.2019 00:30",
         "6.333333333333333",
         "6.0",
         "0.0"
        ],
        [
         "3",
         "1002417_9090",
         "03.03.2020 09:50",
         "24.95",
         "100.0",
         "3.9",
         "135.0",
         "10.049999999999997",
         null,
         "03.03.2020 03:30",
         "6.333333333333333",
         "6.0",
         "4.0"
        ],
        [
         "4",
         "1002417_9090",
         "03.03.2020 09:55",
         null,
         null,
         null,
         "134.0",
         null,
         null,
         "03.03.2020 03:30",
         "6.416666666666667",
         "6.0",
         "4.0"
        ],
        [
         "5",
         "1002417_9090",
         "04.03.2020 05:52",
         null,
         null,
         null,
         "136.0",
         null,
         null,
         "03.03.2020 03:30",
         "26.366666666666667",
         "26.0",
         "4.0"
        ],
        [
         "6",
         "1002417_9090",
         "09.03.2020 19:20",
         null,
         null,
         null,
         "136.0",
         null,
         null,
         "03.03.2020 03:30",
         "159.83333333333334",
         "159.0",
         "4.0"
        ],
        [
         "7",
         "1002417_9090",
         "12.03.2020 06:00",
         null,
         null,
         null,
         "134.0",
         null,
         null,
         "03.03.2020 03:30",
         "218.5",
         "218.0",
         "4.0"
        ],
        [
         "8",
         "1002417_9090",
         "23.03.2020 07:00",
         null,
         null,
         null,
         "141.0",
         null,
         null,
         "03.03.2020 03:30",
         "483.5",
         "483.0",
         "4.0"
        ],
        [
         "9",
         "100447_0097",
         "01.05.2021 04:40",
         null,
         null,
         null,
         "140.0",
         null,
         null,
         "30.04.2021 11:55",
         "16.75",
         "16.0",
         "2.0"
        ],
        [
         "10",
         "100447_0097",
         "30.04.2021 17:00",
         null,
         null,
         null,
         "140.0",
         null,
         null,
         "30.04.2021 11:55",
         "5.083333333333333",
         "5.0",
         "2.0"
        ],
        [
         "11",
         "100503_0884",
         "14.11.2018 06:00",
         null,
         null,
         null,
         "141.0",
         null,
         null,
         "08.11.2018 08:30",
         "141.5",
         "141.0",
         "3.0"
        ],
        [
         "12",
         "1005564_4109",
         "02.10.2018 08:27",
         "20.799999999999997",
         "106.0",
         "5.7",
         "138.0",
         "11.200000000000003",
         null,
         "28.09.2018 00:00",
         "104.45",
         "104.0",
         "2.0"
        ],
        [
         "13",
         "1005564_4109",
         "02.10.2018 08:30",
         null,
         null,
         null,
         "137.0",
         null,
         null,
         "28.09.2018 00:00",
         "104.5",
         "104.0",
         "2.0"
        ],
        [
         "14",
         "1005564_4109",
         "02.10.2018 15:11",
         "22.25",
         "106.0",
         "3.1",
         "138.0",
         "9.75",
         null,
         "28.09.2018 00:00",
         "111.18333333333334",
         "111.0",
         "2.0"
        ],
        [
         "15",
         "1005564_4109",
         "02.10.2018 15:25",
         null,
         "100.0",
         null,
         "133.0",
         null,
         null,
         "28.09.2018 00:00",
         "111.41666666666667",
         "111.0",
         "2.0"
        ],
        [
         "16",
         "1005564_4109",
         "02.10.2018 18:20",
         "24.4",
         "106.0",
         "2.4",
         "140.0",
         "9.599999999999994",
         "9.599999999999994",
         "28.09.2018 00:00",
         "114.33333333333333",
         "114.0",
         "2.0"
        ],
        [
         "17",
         "1005564_4109",
         "03.10.2018 01:56",
         "25.75",
         "107.0",
         "1.4",
         "141.0",
         "8.25",
         "8.25",
         "28.09.2018 00:00",
         "121.93333333333334",
         "121.0",
         "2.0"
        ],
        [
         "18",
         "1005564_4109",
         "03.10.2018 04:03",
         "26.049999999999997",
         "108.0",
         "1.3",
         "142.0",
         "7.949999999999989",
         "7.949999999999989",
         "28.09.2018 00:00",
         "124.05",
         "124.0",
         "2.0"
        ],
        [
         "19",
         "1005564_4109",
         "03.10.2018 06:25",
         null,
         "104.0",
         null,
         "139.0",
         null,
         null,
         "28.09.2018 00:00",
         "126.41666666666667",
         "126.0",
         "2.0"
        ],
        [
         "20",
         "1005564_4109",
         "03.10.2018 06:52",
         "26.85",
         "106.0",
         "1.0",
         "141.0",
         "8.150000000000006",
         "8.150000000000006",
         "28.09.2018 00:00",
         "126.86666666666666",
         "126.0",
         "2.0"
        ],
        [
         "21",
         "1005564_4109",
         "04.10.2018 04:58",
         null,
         null,
         null,
         "139.0",
         null,
         null,
         "28.09.2018 00:00",
         "148.96666666666667",
         "148.0",
         "2.0"
        ],
        [
         "22",
         "1005564_4109",
         "06.10.2018 06:00",
         null,
         null,
         null,
         "141.0",
         null,
         null,
         "28.09.2018 00:00",
         "198.0",
         "198.0",
         "2.0"
        ],
        [
         "23",
         "1005564_4109",
         "10.10.2018 06:00",
         null,
         null,
         null,
         "138.0",
         null,
         null,
         "28.09.2018 00:00",
         "294.0",
         "294.0",
         "2.0"
        ],
        [
         "24",
         "1005564_4109",
         "11.10.2018 06:00",
         null,
         null,
         null,
         "138.0",
         null,
         null,
         "28.09.2018 00:00",
         "318.0",
         "318.0",
         "2.0"
        ],
        [
         "25",
         "1005564_4109",
         "17.10.2018 06:00",
         null,
         null,
         null,
         "138.0",
         null,
         null,
         "28.09.2018 00:00",
         "462.0",
         "462.0",
         "2.0"
        ],
        [
         "26",
         "1005564_4109",
         "23.10.2018 07:00",
         null,
         null,
         null,
         "140.0",
         null,
         null,
         "28.09.2018 00:00",
         "607.0",
         "607.0",
         "2.0"
        ],
        [
         "27",
         "1005564_4109",
         "25.10.2018 07:00",
         null,
         null,
         null,
         "136.0",
         null,
         null,
         "28.09.2018 00:00",
         "655.0",
         "655.0",
         "2.0"
        ],
        [
         "28",
         "1005798_9217",
         "11.09.2018 02:00",
         null,
         null,
         null,
         "137.0",
         null,
         null,
         "08.09.2018 09:00",
         "65.0",
         "65.0",
         "1.0"
        ],
        [
         "29",
         "1005798_9217",
         "12.09.2018 06:00",
         null,
         null,
         null,
         "139.0",
         null,
         null,
         "08.09.2018 09:00",
         "93.0",
         "93.0",
         "1.0"
        ],
        [
         "30",
         "1005798_9217",
         "17.09.2018 06:00",
         null,
         null,
         null,
         "135.0",
         null,
         null,
         "08.09.2018 09:00",
         "213.0",
         "213.0",
         "1.0"
        ],
        [
         "31",
         "1007022_3636",
         "02.04.2019 06:00",
         null,
         null,
         null,
         "140.0",
         null,
         null,
         null,
         null,
         null,
         null
        ],
        [
         "32",
         "1007022_3636",
         "03.04.2019 06:00",
         null,
         null,
         null,
         "140.0",
         null,
         null,
         null,
         null,
         null,
         null
        ],
        [
         "33",
         "1007022_3636",
         "20.03.2019 10:30",
         null,
         "99.0",
         null,
         "142.0",
         null,
         null,
         null,
         null,
         null,
         null
        ],
        [
         "34",
         "1007022_3636",
         "21.03.2019 06:00",
         null,
         null,
         null,
         "140.0",
         null,
         null,
         null,
         null,
         null,
         null
        ],
        [
         "35",
         "1007022_3636",
         "25.03.2019 00:18",
         "24.200000000000003",
         "103.0",
         "0.9",
         "133.0",
         "5.799999999999997",
         "5.799999999999997",
         null,
         null,
         null,
         null
        ],
        [
         "36",
         "1007022_3636",
         "25.03.2019 00:40",
         null,
         null,
         null,
         "137.0",
         null,
         null,
         null,
         null,
         null,
         null
        ],
        [
         "37",
         "1010200_0582",
         "31.10.2019 06:00",
         null,
         null,
         null,
         "135.0",
         null,
         null,
         "29.10.2019 19:30",
         "34.5",
         "34.0",
         "1.0"
        ],
        [
         "38",
         "1010383_3998",
         "10.06.2021 16:40",
         null,
         null,
         null,
         "141.0",
         null,
         null,
         "10.06.2021 14:00",
         "2.6666666666666665",
         "2.0",
         "0.0"
        ],
        [
         "39",
         "1010383_3998",
         "11.06.2021 05:50",
         null,
         null,
         null,
         "139.0",
         null,
         null,
         "10.06.2021 14:00",
         "15.833333333333334",
         "15.0",
         "0.0"
        ],
        [
         "40",
         "1011794_0030",
         "22.01.2018 13:26",
         "29.75",
         "99.0",
         "2.1",
         "138.0",
         "9.25",
         "9.25",
         "22.01.2018 11:30",
         "1.9333333333333333",
         "1.0",
         "6.0"
        ],
        [
         "41",
         "1011794_0030",
         "22.01.2018 13:30",
         null,
         null,
         null,
         "143.0",
         null,
         null,
         "22.01.2018 11:30",
         "2.0",
         "2.0",
         "6.0"
        ],
        [
         "42",
         "1011794_0030",
         "23.01.2018 06:40",
         null,
         null,
         null,
         "141.0",
         null,
         null,
         "22.01.2018 11:30",
         "19.166666666666668",
         "19.0",
         "6.0"
        ],
        [
         "43",
         "1011794_0030",
         "24.01.2018 06:45",
         null,
         null,
         null,
         "139.0",
         null,
         null,
         "22.01.2018 11:30",
         "43.25",
         "43.0",
         "6.0"
        ],
        [
         "44",
         "1011794_0030",
         "25.01.2018 06:00",
         null,
         null,
         null,
         "135.0",
         null,
         null,
         "22.01.2018 11:30",
         "66.5",
         "66.0",
         "6.0"
        ],
        [
         "45",
         "1011794_0030",
         "26.01.2018 06:00",
         null,
         null,
         null,
         "125.0",
         null,
         null,
         "22.01.2018 11:30",
         "90.5",
         "90.0",
         "6.0"
        ],
        [
         "46",
         "1012915_7747",
         "04.06.2018 06:00",
         null,
         null,
         null,
         "137.0",
         null,
         null,
         "20.05.2018 16:00",
         "350.0",
         "350.0",
         "0.0"
        ],
        [
         "47",
         "1012915_7747",
         "12.06.2018 06:00",
         null,
         null,
         null,
         "136.0",
         null,
         null,
         "20.05.2018 16:00",
         "542.0",
         "542.0",
         "0.0"
        ],
        [
         "48",
         "1012915_7747",
         "20.05.2018 19:20",
         null,
         null,
         null,
         "140.0",
         null,
         null,
         "20.05.2018 16:00",
         "3.3333333333333335",
         "3.0",
         "0.0"
        ],
        [
         "49",
         "1012915_7747",
         "21.05.2018 06:00",
         null,
         null,
         null,
         "140.0",
         null,
         null,
         "20.05.2018 16:00",
         "14.0",
         "14.0",
         "0.0"
        ]
       ],
       "shape": {
        "columns": 12,
        "rows": 26530
       }
      },
      "text/html": [
       "<div>\n",
       "<style scoped>\n",
       "    .dataframe tbody tr th:only-of-type {\n",
       "        vertical-align: middle;\n",
       "    }\n",
       "\n",
       "    .dataframe tbody tr th {\n",
       "        vertical-align: top;\n",
       "    }\n",
       "\n",
       "    .dataframe thead th {\n",
       "        text-align: right;\n",
       "    }\n",
       "</style>\n",
       "<table border=\"1\" class=\"dataframe\">\n",
       "  <thead>\n",
       "    <tr style=\"text-align: right;\">\n",
       "      <th></th>\n",
       "      <th>case_admission_id</th>\n",
       "      <th>sample_date</th>\n",
       "      <th>HCO3</th>\n",
       "      <th>chlore</th>\n",
       "      <th>lactate</th>\n",
       "      <th>sodium</th>\n",
       "      <th>anion_gap</th>\n",
       "      <th>non_lactate_anion_gap</th>\n",
       "      <th>T0</th>\n",
       "      <th>relative_sample_date</th>\n",
       "      <th>relative_sample_date_hcat</th>\n",
       "      <th>3M mRS</th>\n",
       "    </tr>\n",
       "  </thead>\n",
       "  <tbody>\n",
       "    <tr>\n",
       "      <th>0</th>\n",
       "      <td>100023_4784</td>\n",
       "      <td>19.11.2019 04:35</td>\n",
       "      <td>25.40</td>\n",
       "      <td>106.0</td>\n",
       "      <td>1.6</td>\n",
       "      <td>140.0</td>\n",
       "      <td>8.60</td>\n",
       "      <td>8.60</td>\n",
       "      <td>19.11.2019 00:30</td>\n",
       "      <td>4.083333</td>\n",
       "      <td>4.0</td>\n",
       "      <td>0.0</td>\n",
       "    </tr>\n",
       "    <tr>\n",
       "      <th>1</th>\n",
       "      <td>100023_4784</td>\n",
       "      <td>19.11.2019 04:40</td>\n",
       "      <td>NaN</td>\n",
       "      <td>NaN</td>\n",
       "      <td>NaN</td>\n",
       "      <td>140.0</td>\n",
       "      <td>NaN</td>\n",
       "      <td>NaN</td>\n",
       "      <td>19.11.2019 00:30</td>\n",
       "      <td>4.166667</td>\n",
       "      <td>4.0</td>\n",
       "      <td>0.0</td>\n",
       "    </tr>\n",
       "    <tr>\n",
       "      <th>2</th>\n",
       "      <td>100023_4784</td>\n",
       "      <td>19.11.2019 06:50</td>\n",
       "      <td>NaN</td>\n",
       "      <td>NaN</td>\n",
       "      <td>NaN</td>\n",
       "      <td>136.0</td>\n",
       "      <td>NaN</td>\n",
       "      <td>NaN</td>\n",
       "      <td>19.11.2019 00:30</td>\n",
       "      <td>6.333333</td>\n",
       "      <td>6.0</td>\n",
       "      <td>0.0</td>\n",
       "    </tr>\n",
       "    <tr>\n",
       "      <th>3</th>\n",
       "      <td>1002417_9090</td>\n",
       "      <td>03.03.2020 09:50</td>\n",
       "      <td>24.95</td>\n",
       "      <td>100.0</td>\n",
       "      <td>3.9</td>\n",
       "      <td>135.0</td>\n",
       "      <td>10.05</td>\n",
       "      <td>NaN</td>\n",
       "      <td>03.03.2020 03:30</td>\n",
       "      <td>6.333333</td>\n",
       "      <td>6.0</td>\n",
       "      <td>4.0</td>\n",
       "    </tr>\n",
       "    <tr>\n",
       "      <th>4</th>\n",
       "      <td>1002417_9090</td>\n",
       "      <td>03.03.2020 09:55</td>\n",
       "      <td>NaN</td>\n",
       "      <td>NaN</td>\n",
       "      <td>NaN</td>\n",
       "      <td>134.0</td>\n",
       "      <td>NaN</td>\n",
       "      <td>NaN</td>\n",
       "      <td>03.03.2020 03:30</td>\n",
       "      <td>6.416667</td>\n",
       "      <td>6.0</td>\n",
       "      <td>4.0</td>\n",
       "    </tr>\n",
       "    <tr>\n",
       "      <th>...</th>\n",
       "      <td>...</td>\n",
       "      <td>...</td>\n",
       "      <td>...</td>\n",
       "      <td>...</td>\n",
       "      <td>...</td>\n",
       "      <td>...</td>\n",
       "      <td>...</td>\n",
       "      <td>...</td>\n",
       "      <td>...</td>\n",
       "      <td>...</td>\n",
       "      <td>...</td>\n",
       "      <td>...</td>\n",
       "    </tr>\n",
       "    <tr>\n",
       "      <th>26525</th>\n",
       "      <td>99861_8196</td>\n",
       "      <td>17.04.2020 00:25</td>\n",
       "      <td>NaN</td>\n",
       "      <td>NaN</td>\n",
       "      <td>NaN</td>\n",
       "      <td>136.0</td>\n",
       "      <td>NaN</td>\n",
       "      <td>NaN</td>\n",
       "      <td>10.04.2020 23:00</td>\n",
       "      <td>145.416667</td>\n",
       "      <td>145.0</td>\n",
       "      <td>3.0</td>\n",
       "    </tr>\n",
       "    <tr>\n",
       "      <th>26526</th>\n",
       "      <td>99960_7802</td>\n",
       "      <td>21.03.2020 23:00</td>\n",
       "      <td>NaN</td>\n",
       "      <td>NaN</td>\n",
       "      <td>NaN</td>\n",
       "      <td>137.0</td>\n",
       "      <td>NaN</td>\n",
       "      <td>NaN</td>\n",
       "      <td>NaN</td>\n",
       "      <td>NaN</td>\n",
       "      <td>NaN</td>\n",
       "      <td>NaN</td>\n",
       "    </tr>\n",
       "    <tr>\n",
       "      <th>26527</th>\n",
       "      <td>99960_7802</td>\n",
       "      <td>21.03.2020 23:14</td>\n",
       "      <td>23.95</td>\n",
       "      <td>105.0</td>\n",
       "      <td>1.7</td>\n",
       "      <td>133.0</td>\n",
       "      <td>4.05</td>\n",
       "      <td>4.05</td>\n",
       "      <td>NaN</td>\n",
       "      <td>NaN</td>\n",
       "      <td>NaN</td>\n",
       "      <td>NaN</td>\n",
       "    </tr>\n",
       "    <tr>\n",
       "      <th>26528</th>\n",
       "      <td>9996_3256</td>\n",
       "      <td>05.11.2020 17:05</td>\n",
       "      <td>NaN</td>\n",
       "      <td>NaN</td>\n",
       "      <td>NaN</td>\n",
       "      <td>141.0</td>\n",
       "      <td>NaN</td>\n",
       "      <td>NaN</td>\n",
       "      <td>04.11.2020 12:00</td>\n",
       "      <td>29.083333</td>\n",
       "      <td>29.0</td>\n",
       "      <td>0.0</td>\n",
       "    </tr>\n",
       "    <tr>\n",
       "      <th>26529</th>\n",
       "      <td>9996_3256</td>\n",
       "      <td>06.11.2020 07:00</td>\n",
       "      <td>NaN</td>\n",
       "      <td>NaN</td>\n",
       "      <td>NaN</td>\n",
       "      <td>138.0</td>\n",
       "      <td>NaN</td>\n",
       "      <td>NaN</td>\n",
       "      <td>04.11.2020 12:00</td>\n",
       "      <td>43.000000</td>\n",
       "      <td>43.0</td>\n",
       "      <td>0.0</td>\n",
       "    </tr>\n",
       "  </tbody>\n",
       "</table>\n",
       "<p>26530 rows × 12 columns</p>\n",
       "</div>"
      ],
      "text/plain": [
       "      case_admission_id       sample_date   HCO3  chlore  lactate  sodium  \\\n",
       "0           100023_4784  19.11.2019 04:35  25.40   106.0      1.6   140.0   \n",
       "1           100023_4784  19.11.2019 04:40    NaN     NaN      NaN   140.0   \n",
       "2           100023_4784  19.11.2019 06:50    NaN     NaN      NaN   136.0   \n",
       "3          1002417_9090  03.03.2020 09:50  24.95   100.0      3.9   135.0   \n",
       "4          1002417_9090  03.03.2020 09:55    NaN     NaN      NaN   134.0   \n",
       "...                 ...               ...    ...     ...      ...     ...   \n",
       "26525        99861_8196  17.04.2020 00:25    NaN     NaN      NaN   136.0   \n",
       "26526        99960_7802  21.03.2020 23:00    NaN     NaN      NaN   137.0   \n",
       "26527        99960_7802  21.03.2020 23:14  23.95   105.0      1.7   133.0   \n",
       "26528         9996_3256  05.11.2020 17:05    NaN     NaN      NaN   141.0   \n",
       "26529         9996_3256  06.11.2020 07:00    NaN     NaN      NaN   138.0   \n",
       "\n",
       "       anion_gap  non_lactate_anion_gap                T0  \\\n",
       "0           8.60                   8.60  19.11.2019 00:30   \n",
       "1            NaN                    NaN  19.11.2019 00:30   \n",
       "2            NaN                    NaN  19.11.2019 00:30   \n",
       "3          10.05                    NaN  03.03.2020 03:30   \n",
       "4            NaN                    NaN  03.03.2020 03:30   \n",
       "...          ...                    ...               ...   \n",
       "26525        NaN                    NaN  10.04.2020 23:00   \n",
       "26526        NaN                    NaN               NaN   \n",
       "26527       4.05                   4.05               NaN   \n",
       "26528        NaN                    NaN  04.11.2020 12:00   \n",
       "26529        NaN                    NaN  04.11.2020 12:00   \n",
       "\n",
       "       relative_sample_date  relative_sample_date_hcat  3M mRS  \n",
       "0                  4.083333                        4.0     0.0  \n",
       "1                  4.166667                        4.0     0.0  \n",
       "2                  6.333333                        6.0     0.0  \n",
       "3                  6.333333                        6.0     4.0  \n",
       "4                  6.416667                        6.0     4.0  \n",
       "...                     ...                        ...     ...  \n",
       "26525            145.416667                      145.0     3.0  \n",
       "26526                   NaN                        NaN     NaN  \n",
       "26527                   NaN                        NaN     NaN  \n",
       "26528             29.083333                       29.0     0.0  \n",
       "26529             43.000000                       43.0     0.0  \n",
       "\n",
       "[26530 rows x 12 columns]"
      ]
     },
     "execution_count": 40,
     "metadata": {},
     "output_type": "execute_result"
    }
   ],
   "source": [
    "preprocessed_anion_gap_df"
   ]
  },
  {
   "cell_type": "code",
   "execution_count": null,
   "id": "ea293b3a",
   "metadata": {},
   "outputs": [
    {
     "name": "stdout",
     "output_type": "stream",
     "text": [
      "Pearson correlation: 0.016678016656211006, p-value: 0.20641105631556753\n"
     ]
    },
    {
     "name": "stderr",
     "output_type": "stream",
     "text": [
      "/var/folders/9v/1s329cwj32jc2kkx24p8jp980000gp/T/ipykernel_11715/1694633995.py:2: SettingWithCopyWarning: \n",
      "A value is trying to be set on a copy of a slice from a DataFrame.\n",
      "Try using .loc[row_indexer,col_indexer] = value instead\n",
      "\n",
      "See the caveats in the documentation: https://pandas.pydata.org/pandas-docs/stable/user_guide/indexing.html#returning-a-view-versus-a-copy\n",
      "  temp_df['3M mRS'] = temp_df['3M mRS'].astype(int)\n"
     ]
    }
   ],
   "source": [
    "# Overall correlation between non-lactate anion gap and 3M mRS\n",
    "\n",
    "temp_df = preprocessed_anion_gap_df[preprocessed_anion_gap_df['non_lactate_anion_gap'].notna() & preprocessed_anion_gap_df['3M mRS'].notna()]\n",
    "temp_df['3M mRS'] = temp_df['3M mRS'].astype(int)\n",
    "corr, p_value = pearsonr(temp_df['non_lactate_anion_gap'], temp_df['3M mRS'])\n",
    "print(f'Pearson correlation: {corr}, p-value: {p_value}')"
   ]
  },
  {
   "cell_type": "code",
   "execution_count": 43,
   "id": "17ae917b",
   "metadata": {},
   "outputs": [],
   "source": [
    "early_anion_gap_df = preprocessed_anion_gap_df[(preprocessed_anion_gap_df.relative_sample_date > -12) & (preprocessed_anion_gap_df.relative_sample_date < 24)]\n",
    "anion_gap_d2_df = preprocessed_anion_gap_df[(preprocessed_anion_gap_df.relative_sample_date > 24) & (preprocessed_anion_gap_df.relative_sample_date < 2*72)]\n",
    "anion_gap_d3_df = preprocessed_anion_gap_df[(preprocessed_anion_gap_df.relative_sample_date > 2*24) & (preprocessed_anion_gap_df.relative_sample_date < 3*72)]\n",
    "anion_gap_d_2_3_df = preprocessed_anion_gap_df[(preprocessed_anion_gap_df.relative_sample_date > 1*24) & (preprocessed_anion_gap_df.relative_sample_date < 3*72)]"
   ]
  },
  {
   "cell_type": "code",
   "execution_count": 44,
   "id": "adb17633",
   "metadata": {},
   "outputs": [
    {
     "name": "stdout",
     "output_type": "stream",
     "text": [
      "Pearson correlation: 0.004452432663779398, p-value: 0.8284866305105699\n"
     ]
    }
   ],
   "source": [
    "# correlation of early anion gap with outcome\n",
    "temp_df = early_anion_gap_df.dropna(subset=['non_lactate_anion_gap', '3M mRS'])\n",
    "corr, p_value = pearsonr(temp_df['non_lactate_anion_gap'], temp_df['3M mRS'])\n",
    "print(f'Pearson correlation: {corr}, p-value: {p_value}')"
   ]
  },
  {
   "cell_type": "code",
   "execution_count": 45,
   "id": "f3de1535",
   "metadata": {},
   "outputs": [
    {
     "name": "stdout",
     "output_type": "stream",
     "text": [
      "Pearson correlation: -0.026710566263372804, p-value: 0.24893280504811402\n"
     ]
    }
   ],
   "source": [
    "# correlation of d2 anion gap with outcome\n",
    "temp_df = anion_gap_d2_df.dropna(subset=['non_lactate_anion_gap', '3M mRS'])\n",
    "corr, p_value = pearsonr(temp_df['non_lactate_anion_gap'], temp_df['3M mRS'])\n",
    "print(f'Pearson correlation: {corr}, p-value: {p_value}')"
   ]
  },
  {
   "cell_type": "code",
   "execution_count": 46,
   "id": "55e99c93",
   "metadata": {},
   "outputs": [
    {
     "name": "stdout",
     "output_type": "stream",
     "text": [
      "Pearson correlation: 0.014410438144641591, p-value: 0.5874211621136138\n"
     ]
    }
   ],
   "source": [
    "# correlation of d3 anion gap with outcome\n",
    "temp_df = anion_gap_d3_df.dropna(subset=['non_lactate_anion_gap', '3M mRS'])\n",
    "corr, p_value = pearsonr(temp_df['non_lactate_anion_gap'], temp_df['3M mRS'])\n",
    "print(f'Pearson correlation: {corr}, p-value: {p_value}')"
   ]
  },
  {
   "cell_type": "code",
   "execution_count": 47,
   "id": "7d1dc76f",
   "metadata": {},
   "outputs": [
    {
     "name": "stdout",
     "output_type": "stream",
     "text": [
      "Pearson correlation: 0.0011540214250809692, p-value: 0.9566323922681046\n"
     ]
    }
   ],
   "source": [
    "# correlation of d2-d3 anion gap with outcome\n",
    "temp_df = anion_gap_d_2_3_df.dropna(subset=['non_lactate_anion_gap', '3M mRS'])\n",
    "corr, p_value = pearsonr(temp_df['non_lactate_anion_gap'], temp_df['3M mRS'])\n",
    "print(f'Pearson correlation: {corr}, p-value: {p_value}')\n"
   ]
  },
  {
   "cell_type": "code",
   "execution_count": null,
   "id": "003c5903",
   "metadata": {},
   "outputs": [],
   "source": []
  }
 ],
 "metadata": {
  "kernelspec": {
   "display_name": "opsum",
   "language": "python",
   "name": "python3"
  },
  "language_info": {
   "codemirror_mode": {
    "name": "ipython",
    "version": 3
   },
   "file_extension": ".py",
   "mimetype": "text/x-python",
   "name": "python",
   "nbconvert_exporter": "python",
   "pygments_lexer": "ipython3",
   "version": "3.8.11"
  }
 },
 "nbformat": 4,
 "nbformat_minor": 5
}
