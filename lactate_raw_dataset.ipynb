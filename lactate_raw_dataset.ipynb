{
 "cells": [
  {
   "cell_type": "code",
   "execution_count": 1,
   "id": "589757e4",
   "metadata": {},
   "outputs": [],
   "source": [
    "import pandas as pd\n",
    "import os\n",
    "from scipy.stats import pearsonr\n",
    "from statsmodels.miscmodels.ordinal_model import OrderedModel\n",
    "import seaborn as sns\n",
    "import matplotlib.pyplot as plt\n",
    "from utils import create_registry_case_identification_column, create_ehr_case_identification_column, patient_selection\n",
    "from utils import load_data_from_main_dir\n",
    "from lab_preprocessing import preprocess_labs\n",
    "from outcome_preprocessing import preprocess_outcomes\n"
   ]
  },
  {
   "cell_type": "code",
   "execution_count": 2,
   "id": "bdca6c3d",
   "metadata": {},
   "outputs": [],
   "source": [
    "eds_path = '/Users/jk1/stroke_datasets/stroke_unit_dataset/per_value/Extraction_20221117/eds_j1.csv'\n",
    "ehr_data_path = '/Users/jk1/stroke_datasets/stroke_unit_dataset/per_value/Extraction_20221117/'\n",
    "registry_path = '/Users/jk1/Library/CloudStorage/OneDrive-unige.ch/stroke_research/geneva_stroke_unit_dataset/data/stroke_registry/post_hoc_modified/stroke_registry_post_hoc_modified.xlsx'"
   ]
  },
  {
   "cell_type": "code",
   "execution_count": 3,
   "id": "2905607b",
   "metadata": {},
   "outputs": [],
   "source": [
    "eds_df = pd.read_csv(eds_path, delimiter=';', encoding='utf-8',\n",
    "                         dtype=str)\n",
    "registry_df = pd.read_excel(registry_path, dtype=str)\n"
   ]
  },
  {
   "cell_type": "code",
   "execution_count": 4,
   "id": "43b8dd3f",
   "metadata": {},
   "outputs": [],
   "source": [
    "registry_df['case_admission_id'] = create_registry_case_identification_column(registry_df)\n",
    "eds_df['case_admission_id'] = create_ehr_case_identification_column(eds_df)"
   ]
  },
  {
   "cell_type": "code",
   "execution_count": 5,
   "id": "aa410071",
   "metadata": {},
   "outputs": [
    {
     "data": {
      "application/vnd.microsoft.datawrangler.viewer.v0+json": {
       "columns": [
        {
         "name": "index",
         "rawType": "int64",
         "type": "integer"
        },
        {
         "name": "nr",
         "rawType": "object",
         "type": "string"
        },
        {
         "name": "patient_id",
         "rawType": "object",
         "type": "string"
        },
        {
         "name": "patient_id_gc",
         "rawType": "object",
         "type": "string"
        },
        {
         "name": "patient_id_manual",
         "rawType": "object",
         "type": "string"
        },
        {
         "name": "eds_end_4digit",
         "rawType": "object",
         "type": "string"
        },
        {
         "name": "eds_manual",
         "rawType": "object",
         "type": "string"
        },
        {
         "name": "DOB",
         "rawType": "object",
         "type": "string"
        },
        {
         "name": "begin_date",
         "rawType": "object",
         "type": "string"
        },
        {
         "name": "end_date",
         "rawType": "object",
         "type": "string"
        },
        {
         "name": "death_date",
         "rawType": "object",
         "type": "string"
        },
        {
         "name": "death_hosp",
         "rawType": "object",
         "type": "string"
        },
        {
         "name": "stroke_onset_date",
         "rawType": "object",
         "type": "string"
        },
        {
         "name": "Referral",
         "rawType": "object",
         "type": "string"
        },
        {
         "name": "multiple_id",
         "rawType": "object",
         "type": "string"
        },
        {
         "name": "eds_final_id",
         "rawType": "object",
         "type": "string"
        },
        {
         "name": "eds_final_begin",
         "rawType": "object",
         "type": "string"
        },
        {
         "name": "eds_final_end",
         "rawType": "object",
         "type": "string"
        },
        {
         "name": "eds_final_patient_id",
         "rawType": "object",
         "type": "string"
        },
        {
         "name": "eds_final_patient_id_gc",
         "rawType": "object",
         "type": "string"
        },
        {
         "name": "eds_final_birth",
         "rawType": "object",
         "type": "string"
        },
        {
         "name": "eds_final_death",
         "rawType": "object",
         "type": "string"
        },
        {
         "name": "eds_final_birth_str",
         "rawType": "object",
         "type": "string"
        },
        {
         "name": "match_by",
         "rawType": "object",
         "type": "string"
        },
        {
         "name": "date_from",
         "rawType": "object",
         "type": "string"
        },
        {
         "name": "date_to",
         "rawType": "object",
         "type": "string"
        },
        {
         "name": "case_admission_id",
         "rawType": "object",
         "type": "string"
        }
       ],
       "ref": "5f289120-3a9d-47ce-abc5-a44c634693f4",
       "rows": [
        [
         "0",
         "0",
         "100503",
         "non renseigné",
         null,
         "884",
         null,
         "31.10.1933 00:00",
         "08.11.2018 13:21",
         "16.11.2018 13:00",
         null,
         null,
         "08.11.2018 08:30",
         "Emergency service (144)",
         "False",
         "15270884",
         "08.11.2018 13:21",
         "16.11.2018 18:16",
         "100503",
         "non renseigné",
         null,
         null,
         null,
         "2 = patient_id, begin_date",
         "08.11.2018 00:00",
         "09.11.2018 00:00",
         "100503_0884"
        ],
        [
         "1",
         "1",
         "1005564",
         "non renseigné",
         null,
         "4109",
         null,
         "11.03.1957 00:00",
         "02.10.2018 08:11",
         "22.10.2018 09:35",
         null,
         null,
         "28.09.2018 00:00",
         "Emergency service (144)",
         "False",
         "15224109",
         "02.10.2018 08:11",
         "22.10.2018 09:35",
         "1005564",
         "non renseigné",
         "11.03.1957 00:00",
         null,
         "11.03.1957",
         "1 = patient_id, begin_date, eds",
         "28.09.2018 00:00",
         "29.09.2018 00:00",
         "1005564_4109"
        ],
        [
         "2",
         "2",
         "1005798",
         "Oui",
         null,
         "9217",
         null,
         "15.03.1950 00:00",
         "10.09.2018 21:36",
         "18.09.2018 17:47",
         null,
         null,
         "08.09.2018 09:00",
         "Other hospital",
         "False",
         "15199217",
         "10.09.2018 21:36",
         "18.09.2018 17:47",
         "1005798",
         "Oui",
         "15.03.1950 00:00",
         null,
         "15.03.1950",
         "1 = patient_id, begin_date, eds",
         "08.09.2018 00:00",
         "09.09.2018 00:00",
         "1005798_9217"
        ],
        [
         "3",
         "3",
         "1011794",
         "non renseigné",
         null,
         "30",
         null,
         "23.07.1921 00:00",
         "22.01.2018 13:13",
         null,
         "01.02.2018 01:00",
         "True",
         "22.01.2018 11:30",
         "Emergency service (144)",
         "False",
         "14920030",
         "22.01.2018 13:13",
         "01.02.2018 01:00",
         "1011794",
         "non renseigné",
         null,
         null,
         null,
         "2 = patient_id, begin_date",
         "22.01.2018 00:00",
         "23.01.2018 00:00",
         "1011794_0030"
        ],
        [
         "4",
         "4",
         "1012915",
         "non renseigné",
         null,
         "7747",
         null,
         "29.08.1935 00:00",
         "20.05.2018 19:07",
         "24.05.2018 12:37",
         null,
         null,
         "20.05.2018 16:00",
         "Emergency service (144)",
         "False",
         "15067747",
         "20.05.2018 19:07",
         "15.06.2018 12:39",
         "1012915",
         "non renseigné",
         "29.08.1935 00:00",
         null,
         "29.08.1935",
         "1 = patient_id, begin_date, eds",
         "20.05.2018 00:00",
         "21.05.2018 00:00",
         "1012915_7747"
        ]
       ],
       "shape": {
        "columns": 26,
        "rows": 5
       }
      },
      "text/html": [
       "<div>\n",
       "<style scoped>\n",
       "    .dataframe tbody tr th:only-of-type {\n",
       "        vertical-align: middle;\n",
       "    }\n",
       "\n",
       "    .dataframe tbody tr th {\n",
       "        vertical-align: top;\n",
       "    }\n",
       "\n",
       "    .dataframe thead th {\n",
       "        text-align: right;\n",
       "    }\n",
       "</style>\n",
       "<table border=\"1\" class=\"dataframe\">\n",
       "  <thead>\n",
       "    <tr style=\"text-align: right;\">\n",
       "      <th></th>\n",
       "      <th>nr</th>\n",
       "      <th>patient_id</th>\n",
       "      <th>patient_id_gc</th>\n",
       "      <th>patient_id_manual</th>\n",
       "      <th>eds_end_4digit</th>\n",
       "      <th>eds_manual</th>\n",
       "      <th>DOB</th>\n",
       "      <th>begin_date</th>\n",
       "      <th>end_date</th>\n",
       "      <th>death_date</th>\n",
       "      <th>...</th>\n",
       "      <th>eds_final_end</th>\n",
       "      <th>eds_final_patient_id</th>\n",
       "      <th>eds_final_patient_id_gc</th>\n",
       "      <th>eds_final_birth</th>\n",
       "      <th>eds_final_death</th>\n",
       "      <th>eds_final_birth_str</th>\n",
       "      <th>match_by</th>\n",
       "      <th>date_from</th>\n",
       "      <th>date_to</th>\n",
       "      <th>case_admission_id</th>\n",
       "    </tr>\n",
       "  </thead>\n",
       "  <tbody>\n",
       "    <tr>\n",
       "      <th>0</th>\n",
       "      <td>0</td>\n",
       "      <td>100503</td>\n",
       "      <td>non renseigné</td>\n",
       "      <td>NaN</td>\n",
       "      <td>884</td>\n",
       "      <td>NaN</td>\n",
       "      <td>31.10.1933 00:00</td>\n",
       "      <td>08.11.2018 13:21</td>\n",
       "      <td>16.11.2018 13:00</td>\n",
       "      <td>NaN</td>\n",
       "      <td>...</td>\n",
       "      <td>16.11.2018 18:16</td>\n",
       "      <td>100503</td>\n",
       "      <td>non renseigné</td>\n",
       "      <td>NaN</td>\n",
       "      <td>NaN</td>\n",
       "      <td>NaN</td>\n",
       "      <td>2 = patient_id, begin_date</td>\n",
       "      <td>08.11.2018 00:00</td>\n",
       "      <td>09.11.2018 00:00</td>\n",
       "      <td>100503_0884</td>\n",
       "    </tr>\n",
       "    <tr>\n",
       "      <th>1</th>\n",
       "      <td>1</td>\n",
       "      <td>1005564</td>\n",
       "      <td>non renseigné</td>\n",
       "      <td>NaN</td>\n",
       "      <td>4109</td>\n",
       "      <td>NaN</td>\n",
       "      <td>11.03.1957 00:00</td>\n",
       "      <td>02.10.2018 08:11</td>\n",
       "      <td>22.10.2018 09:35</td>\n",
       "      <td>NaN</td>\n",
       "      <td>...</td>\n",
       "      <td>22.10.2018 09:35</td>\n",
       "      <td>1005564</td>\n",
       "      <td>non renseigné</td>\n",
       "      <td>11.03.1957 00:00</td>\n",
       "      <td>NaN</td>\n",
       "      <td>11.03.1957</td>\n",
       "      <td>1 = patient_id, begin_date, eds</td>\n",
       "      <td>28.09.2018 00:00</td>\n",
       "      <td>29.09.2018 00:00</td>\n",
       "      <td>1005564_4109</td>\n",
       "    </tr>\n",
       "    <tr>\n",
       "      <th>2</th>\n",
       "      <td>2</td>\n",
       "      <td>1005798</td>\n",
       "      <td>Oui</td>\n",
       "      <td>NaN</td>\n",
       "      <td>9217</td>\n",
       "      <td>NaN</td>\n",
       "      <td>15.03.1950 00:00</td>\n",
       "      <td>10.09.2018 21:36</td>\n",
       "      <td>18.09.2018 17:47</td>\n",
       "      <td>NaN</td>\n",
       "      <td>...</td>\n",
       "      <td>18.09.2018 17:47</td>\n",
       "      <td>1005798</td>\n",
       "      <td>Oui</td>\n",
       "      <td>15.03.1950 00:00</td>\n",
       "      <td>NaN</td>\n",
       "      <td>15.03.1950</td>\n",
       "      <td>1 = patient_id, begin_date, eds</td>\n",
       "      <td>08.09.2018 00:00</td>\n",
       "      <td>09.09.2018 00:00</td>\n",
       "      <td>1005798_9217</td>\n",
       "    </tr>\n",
       "    <tr>\n",
       "      <th>3</th>\n",
       "      <td>3</td>\n",
       "      <td>1011794</td>\n",
       "      <td>non renseigné</td>\n",
       "      <td>NaN</td>\n",
       "      <td>30</td>\n",
       "      <td>NaN</td>\n",
       "      <td>23.07.1921 00:00</td>\n",
       "      <td>22.01.2018 13:13</td>\n",
       "      <td>NaN</td>\n",
       "      <td>01.02.2018 01:00</td>\n",
       "      <td>...</td>\n",
       "      <td>01.02.2018 01:00</td>\n",
       "      <td>1011794</td>\n",
       "      <td>non renseigné</td>\n",
       "      <td>NaN</td>\n",
       "      <td>NaN</td>\n",
       "      <td>NaN</td>\n",
       "      <td>2 = patient_id, begin_date</td>\n",
       "      <td>22.01.2018 00:00</td>\n",
       "      <td>23.01.2018 00:00</td>\n",
       "      <td>1011794_0030</td>\n",
       "    </tr>\n",
       "    <tr>\n",
       "      <th>4</th>\n",
       "      <td>4</td>\n",
       "      <td>1012915</td>\n",
       "      <td>non renseigné</td>\n",
       "      <td>NaN</td>\n",
       "      <td>7747</td>\n",
       "      <td>NaN</td>\n",
       "      <td>29.08.1935 00:00</td>\n",
       "      <td>20.05.2018 19:07</td>\n",
       "      <td>24.05.2018 12:37</td>\n",
       "      <td>NaN</td>\n",
       "      <td>...</td>\n",
       "      <td>15.06.2018 12:39</td>\n",
       "      <td>1012915</td>\n",
       "      <td>non renseigné</td>\n",
       "      <td>29.08.1935 00:00</td>\n",
       "      <td>NaN</td>\n",
       "      <td>29.08.1935</td>\n",
       "      <td>1 = patient_id, begin_date, eds</td>\n",
       "      <td>20.05.2018 00:00</td>\n",
       "      <td>21.05.2018 00:00</td>\n",
       "      <td>1012915_7747</td>\n",
       "    </tr>\n",
       "  </tbody>\n",
       "</table>\n",
       "<p>5 rows × 26 columns</p>\n",
       "</div>"
      ],
      "text/plain": [
       "  nr patient_id  patient_id_gc patient_id_manual eds_end_4digit eds_manual  \\\n",
       "0  0     100503  non renseigné               NaN            884        NaN   \n",
       "1  1    1005564  non renseigné               NaN           4109        NaN   \n",
       "2  2    1005798            Oui               NaN           9217        NaN   \n",
       "3  3    1011794  non renseigné               NaN             30        NaN   \n",
       "4  4    1012915  non renseigné               NaN           7747        NaN   \n",
       "\n",
       "                DOB        begin_date          end_date        death_date  \\\n",
       "0  31.10.1933 00:00  08.11.2018 13:21  16.11.2018 13:00               NaN   \n",
       "1  11.03.1957 00:00  02.10.2018 08:11  22.10.2018 09:35               NaN   \n",
       "2  15.03.1950 00:00  10.09.2018 21:36  18.09.2018 17:47               NaN   \n",
       "3  23.07.1921 00:00  22.01.2018 13:13               NaN  01.02.2018 01:00   \n",
       "4  29.08.1935 00:00  20.05.2018 19:07  24.05.2018 12:37               NaN   \n",
       "\n",
       "   ...     eds_final_end eds_final_patient_id eds_final_patient_id_gc  \\\n",
       "0  ...  16.11.2018 18:16               100503           non renseigné   \n",
       "1  ...  22.10.2018 09:35              1005564           non renseigné   \n",
       "2  ...  18.09.2018 17:47              1005798                     Oui   \n",
       "3  ...  01.02.2018 01:00              1011794           non renseigné   \n",
       "4  ...  15.06.2018 12:39              1012915           non renseigné   \n",
       "\n",
       "    eds_final_birth eds_final_death eds_final_birth_str  \\\n",
       "0               NaN             NaN                 NaN   \n",
       "1  11.03.1957 00:00             NaN          11.03.1957   \n",
       "2  15.03.1950 00:00             NaN          15.03.1950   \n",
       "3               NaN             NaN                 NaN   \n",
       "4  29.08.1935 00:00             NaN          29.08.1935   \n",
       "\n",
       "                          match_by         date_from           date_to  \\\n",
       "0       2 = patient_id, begin_date  08.11.2018 00:00  09.11.2018 00:00   \n",
       "1  1 = patient_id, begin_date, eds  28.09.2018 00:00  29.09.2018 00:00   \n",
       "2  1 = patient_id, begin_date, eds  08.09.2018 00:00  09.09.2018 00:00   \n",
       "3       2 = patient_id, begin_date  22.01.2018 00:00  23.01.2018 00:00   \n",
       "4  1 = patient_id, begin_date, eds  20.05.2018 00:00  21.05.2018 00:00   \n",
       "\n",
       "  case_admission_id  \n",
       "0       100503_0884  \n",
       "1      1005564_4109  \n",
       "2      1005798_9217  \n",
       "3      1011794_0030  \n",
       "4      1012915_7747  \n",
       "\n",
       "[5 rows x 26 columns]"
      ]
     },
     "execution_count": 5,
     "metadata": {},
     "output_type": "execute_result"
    }
   ],
   "source": [
    "eds_df.head()"
   ]
  },
  {
   "cell_type": "code",
   "execution_count": 6,
   "id": "b08e52b6",
   "metadata": {},
   "outputs": [
    {
     "name": "stdout",
     "output_type": "stream",
     "text": [
      "Number of records screened:  5152 after removing duplicates:  12\n",
      "153 patients refuse the use of their data\n",
      "Number of patients excluded because not ischemic stroke:  1726\n",
      "Number of patients excluded because non acute stroke:  139\n",
      "Number of patients excluded because under 18:  1\n",
      "Number of patients excluded because intra-hospital stroke:  209\n"
     ]
    }
   ],
   "source": [
    "inclusion_registry_df, excluded_patients_df = patient_selection(\n",
    "    registry_path=registry_path,\n",
    "    eds_path=eds_path,\n",
    "    exclude_patients_under_18=True,\n",
    "    exclude_non_ischemic_stroke=True,\n",
    "    exclude_non_acute_stroke=True,\n",
    "    verbose=True\n",
    ")"
   ]
  },
  {
   "cell_type": "code",
   "execution_count": 7,
   "id": "f93d5161",
   "metadata": {},
   "outputs": [
    {
     "name": "stdout",
     "output_type": "stream",
     "text": [
      "Number of patients in EDS after selection: 3121\n"
     ]
    }
   ],
   "source": [
    "eds_df['case_admission_id'] = eds_df[eds_df['case_admission_id'].isin(inclusion_registry_df['case_admission_id'])]['case_admission_id']\n",
    "print(f'Number of patients in EDS after selection: {eds_df.patient_id.nunique()}')"
   ]
  },
  {
   "cell_type": "code",
   "execution_count": 8,
   "id": "2083ff1a",
   "metadata": {},
   "outputs": [
    {
     "data": {
      "text/plain": [
       "5164"
      ]
     },
     "execution_count": 8,
     "metadata": {},
     "output_type": "execute_result"
    }
   ],
   "source": [
    "registry_df.case_admission_id.nunique()"
   ]
  },
  {
   "cell_type": "code",
   "execution_count": 9,
   "id": "189763b2",
   "metadata": {},
   "outputs": [],
   "source": [
    "lab_file_start = 'labo'\n",
    "lab_df = load_data_from_main_dir(ehr_data_path, lab_file_start)"
   ]
  },
  {
   "cell_type": "code",
   "execution_count": 10,
   "id": "7bed43d3",
   "metadata": {},
   "outputs": [],
   "source": [
    "lab_df['case_admission_id'] = create_ehr_case_identification_column(lab_df)"
   ]
  },
  {
   "cell_type": "code",
   "execution_count": 11,
   "id": "6b9bfa66",
   "metadata": {},
   "outputs": [
    {
     "name": "stdout",
     "output_type": "stream",
     "text": [
      "lactate ['mmol/l']\n",
      "Remaining non-numerical values: []\n",
      "Excluding 0 observations because out of range\n",
      "Median observations per case admission id:\n",
      "              median_observations_per_case_admission_id\n",
      "dosage_label                                           \n",
      "lactate                                             1.0\n",
      "Descriptive statistics:\n",
      "               count      mean       std  min  25%  50%  75%   max\n",
      "dosage_label                                                      \n",
      "lactate       9132.0  1.341251  1.186077  0.1  0.7  1.0  1.5  21.0\n"
     ]
    },
    {
     "name": "stderr",
     "output_type": "stream",
     "text": [
      "/Users/jk1/stroke_research/collaterals/lab_preprocessing.py:196: FutureWarning: The default value of numeric_only in DataFrameGroupBy.median is deprecated. In a future version, numeric_only will default to False. Either specify numeric_only or select only columns which should be valid for the function.\n",
      "  median_observations_per_case_admission_id_df = median_observations_per_case_admission_id.groupby('dosage_label').median()\n"
     ]
    }
   ],
   "source": [
    "preprocessed_lactate_df = preprocess_labs(lab_df, [\"lactate\"])"
   ]
  },
  {
   "cell_type": "code",
   "execution_count": 12,
   "id": "f91fa07c",
   "metadata": {},
   "outputs": [],
   "source": [
    "preprocessed_lactate_df = preprocessed_lactate_df[preprocessed_lactate_df['case_admission_id'].isin(inclusion_registry_df['case_admission_id'])]"
   ]
  },
  {
   "cell_type": "code",
   "execution_count": 13,
   "id": "dc90d61d",
   "metadata": {},
   "outputs": [
    {
     "data": {
      "application/vnd.microsoft.datawrangler.viewer.v0+json": {
       "columns": [
        {
         "name": "index",
         "rawType": "int64",
         "type": "integer"
        },
        {
         "name": "patient_id_gc",
         "rawType": "object",
         "type": "string"
        },
        {
         "name": "eds_final_patient_id_gc",
         "rawType": "object",
         "type": "string"
        },
        {
         "name": "sample_date",
         "rawType": "object",
         "type": "string"
        },
        {
         "name": "analyse_label",
         "rawType": "object",
         "type": "string"
        },
        {
         "name": "dosage_label",
         "rawType": "object",
         "type": "string"
        },
        {
         "name": "material_label",
         "rawType": "object",
         "type": "string"
        },
        {
         "name": "unit_of_measure",
         "rawType": "object",
         "type": "string"
        },
        {
         "name": "value",
         "rawType": "float64",
         "type": "float"
        },
        {
         "name": "lower_limit",
         "rawType": "object",
         "type": "string"
        },
        {
         "name": "upper_limit",
         "rawType": "object",
         "type": "string"
        },
        {
         "name": "case_admission_id",
         "rawType": "object",
         "type": "string"
        }
       ],
       "ref": "784b801d-f109-4f06-87ff-548f03b06d06",
       "rows": [
        [
         "80",
         "Oui",
         "Oui",
         "22.09.2018 10:31",
         "G-Lactate",
         "lactate",
         "any_blood",
         "mmol/l",
         "0.6",
         "0.5",
         "1.6",
         "115383_8908"
        ],
        [
         "115",
         "Oui",
         "Oui",
         "22.09.2018 20:34",
         "G-Lactate",
         "lactate",
         "any_blood",
         "mmol/l",
         "0.4",
         "0.5",
         "1.6",
         "115383_8908"
        ],
        [
         "400",
         "non renseigne",
         "non renseigne",
         "13.08.2018 10:33",
         "G-Lactate",
         "lactate",
         "any_blood",
         "mmol/l",
         "2.2",
         null,
         null,
         "321096_4448"
        ],
        [
         "1043",
         "non renseigne",
         "non renseigne",
         "08.09.2018 02:13",
         "G-Lactate",
         "lactate",
         "any_blood",
         "mmol/l",
         "0.8",
         "0.5",
         "1.6",
         "97186379_4096"
        ],
        [
         "1118",
         "non renseigne",
         "non renseigne",
         "08.09.2018 06:02",
         "G-Lactate",
         "lactate",
         "any_blood",
         "mmol/l",
         "0.8",
         "0.5",
         "1.6",
         "97186379_4096"
        ]
       ],
       "shape": {
        "columns": 11,
        "rows": 5
       }
      },
      "text/html": [
       "<div>\n",
       "<style scoped>\n",
       "    .dataframe tbody tr th:only-of-type {\n",
       "        vertical-align: middle;\n",
       "    }\n",
       "\n",
       "    .dataframe tbody tr th {\n",
       "        vertical-align: top;\n",
       "    }\n",
       "\n",
       "    .dataframe thead th {\n",
       "        text-align: right;\n",
       "    }\n",
       "</style>\n",
       "<table border=\"1\" class=\"dataframe\">\n",
       "  <thead>\n",
       "    <tr style=\"text-align: right;\">\n",
       "      <th></th>\n",
       "      <th>patient_id_gc</th>\n",
       "      <th>eds_final_patient_id_gc</th>\n",
       "      <th>sample_date</th>\n",
       "      <th>analyse_label</th>\n",
       "      <th>dosage_label</th>\n",
       "      <th>material_label</th>\n",
       "      <th>unit_of_measure</th>\n",
       "      <th>value</th>\n",
       "      <th>lower_limit</th>\n",
       "      <th>upper_limit</th>\n",
       "      <th>case_admission_id</th>\n",
       "    </tr>\n",
       "  </thead>\n",
       "  <tbody>\n",
       "    <tr>\n",
       "      <th>80</th>\n",
       "      <td>Oui</td>\n",
       "      <td>Oui</td>\n",
       "      <td>22.09.2018 10:31</td>\n",
       "      <td>G-Lactate</td>\n",
       "      <td>lactate</td>\n",
       "      <td>any_blood</td>\n",
       "      <td>mmol/l</td>\n",
       "      <td>0.6</td>\n",
       "      <td>0.5</td>\n",
       "      <td>1.6</td>\n",
       "      <td>115383_8908</td>\n",
       "    </tr>\n",
       "    <tr>\n",
       "      <th>115</th>\n",
       "      <td>Oui</td>\n",
       "      <td>Oui</td>\n",
       "      <td>22.09.2018 20:34</td>\n",
       "      <td>G-Lactate</td>\n",
       "      <td>lactate</td>\n",
       "      <td>any_blood</td>\n",
       "      <td>mmol/l</td>\n",
       "      <td>0.4</td>\n",
       "      <td>0.5</td>\n",
       "      <td>1.6</td>\n",
       "      <td>115383_8908</td>\n",
       "    </tr>\n",
       "    <tr>\n",
       "      <th>400</th>\n",
       "      <td>non renseigne</td>\n",
       "      <td>non renseigne</td>\n",
       "      <td>13.08.2018 10:33</td>\n",
       "      <td>G-Lactate</td>\n",
       "      <td>lactate</td>\n",
       "      <td>any_blood</td>\n",
       "      <td>mmol/l</td>\n",
       "      <td>2.2</td>\n",
       "      <td>NaN</td>\n",
       "      <td>NaN</td>\n",
       "      <td>321096_4448</td>\n",
       "    </tr>\n",
       "    <tr>\n",
       "      <th>1043</th>\n",
       "      <td>non renseigne</td>\n",
       "      <td>non renseigne</td>\n",
       "      <td>08.09.2018 02:13</td>\n",
       "      <td>G-Lactate</td>\n",
       "      <td>lactate</td>\n",
       "      <td>any_blood</td>\n",
       "      <td>mmol/l</td>\n",
       "      <td>0.8</td>\n",
       "      <td>0.5</td>\n",
       "      <td>1.6</td>\n",
       "      <td>97186379_4096</td>\n",
       "    </tr>\n",
       "    <tr>\n",
       "      <th>1118</th>\n",
       "      <td>non renseigne</td>\n",
       "      <td>non renseigne</td>\n",
       "      <td>08.09.2018 06:02</td>\n",
       "      <td>G-Lactate</td>\n",
       "      <td>lactate</td>\n",
       "      <td>any_blood</td>\n",
       "      <td>mmol/l</td>\n",
       "      <td>0.8</td>\n",
       "      <td>0.5</td>\n",
       "      <td>1.6</td>\n",
       "      <td>97186379_4096</td>\n",
       "    </tr>\n",
       "  </tbody>\n",
       "</table>\n",
       "</div>"
      ],
      "text/plain": [
       "      patient_id_gc eds_final_patient_id_gc       sample_date analyse_label  \\\n",
       "80              Oui                     Oui  22.09.2018 10:31     G-Lactate   \n",
       "115             Oui                     Oui  22.09.2018 20:34     G-Lactate   \n",
       "400   non renseigne           non renseigne  13.08.2018 10:33     G-Lactate   \n",
       "1043  non renseigne           non renseigne  08.09.2018 02:13     G-Lactate   \n",
       "1118  non renseigne           non renseigne  08.09.2018 06:02     G-Lactate   \n",
       "\n",
       "     dosage_label material_label unit_of_measure  value lower_limit  \\\n",
       "80        lactate      any_blood          mmol/l    0.6         0.5   \n",
       "115       lactate      any_blood          mmol/l    0.4         0.5   \n",
       "400       lactate      any_blood          mmol/l    2.2         NaN   \n",
       "1043      lactate      any_blood          mmol/l    0.8         0.5   \n",
       "1118      lactate      any_blood          mmol/l    0.8         0.5   \n",
       "\n",
       "     upper_limit case_admission_id  \n",
       "80           1.6       115383_8908  \n",
       "115          1.6       115383_8908  \n",
       "400          NaN       321096_4448  \n",
       "1043         1.6     97186379_4096  \n",
       "1118         1.6     97186379_4096  "
      ]
     },
     "execution_count": 13,
     "metadata": {},
     "output_type": "execute_result"
    }
   ],
   "source": [
    "preprocessed_lactate_df.head()"
   ]
  },
  {
   "cell_type": "code",
   "execution_count": 14,
   "id": "28dce2dd",
   "metadata": {},
   "outputs": [
    {
     "data": {
      "text/plain": [
       "array(['mmol/l'], dtype=object)"
      ]
     },
     "execution_count": 14,
     "metadata": {},
     "output_type": "execute_result"
    }
   ],
   "source": [
    "preprocessed_lactate_df.unit_of_measure.unique()"
   ]
  },
  {
   "cell_type": "code",
   "execution_count": 15,
   "id": "6eeb5f27",
   "metadata": {},
   "outputs": [
    {
     "data": {
      "text/plain": [
       "<AxesSubplot:>"
      ]
     },
     "execution_count": 15,
     "metadata": {},
     "output_type": "execute_result"
    },
    {
     "data": {
      "image/png": "[encoded data removed]",
      "text/plain": [
       "<Figure size 432x288 with 1 Axes>"
      ]
     },
     "metadata": {
      "needs_background": "light"
     },
     "output_type": "display_data"
    }
   ],
   "source": [
    "preprocessed_lactate_df.value.hist(bins=100)"
   ]
  },
  {
   "cell_type": "code",
   "execution_count": 16,
   "id": "48e904c6",
   "metadata": {},
   "outputs": [
    {
     "data": {
      "application/vnd.microsoft.datawrangler.viewer.v0+json": {
       "columns": [
        {
         "name": "index",
         "rawType": "int64",
         "type": "integer"
        },
        {
         "name": "Unnamed: 0",
         "rawType": "object",
         "type": "string"
        },
        {
         "name": "Case ID",
         "rawType": "object",
         "type": "string"
        },
        {
         "name": "Centre",
         "rawType": "object",
         "type": "string"
        },
        {
         "name": "Entry date",
         "rawType": "object",
         "type": "string"
        },
        {
         "name": "Entry person",
         "rawType": "object",
         "type": "string"
        },
        {
         "name": "Patient refuses use of data for research",
         "rawType": "object",
         "type": "string"
        },
        {
         "name": "Last name",
         "rawType": "object",
         "type": "string"
        },
        {
         "name": "First name",
         "rawType": "object",
         "type": "string"
        },
        {
         "name": "DOB",
         "rawType": "object",
         "type": "string"
        },
        {
         "name": "Type of event",
         "rawType": "object",
         "type": "string"
        },
        {
         "name": "ZIP",
         "rawType": "object",
         "type": "string"
        },
        {
         "name": "Non-Swiss",
         "rawType": "object",
         "type": "string"
        },
        {
         "name": "Arrival at hospital",
         "rawType": "object",
         "type": "string"
        },
        {
         "name": "Arrival time",
         "rawType": "object",
         "type": "string"
        },
        {
         "name": "Age (calc.)",
         "rawType": "object",
         "type": "string"
        },
        {
         "name": "Sex",
         "rawType": "object",
         "type": "string"
        },
        {
         "name": "Ethnicity",
         "rawType": "object",
         "type": "string"
        },
        {
         "name": "Other ethnicity",
         "rawType": "object",
         "type": "string"
        },
        {
         "name": "Insurance",
         "rawType": "object",
         "type": "string"
        },
        {
         "name": "Time of symptom onset known",
         "rawType": "object",
         "type": "string"
        },
        {
         "name": "Onset date",
         "rawType": "object",
         "type": "string"
        },
        {
         "name": "Onset time",
         "rawType": "object",
         "type": "string"
        },
        {
         "name": "Wake-up date",
         "rawType": "object",
         "type": "string"
        },
        {
         "name": "Wake-up time",
         "rawType": "object",
         "type": "string"
        },
        {
         "name": "Referral",
         "rawType": "object",
         "type": "string"
        },
        {
         "name": "Patient referred to",
         "rawType": "object",
         "type": "string"
        },
        {
         "name": "Transport",
         "rawType": "object",
         "type": "string"
        },
        {
         "name": "Prestroke living situation",
         "rawType": "object",
         "type": "string"
        },
        {
         "name": "Prestroke disability (Rankin)",
         "rawType": "object",
         "type": "string"
        },
        {
         "name": "Stroke syndrom (Bamford)",
         "rawType": "object",
         "type": "string"
        },
        {
         "name": "NIH on admission",
         "rawType": "object",
         "type": "string"
        },
        {
         "name": "GCS on admission",
         "rawType": "object",
         "type": "string"
        },
        {
         "name": "1st syst. bp",
         "rawType": "object",
         "type": "string"
        },
        {
         "name": "1st diast. bp",
         "rawType": "object",
         "type": "string"
        },
        {
         "name": "Height",
         "rawType": "object",
         "type": "string"
        },
        {
         "name": "Weight",
         "rawType": "object",
         "type": "string"
        },
        {
         "name": "BMI",
         "rawType": "object",
         "type": "string"
        },
        {
         "name": "Aspirin pre-stroke",
         "rawType": "object",
         "type": "string"
        },
        {
         "name": "Clopidogrel pre-stroke",
         "rawType": "object",
         "type": "string"
        },
        {
         "name": "Prasugrel pre-stroke",
         "rawType": "object",
         "type": "string"
        },
        {
         "name": "Ticagrelor pre-stroke",
         "rawType": "object",
         "type": "string"
        },
        {
         "name": "Dipyridamole pre-stroke",
         "rawType": "object",
         "type": "string"
        },
        {
         "name": "Vit. K ag pre-stroke",
         "rawType": "object",
         "type": "string"
        },
        {
         "name": "Vit. K ag INR",
         "rawType": "object",
         "type": "string"
        },
        {
         "name": "Rivaroxaban pre-stroke",
         "rawType": "object",
         "type": "string"
        },
        {
         "name": "Dabigatran pre-stroke",
         "rawType": "object",
         "type": "string"
        },
        {
         "name": "Apixaban pre-stroke",
         "rawType": "object",
         "type": "string"
        },
        {
         "name": "Edoxaban pre-stroke",
         "rawType": "object",
         "type": "string"
        },
        {
         "name": "Parenteral ac pre-stroke",
         "rawType": "object",
         "type": "string"
        },
        {
         "name": "Antihypert. drugs pre-stroke",
         "rawType": "object",
         "type": "string"
        },
        {
         "name": "Lipid lowering drugs pre-stroke",
         "rawType": "object",
         "type": "string"
        },
        {
         "name": "Hormone repl. or contracept.",
         "rawType": "object",
         "type": "string"
        },
        {
         "name": "1st brain imaging type",
         "rawType": "object",
         "type": "string"
        },
        {
         "name": "1st brain imaging date",
         "rawType": "object",
         "type": "string"
        },
        {
         "name": "1st brain imaging time",
         "rawType": "object",
         "type": "string"
        },
        {
         "name": "Door to image (min.)",
         "rawType": "object",
         "type": "string"
        },
        {
         "name": "1st brain imaging result",
         "rawType": "object",
         "type": "string"
        },
        {
         "name": "Acute perf. imaging type",
         "rawType": "object",
         "type": "string"
        },
        {
         "name": "Acute perf. imaging result",
         "rawType": "object",
         "type": "string"
        },
        {
         "name": "1st vascular imaging type",
         "rawType": "object",
         "type": "string"
        },
        {
         "name": "1st vascular imaging result",
         "rawType": "object",
         "type": "string"
        },
        {
         "name": "Antiplatelet drugs",
         "rawType": "object",
         "type": "string"
        },
        {
         "name": "Anticoagulants",
         "rawType": "object",
         "type": "string"
        },
        {
         "name": "IVT with rtPA",
         "rawType": "object",
         "type": "string"
        },
        {
         "name": "IVT start date",
         "rawType": "object",
         "type": "string"
        },
        {
         "name": "IVT start time",
         "rawType": "object",
         "type": "string"
        },
        {
         "name": "Total rtPA dose",
         "rawType": "object",
         "type": "string"
        },
        {
         "name": "Onset to treatment (min.)",
         "rawType": "object",
         "type": "string"
        },
        {
         "name": "Door to treatment (min.)",
         "rawType": "object",
         "type": "string"
        },
        {
         "name": "IAT",
         "rawType": "object",
         "type": "string"
        },
        {
         "name": "Date of groin puncture",
         "rawType": "object",
         "type": "string"
        },
        {
         "name": "Time of groin puncture",
         "rawType": "object",
         "type": "string"
        },
        {
         "name": "Onset to groin puncture (min.)",
         "rawType": "object",
         "type": "string"
        },
        {
         "name": "Door to groin puncture (min.)",
         "rawType": "object",
         "type": "string"
        },
        {
         "name": "IAT end date",
         "rawType": "object",
         "type": "string"
        },
        {
         "name": "IAT end time",
         "rawType": "object",
         "type": "string"
        },
        {
         "name": "Anesthesia",
         "rawType": "object",
         "type": "string"
        },
        {
         "name": "IAT rtPA",
         "rawType": "object",
         "type": "string"
        },
        {
         "name": "IAT rtPA dose",
         "rawType": "object",
         "type": "string"
        },
        {
         "name": "IAT urokinase",
         "rawType": "object",
         "type": "string"
        },
        {
         "name": "IAT urokinase dose",
         "rawType": "object",
         "type": "string"
        },
        {
         "name": "IAT mech. treatment",
         "rawType": "object",
         "type": "string"
        },
        {
         "name": "IAT stent retriever",
         "rawType": "object",
         "type": "string"
        },
        {
         "name": "IAT aspiration",
         "rawType": "object",
         "type": "string"
        },
        {
         "name": "IAT distal retriever",
         "rawType": "object",
         "type": "string"
        },
        {
         "name": "IAT balloon",
         "rawType": "object",
         "type": "string"
        },
        {
         "name": "IAT intracranial stent",
         "rawType": "object",
         "type": "string"
        },
        {
         "name": "IAT extracranial stent",
         "rawType": "object",
         "type": "string"
        },
        {
         "name": "IAT other mechanical",
         "rawType": "object",
         "type": "string"
        },
        {
         "name": "Study treatment",
         "rawType": "object",
         "type": "string"
        },
        {
         "name": "Initial hospitalization",
         "rawType": "object",
         "type": "string"
        },
        {
         "name": "Patient referred from",
         "rawType": "object",
         "type": "string"
        },
        {
         "name": "Reason of referral",
         "rawType": "object",
         "type": "string"
        },
        {
         "name": "Reason why not hospitalized in monitored unit",
         "rawType": "object",
         "type": "string"
        },
        {
         "name": "FU brain imaging",
         "rawType": "object",
         "type": "string"
        },
        {
         "name": "FU brain imaging result",
         "rawType": "object",
         "type": "string"
        },
        {
         "name": "MCA",
         "rawType": "object",
         "type": "string"
        },
        {
         "name": "ACA",
         "rawType": "object",
         "type": "string"
        },
        {
         "name": "PCA",
         "rawType": "object",
         "type": "string"
        },
        {
         "name": "Vertebro-basilar",
         "rawType": "object",
         "type": "string"
        },
        {
         "name": "Ocular",
         "rawType": "object",
         "type": "string"
        },
        {
         "name": "Etiology TOAST",
         "rawType": "object",
         "type": "string"
        },
        {
         "name": "Etiology TOAST other",
         "rawType": "object",
         "type": "string"
        },
        {
         "name": "Etiology",
         "rawType": "object",
         "type": "string"
        },
        {
         "name": "Etiology other",
         "rawType": "object",
         "type": "string"
        },
        {
         "name": "MedHist Stroke",
         "rawType": "object",
         "type": "string"
        },
        {
         "name": "MedHist TIA",
         "rawType": "object",
         "type": "string"
        },
        {
         "name": "MedHist ICH",
         "rawType": "object",
         "type": "string"
        },
        {
         "name": "MedHist Hypertension",
         "rawType": "object",
         "type": "string"
        },
        {
         "name": "MedHist Diabetes",
         "rawType": "object",
         "type": "string"
        },
        {
         "name": "MedHist Hyperlipidemia",
         "rawType": "object",
         "type": "string"
        },
        {
         "name": "MedHist Smoking",
         "rawType": "object",
         "type": "string"
        },
        {
         "name": "MedHist Atrial Fibr.",
         "rawType": "object",
         "type": "string"
        },
        {
         "name": "MedHist CHD",
         "rawType": "object",
         "type": "string"
        },
        {
         "name": "MedHist Prost. heart valves",
         "rawType": "object",
         "type": "string"
        },
        {
         "name": "MedHist Low ejection fract.",
         "rawType": "object",
         "type": "string"
        },
        {
         "name": "MedHist PAD",
         "rawType": "object",
         "type": "string"
        },
        {
         "name": "Average sleep",
         "rawType": "object",
         "type": "string"
        },
        {
         "name": "Last night sleep",
         "rawType": "object",
         "type": "string"
        },
        {
         "name": "Snoring",
         "rawType": "object",
         "type": "string"
        },
        {
         "name": "Daytime sleepiness",
         "rawType": "object",
         "type": "string"
        },
        {
         "name": "FU MR-angiography",
         "rawType": "object",
         "type": "string"
        },
        {
         "name": "FU CT-angiography",
         "rawType": "object",
         "type": "string"
        },
        {
         "name": "FU Ultrasound",
         "rawType": "object",
         "type": "string"
        },
        {
         "name": "FU Digital subt. angiogr.",
         "rawType": "object",
         "type": "string"
        },
        {
         "name": "FU Transthoratic echo",
         "rawType": "object",
         "type": "string"
        },
        {
         "name": "FU Transesophageal echo",
         "rawType": "object",
         "type": "string"
        },
        {
         "name": "FU Holter ECG",
         "rawType": "object",
         "type": "string"
        },
        {
         "name": "FU Holter days",
         "rawType": "object",
         "type": "string"
        },
        {
         "name": "1st glucose",
         "rawType": "object",
         "type": "string"
        },
        {
         "name": "1st cholesterol total",
         "rawType": "object",
         "type": "string"
        },
        {
         "name": "1st cholesterol LDL",
         "rawType": "object",
         "type": "string"
        },
        {
         "name": "1st creatinine",
         "rawType": "object",
         "type": "string"
        },
        {
         "name": "NIHSS 24h",
         "rawType": "object",
         "type": "string"
        },
        {
         "name": "Symptomatic ICH",
         "rawType": "object",
         "type": "string"
        },
        {
         "name": "Symptomatic ICH date",
         "rawType": "object",
         "type": "string"
        },
        {
         "name": "Recurrent stroke",
         "rawType": "object",
         "type": "string"
        },
        {
         "name": "Recurrent stroke date",
         "rawType": "object",
         "type": "string"
        },
        {
         "name": "Orolingual angioedema",
         "rawType": "object",
         "type": "string"
        },
        {
         "name": "Death in hospital",
         "rawType": "object",
         "type": "string"
        },
        {
         "name": "Death at hospital date",
         "rawType": "object",
         "type": "string"
        },
        {
         "name": "Death at hospital time",
         "rawType": "object",
         "type": "string"
        },
        {
         "name": "Death at hospital cause",
         "rawType": "object",
         "type": "string"
        },
        {
         "name": "Epileptic seizure in hospital",
         "rawType": "object",
         "type": "string"
        },
        {
         "name": "Epileptic seizure in hospital date",
         "rawType": "object",
         "type": "string"
        },
        {
         "name": "Decompr. craniectomy",
         "rawType": "object",
         "type": "string"
        },
        {
         "name": "Decompr. craniectomy date",
         "rawType": "object",
         "type": "string"
        },
        {
         "name": "CEA",
         "rawType": "object",
         "type": "string"
        },
        {
         "name": "CEA date",
         "rawType": "object",
         "type": "string"
        },
        {
         "name": "CAS",
         "rawType": "object",
         "type": "string"
        },
        {
         "name": "CAS date",
         "rawType": "object",
         "type": "string"
        },
        {
         "name": "Other endovascular revascularization",
         "rawType": "object",
         "type": "string"
        },
        {
         "name": "Other surgical revascularization",
         "rawType": "object",
         "type": "string"
        },
        {
         "name": "Other surgical revascularization date",
         "rawType": "object",
         "type": "string"
        },
        {
         "name": "Other surgical revascularization spec",
         "rawType": "object",
         "type": "string"
        },
        {
         "name": "PFO closure",
         "rawType": "object",
         "type": "string"
        },
        {
         "name": "PFO closure date",
         "rawType": "object",
         "type": "string"
        },
        {
         "name": "Discharge destination",
         "rawType": "object",
         "type": "string"
        },
        {
         "name": "Discharge date",
         "rawType": "object",
         "type": "string"
        },
        {
         "name": "Discharge time",
         "rawType": "object",
         "type": "string"
        },
        {
         "name": "Duration of hospital stay (days)",
         "rawType": "object",
         "type": "string"
        },
        {
         "name": "3M date",
         "rawType": "object",
         "type": "string"
        },
        {
         "name": "3M mode",
         "rawType": "object",
         "type": "string"
        },
        {
         "name": "3M mRS",
         "rawType": "object",
         "type": "string"
        },
        {
         "name": "3M NIHSS",
         "rawType": "object",
         "type": "string"
        },
        {
         "name": "3M Stroke",
         "rawType": "object",
         "type": "string"
        },
        {
         "name": "3M Stroke date",
         "rawType": "object",
         "type": "string"
        },
        {
         "name": "3M ICH",
         "rawType": "object",
         "type": "string"
        },
        {
         "name": "3M ICH date",
         "rawType": "object",
         "type": "string"
        },
        {
         "name": "3M Death",
         "rawType": "object",
         "type": "string"
        },
        {
         "name": "3M Death date",
         "rawType": "object",
         "type": "string"
        },
        {
         "name": "3M Death cause",
         "rawType": "object",
         "type": "string"
        },
        {
         "name": "3M Epileptic seizure",
         "rawType": "object",
         "type": "string"
        },
        {
         "name": "3M Epileptic seizure date",
         "rawType": "object",
         "type": "string"
        },
        {
         "name": "Unnamed: 174",
         "rawType": "object",
         "type": "string"
        },
        {
         "name": "case_admission_id",
         "rawType": "object",
         "type": "string"
        },
        {
         "name": "arrival_dt",
         "rawType": "object",
         "type": "string"
        },
        {
         "name": "stroke_dt",
         "rawType": "object",
         "type": "string"
        },
        {
         "name": "delta_onset_arrival",
         "rawType": "float64",
         "type": "float"
        }
       ],
       "ref": "697b4133-0374-42cb-9306-7644912fad38",
       "rows": [
        [
         "3",
         "4",
         "SSR-HUG-1005030884",
         "HUG Genève",
         "20181108",
         "Emmanuel Carrera",
         null,
         null,
         null,
         "19331031",
         "Ischemic stroke",
         "1201",
         null,
         "20181108",
         "13:21",
         "85.1",
         "Female",
         null,
         null,
         null,
         "no",
         "20181108",
         "08:30",
         null,
         null,
         "Emergency service (144)",
         null,
         "Ambulance",
         "Nursing home",
         "3",
         null,
         "3",
         null,
         "140",
         "60",
         null,
         "56",
         null,
         "no",
         "no",
         "no",
         "no",
         "no",
         "no",
         null,
         "no",
         "no",
         "no",
         "no",
         "no",
         "yes",
         "no",
         "no",
         "CT",
         "20181108",
         "17:14",
         "233",
         null,
         "Perfusion CT",
         "No hypoperfusion",
         "CT-angiography",
         "Stenosis 50-99% in suspected ischemic territory",
         "no",
         "no",
         "no",
         null,
         null,
         null,
         null,
         null,
         "no",
         null,
         null,
         null,
         null,
         null,
         null,
         null,
         null,
         null,
         null,
         null,
         null,
         null,
         null,
         null,
         null,
         null,
         null,
         null,
         "no",
         "Monitored stroke unit in-house",
         null,
         null,
         null,
         "MRI",
         "Ischemia",
         "left",
         "no",
         "no",
         "no",
         null,
         "Unknown etiology with incomplete evaluation",
         null,
         null,
         null,
         "no",
         "no",
         "no",
         "yes",
         "no",
         "yes",
         "no",
         "no",
         "no",
         "None",
         "no",
         "no",
         null,
         null,
         null,
         null,
         "yes",
         "no",
         "yes",
         "no",
         "yes",
         "no",
         "yes",
         "2",
         "6.4",
         "5.1",
         "2.72",
         "86",
         "2",
         "no",
         null,
         "no",
         null,
         null,
         "no",
         null,
         null,
         null,
         "no",
         null,
         "no",
         null,
         "no",
         null,
         "no",
         null,
         "no",
         "no",
         null,
         null,
         "no",
         null,
         "Nursing home,palliative care center,or other medical facility",
         "20181116",
         "13:00",
         "7.99",
         "20190222",
         "Clinical",
         "3",
         "2",
         "no",
         null,
         "no",
         null,
         "no",
         null,
         null,
         null,
         null,
         null,
         "100503_0884",
         "08.11.2018 13:21",
         "08.11.2018 08:30",
         "-17460.0"
        ],
        [
         "5",
         "6",
         "SSR-HUG-10055644109",
         "HUG Genève",
         "20181002",
         "Emmanuel Carrera",
         null,
         null,
         null,
         "19570311",
         "Ischemic stroke",
         "1222",
         null,
         "20181002",
         "08:11",
         "61.6",
         "Male",
         null,
         null,
         null,
         "no",
         "20180928",
         "00:00",
         null,
         null,
         "Emergency service (144)",
         null,
         "Ambulance",
         "Home",
         "0",
         null,
         "2",
         null,
         "168",
         "88",
         "182",
         "89",
         "26.9",
         "no",
         "no",
         "no",
         "no",
         "no",
         "no",
         null,
         "no",
         "no",
         "no",
         "no",
         "no",
         "no",
         "yes",
         "no",
         "CT",
         "20181002",
         "09:22",
         "71",
         null,
         "None",
         null,
         "CT-angiography",
         "Occlusion in suspected ischemic territory",
         "no",
         "no",
         "no",
         null,
         null,
         null,
         null,
         null,
         "yes",
         "20181002",
         "12:45",
         "6525",
         "274",
         "20181002",
         "14:32",
         "General anaesthesia",
         "no",
         null,
         "no",
         null,
         "yes",
         "no",
         "yes",
         "no",
         "yes",
         "yes",
         "no",
         "no",
         "no",
         "Other intermediate or intensive care unit in-house",
         null,
         null,
         null,
         "CT",
         "Ischemia with hemorrhagic transformation",
         "no",
         "no",
         "left",
         "left",
         null,
         "Large artery atherosclerosis",
         null,
         null,
         null,
         "no",
         "no",
         "no",
         "no",
         "no",
         "yes",
         "no",
         "no",
         "no",
         "None",
         "no",
         "no",
         null,
         null,
         null,
         null,
         "yes",
         "yes",
         "yes",
         "no",
         "yes",
         "no",
         "yes",
         "5",
         "6.2",
         null,
         null,
         "121",
         "3",
         "no",
         null,
         "no",
         null,
         null,
         "no",
         null,
         null,
         null,
         "no",
         null,
         "no",
         null,
         "no",
         null,
         "no",
         null,
         "no",
         "no",
         null,
         null,
         "no",
         null,
         "Rehabilitation hospital",
         "20181022",
         "09:35",
         "20.06",
         "20190222",
         "Clinical",
         "2",
         "1",
         "no",
         null,
         "no",
         null,
         "no",
         null,
         null,
         "no",
         null,
         null,
         "1005564_4109",
         "02.10.2018 08:11",
         "28.09.2018 00:00",
         "-375060.0"
        ],
        [
         "6",
         "7",
         "SSR-HUG-10057989217",
         "HUG Genève",
         "20180910",
         "Emmanuel Carrera",
         null,
         null,
         null,
         "19500315",
         "Ischemic stroke",
         "1223",
         null,
         "20180910",
         "21:36",
         "68.5",
         "Male",
         null,
         null,
         null,
         "yes",
         "20180908",
         "09:00",
         null,
         null,
         "Other hospital",
         null,
         null,
         "Home",
         "0",
         null,
         "2",
         null,
         "140",
         "74",
         "178",
         "86",
         "27.1",
         "no",
         "no",
         "no",
         "no",
         "no",
         "no",
         null,
         "no",
         "no",
         "no",
         "no",
         "no",
         "no",
         "yes",
         "no",
         "MRI (external)",
         null,
         null,
         null,
         null,
         "None",
         null,
         "MR-angiography",
         "Occlusion in suspected ischemic territory",
         "yes",
         "no",
         "no",
         null,
         null,
         null,
         null,
         null,
         "no",
         null,
         null,
         null,
         null,
         null,
         null,
         null,
         null,
         null,
         null,
         null,
         null,
         null,
         null,
         null,
         null,
         null,
         null,
         null,
         "no",
         "Monitored stroke unit in-house",
         null,
         null,
         null,
         "CT",
         "Ischemia",
         "left",
         "no",
         "no",
         "left",
         null,
         "Unknown etiology with incomplete evaluation",
         null,
         null,
         null,
         "no",
         "no",
         "no",
         "no",
         "yes",
         "no",
         "no",
         "no",
         "no",
         "None",
         "no",
         "no",
         null,
         null,
         null,
         null,
         "yes",
         "no",
         "yes",
         "no",
         "yes",
         "no",
         "yes",
         "2",
         "5.4",
         null,
         null,
         "78",
         "2",
         "no",
         null,
         "no",
         null,
         null,
         "no",
         null,
         null,
         null,
         "no",
         null,
         "no",
         null,
         "no",
         null,
         "no",
         null,
         "no",
         "no",
         null,
         null,
         "no",
         null,
         "Home",
         "20180918",
         "17:47",
         "7.84",
         "20181203",
         "Clinical",
         "1",
         "0",
         "no",
         null,
         "no",
         null,
         "no",
         null,
         null,
         "no",
         null,
         null,
         "1005798_9217",
         "10.09.2018 21:36",
         "08.09.2018 09:00",
         "-218160.0"
        ],
        [
         "11",
         "12",
         "SSR-HUG-10117940030",
         "HUG Genève",
         "20180122",
         "Roman Sztajzel",
         null,
         null,
         null,
         "19210723",
         "Ischemic stroke",
         "1202",
         null,
         "20180122",
         "13:13",
         "96.6",
         "Male",
         null,
         null,
         null,
         "yes",
         "20180122",
         "11:30",
         null,
         null,
         "Emergency service (144)",
         null,
         "Ambulance",
         "Home",
         "0",
         "PACS",
         "19",
         null,
         "134",
         "88",
         "170",
         "68",
         "23.5",
         "no",
         "no",
         "no",
         "no",
         "no",
         "no",
         null,
         "no",
         "no",
         "no",
         "no",
         "no",
         "no",
         "no",
         "no",
         "CT",
         "20180122",
         "13:45",
         "32",
         null,
         "None",
         null,
         "CT-angiography",
         "No abnormality",
         "no",
         "no",
         "no",
         null,
         null,
         null,
         null,
         null,
         "no",
         null,
         null,
         null,
         null,
         null,
         null,
         null,
         null,
         null,
         null,
         null,
         null,
         null,
         null,
         null,
         null,
         null,
         null,
         null,
         "no",
         "Monitored stroke unit in-house",
         null,
         null,
         null,
         "MRI",
         "Ischemia",
         "no",
         "no",
         "right",
         "no",
         null,
         "Large artery atherosclerosis",
         null,
         null,
         null,
         "yes",
         "no",
         "no",
         "yes",
         "no",
         "no",
         "no",
         "no",
         "no",
         "None",
         "no",
         "no",
         null,
         null,
         "no",
         "never",
         "yes",
         "no",
         "no",
         "no",
         "no",
         "no",
         "no",
         null,
         "6.1",
         "3.1",
         "1.39",
         "85",
         "0",
         "no",
         null,
         "no",
         null,
         null,
         "yes",
         "20180201",
         "01:00",
         "Fatal stroke or intracranial hemorrhage",
         "no",
         null,
         "no",
         null,
         "no",
         null,
         "no",
         null,
         "no",
         "no",
         null,
         null,
         "no",
         null,
         null,
         null,
         null,
         null,
         null,
         null,
         null,
         null,
         null,
         null,
         null,
         null,
         null,
         null,
         null,
         null,
         null,
         null,
         "1011794_0030",
         "22.01.2018 13:13",
         "22.01.2018 11:30",
         "-6180.0"
        ],
        [
         "12",
         "13",
         "SSR-HUG-10128979104",
         "HUG Genève",
         "20181226",
         "Emmanuel Carrera",
         null,
         null,
         null,
         "19270427",
         "Ischemic stroke",
         "1224",
         null,
         "20181226",
         "10:12",
         "91.7",
         "Female",
         null,
         null,
         null,
         "yes",
         "20181225",
         "18:00",
         null,
         null,
         "Emergency service (144)",
         null,
         "Ambulance",
         "Nursing home",
         "3",
         null,
         "10",
         null,
         "180",
         "85",
         null,
         "59",
         null,
         "yes",
         "no",
         "no",
         "no",
         "no",
         "no",
         null,
         "no",
         "no",
         "no",
         "no",
         "no",
         "yes",
         "no",
         "no",
         "CT",
         "20181226",
         "10:46",
         "34",
         null,
         "Perfusion CT",
         "Focal hypoperfusion with mismatch",
         "CT-angiography",
         "Occlusion in suspected ischemic territory",
         "yes",
         "no",
         "no",
         null,
         null,
         null,
         null,
         null,
         "no",
         null,
         null,
         null,
         null,
         null,
         null,
         null,
         null,
         null,
         null,
         null,
         null,
         null,
         null,
         null,
         null,
         null,
         null,
         null,
         "no",
         "Referral to other hospital or care institution",
         null,
         null,
         null,
         "MRI",
         "Ischemia",
         "no",
         "left",
         "left",
         "no",
         null,
         "Unknown etiology with incomplete evaluation",
         null,
         null,
         null,
         "yes",
         "no",
         "no",
         "yes",
         "yes",
         "no",
         "no",
         "no",
         "no",
         "None",
         "no",
         "no",
         null,
         null,
         null,
         null,
         "no",
         "yes",
         "yes",
         "no",
         "no",
         "no",
         "no",
         null,
         "6.4",
         null,
         null,
         "149",
         null,
         "no",
         null,
         "no",
         null,
         null,
         "no",
         null,
         null,
         null,
         "no",
         null,
         "no",
         null,
         "no",
         null,
         "no",
         null,
         "no",
         "no",
         null,
         null,
         "no",
         null,
         "Nursing home,palliative care center,or other medical facility",
         "20181226",
         "15:20",
         "0.21",
         "20190113",
         "Hospital discharge letter or other record",
         "6",
         null,
         null,
         null,
         null,
         null,
         "yes",
         "20190113",
         "Fatal stroke or intracranial hemorrhage",
         null,
         null,
         null,
         "1012897_9104",
         "26.12.2018 10:12",
         "25.12.2018 18:00",
         "-58320.0"
        ]
       ],
       "shape": {
        "columns": 179,
        "rows": 5
       }
      },
      "text/html": [
       "<div>\n",
       "<style scoped>\n",
       "    .dataframe tbody tr th:only-of-type {\n",
       "        vertical-align: middle;\n",
       "    }\n",
       "\n",
       "    .dataframe tbody tr th {\n",
       "        vertical-align: top;\n",
       "    }\n",
       "\n",
       "    .dataframe thead th {\n",
       "        text-align: right;\n",
       "    }\n",
       "</style>\n",
       "<table border=\"1\" class=\"dataframe\">\n",
       "  <thead>\n",
       "    <tr style=\"text-align: right;\">\n",
       "      <th></th>\n",
       "      <th>Unnamed: 0</th>\n",
       "      <th>Case ID</th>\n",
       "      <th>Centre</th>\n",
       "      <th>Entry date</th>\n",
       "      <th>Entry person</th>\n",
       "      <th>Patient refuses use of data for research</th>\n",
       "      <th>Last name</th>\n",
       "      <th>First name</th>\n",
       "      <th>DOB</th>\n",
       "      <th>Type of event</th>\n",
       "      <th>...</th>\n",
       "      <th>3M Death</th>\n",
       "      <th>3M Death date</th>\n",
       "      <th>3M Death cause</th>\n",
       "      <th>3M Epileptic seizure</th>\n",
       "      <th>3M Epileptic seizure date</th>\n",
       "      <th>Unnamed: 174</th>\n",
       "      <th>case_admission_id</th>\n",
       "      <th>arrival_dt</th>\n",
       "      <th>stroke_dt</th>\n",
       "      <th>delta_onset_arrival</th>\n",
       "    </tr>\n",
       "  </thead>\n",
       "  <tbody>\n",
       "    <tr>\n",
       "      <th>3</th>\n",
       "      <td>4</td>\n",
       "      <td>SSR-HUG-1005030884</td>\n",
       "      <td>HUG Genève</td>\n",
       "      <td>20181108</td>\n",
       "      <td>Emmanuel Carrera</td>\n",
       "      <td>NaN</td>\n",
       "      <td>NaN</td>\n",
       "      <td>NaN</td>\n",
       "      <td>19331031</td>\n",
       "      <td>Ischemic stroke</td>\n",
       "      <td>...</td>\n",
       "      <td>no</td>\n",
       "      <td>NaN</td>\n",
       "      <td>NaN</td>\n",
       "      <td>NaN</td>\n",
       "      <td>NaN</td>\n",
       "      <td>NaN</td>\n",
       "      <td>100503_0884</td>\n",
       "      <td>08.11.2018 13:21</td>\n",
       "      <td>08.11.2018 08:30</td>\n",
       "      <td>-17460.0</td>\n",
       "    </tr>\n",
       "    <tr>\n",
       "      <th>5</th>\n",
       "      <td>6</td>\n",
       "      <td>SSR-HUG-10055644109</td>\n",
       "      <td>HUG Genève</td>\n",
       "      <td>20181002</td>\n",
       "      <td>Emmanuel Carrera</td>\n",
       "      <td>NaN</td>\n",
       "      <td>NaN</td>\n",
       "      <td>NaN</td>\n",
       "      <td>19570311</td>\n",
       "      <td>Ischemic stroke</td>\n",
       "      <td>...</td>\n",
       "      <td>no</td>\n",
       "      <td>NaN</td>\n",
       "      <td>NaN</td>\n",
       "      <td>no</td>\n",
       "      <td>NaN</td>\n",
       "      <td>NaN</td>\n",
       "      <td>1005564_4109</td>\n",
       "      <td>02.10.2018 08:11</td>\n",
       "      <td>28.09.2018 00:00</td>\n",
       "      <td>-375060.0</td>\n",
       "    </tr>\n",
       "    <tr>\n",
       "      <th>6</th>\n",
       "      <td>7</td>\n",
       "      <td>SSR-HUG-10057989217</td>\n",
       "      <td>HUG Genève</td>\n",
       "      <td>20180910</td>\n",
       "      <td>Emmanuel Carrera</td>\n",
       "      <td>NaN</td>\n",
       "      <td>NaN</td>\n",
       "      <td>NaN</td>\n",
       "      <td>19500315</td>\n",
       "      <td>Ischemic stroke</td>\n",
       "      <td>...</td>\n",
       "      <td>no</td>\n",
       "      <td>NaN</td>\n",
       "      <td>NaN</td>\n",
       "      <td>no</td>\n",
       "      <td>NaN</td>\n",
       "      <td>NaN</td>\n",
       "      <td>1005798_9217</td>\n",
       "      <td>10.09.2018 21:36</td>\n",
       "      <td>08.09.2018 09:00</td>\n",
       "      <td>-218160.0</td>\n",
       "    </tr>\n",
       "    <tr>\n",
       "      <th>11</th>\n",
       "      <td>12</td>\n",
       "      <td>SSR-HUG-10117940030</td>\n",
       "      <td>HUG Genève</td>\n",
       "      <td>20180122</td>\n",
       "      <td>Roman Sztajzel</td>\n",
       "      <td>NaN</td>\n",
       "      <td>NaN</td>\n",
       "      <td>NaN</td>\n",
       "      <td>19210723</td>\n",
       "      <td>Ischemic stroke</td>\n",
       "      <td>...</td>\n",
       "      <td>NaN</td>\n",
       "      <td>NaN</td>\n",
       "      <td>NaN</td>\n",
       "      <td>NaN</td>\n",
       "      <td>NaN</td>\n",
       "      <td>NaN</td>\n",
       "      <td>1011794_0030</td>\n",
       "      <td>22.01.2018 13:13</td>\n",
       "      <td>22.01.2018 11:30</td>\n",
       "      <td>-6180.0</td>\n",
       "    </tr>\n",
       "    <tr>\n",
       "      <th>12</th>\n",
       "      <td>13</td>\n",
       "      <td>SSR-HUG-10128979104</td>\n",
       "      <td>HUG Genève</td>\n",
       "      <td>20181226</td>\n",
       "      <td>Emmanuel Carrera</td>\n",
       "      <td>NaN</td>\n",
       "      <td>NaN</td>\n",
       "      <td>NaN</td>\n",
       "      <td>19270427</td>\n",
       "      <td>Ischemic stroke</td>\n",
       "      <td>...</td>\n",
       "      <td>yes</td>\n",
       "      <td>20190113</td>\n",
       "      <td>Fatal stroke or intracranial hemorrhage</td>\n",
       "      <td>NaN</td>\n",
       "      <td>NaN</td>\n",
       "      <td>NaN</td>\n",
       "      <td>1012897_9104</td>\n",
       "      <td>26.12.2018 10:12</td>\n",
       "      <td>25.12.2018 18:00</td>\n",
       "      <td>-58320.0</td>\n",
       "    </tr>\n",
       "  </tbody>\n",
       "</table>\n",
       "<p>5 rows × 179 columns</p>\n",
       "</div>"
      ],
      "text/plain": [
       "   Unnamed: 0              Case ID      Centre Entry date      Entry person  \\\n",
       "3           4   SSR-HUG-1005030884  HUG Genève   20181108  Emmanuel Carrera   \n",
       "5           6  SSR-HUG-10055644109  HUG Genève   20181002  Emmanuel Carrera   \n",
       "6           7  SSR-HUG-10057989217  HUG Genève   20180910  Emmanuel Carrera   \n",
       "11         12  SSR-HUG-10117940030  HUG Genève   20180122    Roman Sztajzel   \n",
       "12         13  SSR-HUG-10128979104  HUG Genève   20181226  Emmanuel Carrera   \n",
       "\n",
       "   Patient refuses use of data for research Last name First name       DOB  \\\n",
       "3                                       NaN       NaN        NaN  19331031   \n",
       "5                                       NaN       NaN        NaN  19570311   \n",
       "6                                       NaN       NaN        NaN  19500315   \n",
       "11                                      NaN       NaN        NaN  19210723   \n",
       "12                                      NaN       NaN        NaN  19270427   \n",
       "\n",
       "      Type of event  ... 3M Death 3M Death date  \\\n",
       "3   Ischemic stroke  ...       no           NaN   \n",
       "5   Ischemic stroke  ...       no           NaN   \n",
       "6   Ischemic stroke  ...       no           NaN   \n",
       "11  Ischemic stroke  ...      NaN           NaN   \n",
       "12  Ischemic stroke  ...      yes      20190113   \n",
       "\n",
       "                             3M Death cause 3M Epileptic seizure  \\\n",
       "3                                       NaN                  NaN   \n",
       "5                                       NaN                   no   \n",
       "6                                       NaN                   no   \n",
       "11                                      NaN                  NaN   \n",
       "12  Fatal stroke or intracranial hemorrhage                  NaN   \n",
       "\n",
       "   3M Epileptic seizure date Unnamed: 174 case_admission_id        arrival_dt  \\\n",
       "3                        NaN          NaN       100503_0884  08.11.2018 13:21   \n",
       "5                        NaN          NaN      1005564_4109  02.10.2018 08:11   \n",
       "6                        NaN          NaN      1005798_9217  10.09.2018 21:36   \n",
       "11                       NaN          NaN      1011794_0030  22.01.2018 13:13   \n",
       "12                       NaN          NaN      1012897_9104  26.12.2018 10:12   \n",
       "\n",
       "           stroke_dt delta_onset_arrival  \n",
       "3   08.11.2018 08:30            -17460.0  \n",
       "5   28.09.2018 00:00           -375060.0  \n",
       "6   08.09.2018 09:00           -218160.0  \n",
       "11  22.01.2018 11:30             -6180.0  \n",
       "12  25.12.2018 18:00            -58320.0  \n",
       "\n",
       "[5 rows x 179 columns]"
      ]
     },
     "execution_count": 16,
     "metadata": {},
     "output_type": "execute_result"
    }
   ],
   "source": [
    "inclusion_registry_df.head()"
   ]
  },
  {
   "cell_type": "code",
   "execution_count": 17,
   "id": "7a36151e",
   "metadata": {},
   "outputs": [
    {
     "data": {
      "text/plain": [
       "(24, 0)"
      ]
     },
     "execution_count": 17,
     "metadata": {},
     "output_type": "execute_result"
    }
   ],
   "source": [
    "inclusion_registry_df['stroke_dt'].isna().sum(), inclusion_registry_df['arrival_dt'].isna().sum()"
   ]
  },
  {
   "cell_type": "code",
   "execution_count": 18,
   "id": "24aa8ecc",
   "metadata": {},
   "outputs": [],
   "source": [
    "inclusion_registry_df['T0'] = inclusion_registry_df['stroke_dt'].fillna(inclusion_registry_df['arrival_dt'])\n",
    "preprocessed_lactate_df = preprocessed_lactate_df.merge(\n",
    "    inclusion_registry_df[['case_admission_id', 'T0']],\n",
    "    on='case_admission_id',\n",
    "    how='left'\n",
    ")"
   ]
  },
  {
   "cell_type": "code",
   "execution_count": 19,
   "id": "84e63c71",
   "metadata": {},
   "outputs": [],
   "source": [
    "dt_format = '%d.%m.%Y %H:%M'\n",
    "preprocessed_lactate_df['relative_sample_date'] = (pd.to_datetime(preprocessed_lactate_df['sample_date'], format=dt_format) - pd.to_datetime(preprocessed_lactate_df['T0'], format=dt_format)).dt.total_seconds() / 3600 # convert to hours\n"
   ]
  },
  {
   "cell_type": "code",
   "execution_count": 20,
   "id": "c586a987",
   "metadata": {},
   "outputs": [
    {
     "data": {
      "text/plain": [
       "array(['22.09.2018 10:31', '22.09.2018 20:34', '13.08.2018 10:33', ...,\n",
       "       '01.04.2021 17:40', '14.08.2021 04:11', '14.08.2021 08:45'],\n",
       "      dtype=object)"
      ]
     },
     "execution_count": 20,
     "metadata": {},
     "output_type": "execute_result"
    }
   ],
   "source": [
    "preprocessed_lactate_df['sample_date'].values"
   ]
  },
  {
   "cell_type": "code",
   "execution_count": 21,
   "id": "732c7990",
   "metadata": {},
   "outputs": [],
   "source": [
    "import numpy as np\n",
    "preprocessed_lactate_df['relative_sample_date_hcat'] = preprocessed_lactate_df['relative_sample_date'].apply(np.floor)"
   ]
  },
  {
   "cell_type": "code",
   "execution_count": 22,
   "id": "ee3ccd31",
   "metadata": {},
   "outputs": [
    {
     "data": {
      "application/vnd.microsoft.datawrangler.viewer.v0+json": {
       "columns": [
        {
         "name": "index",
         "rawType": "int64",
         "type": "integer"
        },
        {
         "name": "T0",
         "rawType": "object",
         "type": "string"
        },
        {
         "name": "sample_date",
         "rawType": "object",
         "type": "string"
        },
        {
         "name": "relative_sample_date",
         "rawType": "float64",
         "type": "float"
        }
       ],
       "ref": "f468b99b-fcd4-4b7e-8ce9-4c6ff53ff5bc",
       "rows": [
        [
         "0",
         "31.08.2018 10:00",
         "22.09.2018 10:31",
         "528.5166666666667"
        ],
        [
         "1",
         "31.08.2018 10:00",
         "22.09.2018 20:34",
         "538.5666666666667"
        ],
        [
         "2",
         "22.07.2018 07:45",
         "13.08.2018 10:33",
         "530.8"
        ],
        [
         "3",
         "17.08.2018 19:00",
         "08.09.2018 02:13",
         "511.21666666666664"
        ],
        [
         "4",
         "17.08.2018 19:00",
         "08.09.2018 06:02",
         "515.0333333333333"
        ],
        [
         "5",
         "17.08.2018 19:00",
         "08.09.2018 10:08",
         "519.1333333333333"
        ],
        [
         "6",
         "08.01.2019 21:15",
         "30.01.2019 06:13",
         "512.9666666666667"
        ],
        [
         "7",
         "08.01.2019 21:15",
         "30.01.2019 20:42",
         "527.45"
        ],
        [
         "8",
         "08.01.2019 21:15",
         "30.01.2019 23:09",
         "529.9"
        ],
        [
         "9",
         "09.10.2019 13:10",
         "31.10.2019 15:49",
         "530.65"
        ],
        [
         "10",
         "15.11.2019 19:30",
         "07.12.2019 05:53",
         "514.3833333333333"
        ],
        [
         "11",
         "30.08.2019 05:30",
         "21.09.2019 02:30",
         "525.0"
        ],
        [
         "12",
         "30.08.2019 05:30",
         "21.09.2019 09:58",
         "532.4666666666667"
        ],
        [
         "13",
         "30.08.2019 05:30",
         "21.09.2019 14:03",
         "536.55"
        ],
        [
         "14",
         "30.08.2019 05:30",
         "21.09.2019 17:35",
         "540.0833333333334"
        ],
        [
         "15",
         "30.08.2019 05:30",
         "21.09.2019 23:50",
         "546.3333333333334"
        ],
        [
         "16",
         "10.03.2020 12:00",
         "01.04.2020 12:39",
         "528.65"
        ],
        [
         "17",
         "10.03.2020 12:00",
         "01.04.2020 13:20",
         "529.3333333333334"
        ],
        [
         "18",
         "10.03.2020 12:00",
         "01.04.2020 17:37",
         "533.6166666666667"
        ],
        [
         "19",
         "10.03.2020 12:00",
         "01.04.2020 22:59",
         "538.9833333333333"
        ],
        [
         "20",
         "05.06.2020 11:30",
         "27.06.2020 12:41",
         "529.1833333333333"
        ],
        [
         "21",
         "17.02.2020 17:15",
         "10.03.2020 06:17",
         "517.0333333333333"
        ],
        [
         "22",
         "17.02.2020 17:15",
         "10.03.2020 12:33",
         "523.3"
        ],
        [
         "23",
         "17.02.2020 17:15",
         "10.03.2020 17:44",
         "528.4833333333333"
        ],
        [
         "24",
         "17.02.2020 17:15",
         "10.03.2020 23:43",
         "534.4666666666667"
        ],
        [
         "25",
         "07.01.2020 22:00",
         "29.01.2020 17:00",
         "523.0"
        ],
        [
         "26",
         "27.04.2021 20:00",
         "19.05.2021 07:09",
         "515.15"
        ],
        [
         "27",
         "27.04.2021 20:00",
         "19.05.2021 07:53",
         "515.8833333333333"
        ],
        [
         "28",
         "27.04.2021 20:00",
         "19.05.2021 08:54",
         "516.9"
        ],
        [
         "29",
         "27.04.2021 20:00",
         "19.05.2021 10:18",
         "518.3"
        ],
        [
         "30",
         "27.04.2021 20:00",
         "19.05.2021 12:29",
         "520.4833333333333"
        ],
        [
         "31",
         "27.04.2021 20:00",
         "19.05.2021 17:19",
         "525.3166666666667"
        ],
        [
         "32",
         "10.01.2021 17:00",
         "01.02.2021 06:44",
         "517.7333333333333"
        ],
        [
         "33",
         "10.01.2021 17:00",
         "01.02.2021 12:15",
         "523.25"
        ],
        [
         "34",
         "10.01.2021 17:00",
         "01.02.2021 16:17",
         "527.2833333333333"
        ],
        [
         "35",
         "10.01.2021 17:00",
         "01.02.2021 20:12",
         "531.2"
        ],
        [
         "36",
         "22.01.2018 11:30",
         "22.01.2018 13:26",
         "1.9333333333333333"
        ],
        [
         "37",
         "23.09.2018 16:00",
         "23.09.2018 19:52",
         "3.8666666666666667"
        ],
        [
         "38",
         "05.11.2018 13:00",
         "05.11.2018 19:06",
         "6.1"
        ],
        [
         "39",
         "03.08.2018 11:30",
         "03.08.2018 16:31",
         "5.016666666666667"
        ],
        [
         "40",
         "06.07.2018 16:50",
         "06.07.2018 17:35",
         "0.75"
        ],
        [
         "41",
         "25.11.2018 10:00",
         "25.11.2018 12:33",
         "2.55"
        ],
        [
         "42",
         "20.01.2018 16:15",
         "20.01.2018 17:23",
         "1.1333333333333333"
        ],
        [
         "43",
         "20.01.2018 16:15",
         "20.01.2018 20:04",
         "3.816666666666667"
        ],
        [
         "44",
         "11.10.2018 09:00",
         "11.10.2018 16:12",
         "7.2"
        ],
        [
         "45",
         "07.04.2018 14:30",
         "07.04.2018 15:49",
         "1.3166666666666667"
        ],
        [
         "46",
         "14.02.2018 00:00",
         "14.02.2018 09:42",
         "9.7"
        ],
        [
         "47",
         "17.06.2018 07:00",
         "17.06.2018 10:51",
         "3.85"
        ],
        [
         "48",
         "15.06.2018 20:30",
         "15.06.2018 23:31",
         "3.0166666666666666"
        ],
        [
         "49",
         "31.08.2018 10:00",
         "31.08.2018 12:48",
         "2.8"
        ]
       ],
       "shape": {
        "columns": 3,
        "rows": 7258
       }
      },
      "text/html": [
       "<div>\n",
       "<style scoped>\n",
       "    .dataframe tbody tr th:only-of-type {\n",
       "        vertical-align: middle;\n",
       "    }\n",
       "\n",
       "    .dataframe tbody tr th {\n",
       "        vertical-align: top;\n",
       "    }\n",
       "\n",
       "    .dataframe thead th {\n",
       "        text-align: right;\n",
       "    }\n",
       "</style>\n",
       "<table border=\"1\" class=\"dataframe\">\n",
       "  <thead>\n",
       "    <tr style=\"text-align: right;\">\n",
       "      <th></th>\n",
       "      <th>T0</th>\n",
       "      <th>sample_date</th>\n",
       "      <th>relative_sample_date</th>\n",
       "    </tr>\n",
       "  </thead>\n",
       "  <tbody>\n",
       "    <tr>\n",
       "      <th>0</th>\n",
       "      <td>31.08.2018 10:00</td>\n",
       "      <td>22.09.2018 10:31</td>\n",
       "      <td>528.516667</td>\n",
       "    </tr>\n",
       "    <tr>\n",
       "      <th>1</th>\n",
       "      <td>31.08.2018 10:00</td>\n",
       "      <td>22.09.2018 20:34</td>\n",
       "      <td>538.566667</td>\n",
       "    </tr>\n",
       "    <tr>\n",
       "      <th>2</th>\n",
       "      <td>22.07.2018 07:45</td>\n",
       "      <td>13.08.2018 10:33</td>\n",
       "      <td>530.800000</td>\n",
       "    </tr>\n",
       "    <tr>\n",
       "      <th>3</th>\n",
       "      <td>17.08.2018 19:00</td>\n",
       "      <td>08.09.2018 02:13</td>\n",
       "      <td>511.216667</td>\n",
       "    </tr>\n",
       "    <tr>\n",
       "      <th>4</th>\n",
       "      <td>17.08.2018 19:00</td>\n",
       "      <td>08.09.2018 06:02</td>\n",
       "      <td>515.033333</td>\n",
       "    </tr>\n",
       "    <tr>\n",
       "      <th>...</th>\n",
       "      <td>...</td>\n",
       "      <td>...</td>\n",
       "      <td>...</td>\n",
       "    </tr>\n",
       "    <tr>\n",
       "      <th>7253</th>\n",
       "      <td>21.03.2021 10:00</td>\n",
       "      <td>01.04.2021 06:16</td>\n",
       "      <td>260.266667</td>\n",
       "    </tr>\n",
       "    <tr>\n",
       "      <th>7254</th>\n",
       "      <td>21.03.2021 10:00</td>\n",
       "      <td>01.04.2021 10:49</td>\n",
       "      <td>264.816667</td>\n",
       "    </tr>\n",
       "    <tr>\n",
       "      <th>7255</th>\n",
       "      <td>21.03.2021 10:00</td>\n",
       "      <td>01.04.2021 17:40</td>\n",
       "      <td>271.666667</td>\n",
       "    </tr>\n",
       "    <tr>\n",
       "      <th>7256</th>\n",
       "      <td>03.08.2021 10:45</td>\n",
       "      <td>14.08.2021 04:11</td>\n",
       "      <td>257.433333</td>\n",
       "    </tr>\n",
       "    <tr>\n",
       "      <th>7257</th>\n",
       "      <td>03.08.2021 10:45</td>\n",
       "      <td>14.08.2021 08:45</td>\n",
       "      <td>262.000000</td>\n",
       "    </tr>\n",
       "  </tbody>\n",
       "</table>\n",
       "<p>7258 rows × 3 columns</p>\n",
       "</div>"
      ],
      "text/plain": [
       "                    T0       sample_date  relative_sample_date\n",
       "0     31.08.2018 10:00  22.09.2018 10:31            528.516667\n",
       "1     31.08.2018 10:00  22.09.2018 20:34            538.566667\n",
       "2     22.07.2018 07:45  13.08.2018 10:33            530.800000\n",
       "3     17.08.2018 19:00  08.09.2018 02:13            511.216667\n",
       "4     17.08.2018 19:00  08.09.2018 06:02            515.033333\n",
       "...                ...               ...                   ...\n",
       "7253  21.03.2021 10:00  01.04.2021 06:16            260.266667\n",
       "7254  21.03.2021 10:00  01.04.2021 10:49            264.816667\n",
       "7255  21.03.2021 10:00  01.04.2021 17:40            271.666667\n",
       "7256  03.08.2021 10:45  14.08.2021 04:11            257.433333\n",
       "7257  03.08.2021 10:45  14.08.2021 08:45            262.000000\n",
       "\n",
       "[7258 rows x 3 columns]"
      ]
     },
     "execution_count": 22,
     "metadata": {},
     "output_type": "execute_result"
    }
   ],
   "source": [
    "preprocessed_lactate_df[['T0', 'sample_date', 'relative_sample_date']]"
   ]
  },
  {
   "cell_type": "code",
   "execution_count": 23,
   "id": "ba2108f1",
   "metadata": {},
   "outputs": [],
   "source": [
    "\n",
    "# sns.set(style=\"whitegrid\")\n",
    "# plt.figure(figsize=(10, 6))\n",
    "# ax = sns.lineplot(x='relative_sample_date_hcat', y='value', data=preprocessed_lactate_df)\n",
    "\n",
    "# ax.set_xlim(-24, 7*24)"
   ]
  },
  {
   "cell_type": "code",
   "execution_count": 24,
   "id": "810a61a3",
   "metadata": {},
   "outputs": [
    {
     "data": {
      "text/plain": [
       "2131"
      ]
     },
     "execution_count": 24,
     "metadata": {},
     "output_type": "execute_result"
    }
   ],
   "source": [
    "preprocessed_lactate_df.case_admission_id.nunique()"
   ]
  },
  {
   "cell_type": "code",
   "execution_count": 25,
   "id": "36116211",
   "metadata": {},
   "outputs": [
    {
     "name": "stdout",
     "output_type": "stream",
     "text": [
      "Number of patients with lactate in first 24h: 1821\n",
      "Number of patients with lactate in 24 to 72h: 467\n"
     ]
    }
   ],
   "source": [
    "n_patients_with_lactate_in_first_24h = preprocessed_lactate_df[(preprocessed_lactate_df.relative_sample_date > -12) & (preprocessed_lactate_df.relative_sample_date < 24)].case_admission_id.nunique()\n",
    "n_patients_with_lactate_in_24_to_72h = preprocessed_lactate_df[(preprocessed_lactate_df.relative_sample_date > 24) & (preprocessed_lactate_df.relative_sample_date < 3*24)].case_admission_id.nunique()\n",
    "\n",
    "print(f'Number of patients with lactate in first 24h: {n_patients_with_lactate_in_first_24h}')\n",
    "print(f'Number of patients with lactate in 24 to 72h: {n_patients_with_lactate_in_24_to_72h}')"
   ]
  },
  {
   "cell_type": "code",
   "execution_count": 26,
   "id": "cd1be921",
   "metadata": {},
   "outputs": [
    {
     "name": "stderr",
     "output_type": "stream",
     "text": [
      "/Users/jk1/stroke_research/collaterals/outcome_preprocessing.py:72: SettingWithCopyWarning: \n",
      "A value is trying to be set on a copy of a slice from a DataFrame.\n",
      "Try using .loc[row_indexer,col_indexer] = value instead\n",
      "\n",
      "See the caveats in the documentation: https://pandas.pydata.org/pandas-docs/stable/user_guide/indexing.html#returning-a-view-versus-a-copy\n",
      "  outcome_df['3M mRS 0-1'] = np.where(outcome_df['3M mRS'].isna(), np.nan, np.where(outcome_df['3M mRS'] <= 1, 1, 0))\n",
      "/Users/jk1/stroke_research/collaterals/outcome_preprocessing.py:73: SettingWithCopyWarning: \n",
      "A value is trying to be set on a copy of a slice from a DataFrame.\n",
      "Try using .loc[row_indexer,col_indexer] = value instead\n",
      "\n",
      "See the caveats in the documentation: https://pandas.pydata.org/pandas-docs/stable/user_guide/indexing.html#returning-a-view-versus-a-copy\n",
      "  outcome_df['3M mRS 0-2'] = np.where(outcome_df['3M mRS'].isna(), np.nan, np.where(outcome_df['3M mRS'] <= 2, 1, 0))\n"
     ]
    }
   ],
   "source": [
    "outcome_df = preprocess_outcomes(registry_path)\n",
    "outcome_df = outcome_df[outcome_df.case_admission_id.isin(inclusion_registry_df.case_admission_id.unique())]\n",
    "outcome_df.drop_duplicates(subset='case_admission_id', keep='first', inplace=True)"
   ]
  },
  {
   "cell_type": "code",
   "execution_count": 27,
   "id": "1ed82ffd",
   "metadata": {},
   "outputs": [],
   "source": [
    "preprocessed_lactate_df = preprocessed_lactate_df.merge(\n",
    "    outcome_df[['case_admission_id', '3M mRS']],\n",
    "    on='case_admission_id',\n",
    "    how='left'\n",
    ")"
   ]
  },
  {
   "cell_type": "code",
   "execution_count": 28,
   "id": "df35f259",
   "metadata": {},
   "outputs": [
    {
     "data": {
      "application/vnd.microsoft.datawrangler.viewer.v0+json": {
       "columns": [
        {
         "name": "index",
         "rawType": "int64",
         "type": "integer"
        },
        {
         "name": "patient_id_gc",
         "rawType": "object",
         "type": "string"
        },
        {
         "name": "eds_final_patient_id_gc",
         "rawType": "object",
         "type": "string"
        },
        {
         "name": "sample_date",
         "rawType": "object",
         "type": "string"
        },
        {
         "name": "analyse_label",
         "rawType": "object",
         "type": "string"
        },
        {
         "name": "dosage_label",
         "rawType": "object",
         "type": "string"
        },
        {
         "name": "material_label",
         "rawType": "object",
         "type": "string"
        },
        {
         "name": "unit_of_measure",
         "rawType": "object",
         "type": "string"
        },
        {
         "name": "value",
         "rawType": "float64",
         "type": "float"
        },
        {
         "name": "lower_limit",
         "rawType": "object",
         "type": "string"
        },
        {
         "name": "upper_limit",
         "rawType": "object",
         "type": "string"
        },
        {
         "name": "case_admission_id",
         "rawType": "object",
         "type": "string"
        },
        {
         "name": "T0",
         "rawType": "object",
         "type": "string"
        },
        {
         "name": "relative_sample_date",
         "rawType": "float64",
         "type": "float"
        },
        {
         "name": "relative_sample_date_hcat",
         "rawType": "float64",
         "type": "float"
        },
        {
         "name": "3M mRS",
         "rawType": "float64",
         "type": "float"
        }
       ],
       "ref": "da737a5d-523a-4bd3-b9b4-fb41f2628150",
       "rows": [
        [
         "0",
         "Oui",
         "Oui",
         "22.09.2018 10:31",
         "G-Lactate",
         "lactate",
         "any_blood",
         "mmol/l",
         "0.6",
         "0.5",
         "1.6",
         "115383_8908",
         "31.08.2018 10:00",
         "528.5166666666667",
         "528.0",
         "1.0"
        ],
        [
         "1",
         "Oui",
         "Oui",
         "22.09.2018 20:34",
         "G-Lactate",
         "lactate",
         "any_blood",
         "mmol/l",
         "0.4",
         "0.5",
         "1.6",
         "115383_8908",
         "31.08.2018 10:00",
         "538.5666666666667",
         "538.0",
         "1.0"
        ],
        [
         "2",
         "non renseigne",
         "non renseigne",
         "13.08.2018 10:33",
         "G-Lactate",
         "lactate",
         "any_blood",
         "mmol/l",
         "2.2",
         null,
         null,
         "321096_4448",
         "22.07.2018 07:45",
         "530.8",
         "530.0",
         "4.0"
        ],
        [
         "3",
         "non renseigne",
         "non renseigne",
         "08.09.2018 02:13",
         "G-Lactate",
         "lactate",
         "any_blood",
         "mmol/l",
         "0.8",
         "0.5",
         "1.6",
         "97186379_4096",
         "17.08.2018 19:00",
         "511.21666666666664",
         "511.0",
         "3.0"
        ],
        [
         "4",
         "non renseigne",
         "non renseigne",
         "08.09.2018 06:02",
         "G-Lactate",
         "lactate",
         "any_blood",
         "mmol/l",
         "0.8",
         "0.5",
         "1.6",
         "97186379_4096",
         "17.08.2018 19:00",
         "515.0333333333333",
         "515.0",
         "3.0"
        ]
       ],
       "shape": {
        "columns": 15,
        "rows": 5
       }
      },
      "text/html": [
       "<div>\n",
       "<style scoped>\n",
       "    .dataframe tbody tr th:only-of-type {\n",
       "        vertical-align: middle;\n",
       "    }\n",
       "\n",
       "    .dataframe tbody tr th {\n",
       "        vertical-align: top;\n",
       "    }\n",
       "\n",
       "    .dataframe thead th {\n",
       "        text-align: right;\n",
       "    }\n",
       "</style>\n",
       "<table border=\"1\" class=\"dataframe\">\n",
       "  <thead>\n",
       "    <tr style=\"text-align: right;\">\n",
       "      <th></th>\n",
       "      <th>patient_id_gc</th>\n",
       "      <th>eds_final_patient_id_gc</th>\n",
       "      <th>sample_date</th>\n",
       "      <th>analyse_label</th>\n",
       "      <th>dosage_label</th>\n",
       "      <th>material_label</th>\n",
       "      <th>unit_of_measure</th>\n",
       "      <th>value</th>\n",
       "      <th>lower_limit</th>\n",
       "      <th>upper_limit</th>\n",
       "      <th>case_admission_id</th>\n",
       "      <th>T0</th>\n",
       "      <th>relative_sample_date</th>\n",
       "      <th>relative_sample_date_hcat</th>\n",
       "      <th>3M mRS</th>\n",
       "    </tr>\n",
       "  </thead>\n",
       "  <tbody>\n",
       "    <tr>\n",
       "      <th>0</th>\n",
       "      <td>Oui</td>\n",
       "      <td>Oui</td>\n",
       "      <td>22.09.2018 10:31</td>\n",
       "      <td>G-Lactate</td>\n",
       "      <td>lactate</td>\n",
       "      <td>any_blood</td>\n",
       "      <td>mmol/l</td>\n",
       "      <td>0.6</td>\n",
       "      <td>0.5</td>\n",
       "      <td>1.6</td>\n",
       "      <td>115383_8908</td>\n",
       "      <td>31.08.2018 10:00</td>\n",
       "      <td>528.516667</td>\n",
       "      <td>528.0</td>\n",
       "      <td>1.0</td>\n",
       "    </tr>\n",
       "    <tr>\n",
       "      <th>1</th>\n",
       "      <td>Oui</td>\n",
       "      <td>Oui</td>\n",
       "      <td>22.09.2018 20:34</td>\n",
       "      <td>G-Lactate</td>\n",
       "      <td>lactate</td>\n",
       "      <td>any_blood</td>\n",
       "      <td>mmol/l</td>\n",
       "      <td>0.4</td>\n",
       "      <td>0.5</td>\n",
       "      <td>1.6</td>\n",
       "      <td>115383_8908</td>\n",
       "      <td>31.08.2018 10:00</td>\n",
       "      <td>538.566667</td>\n",
       "      <td>538.0</td>\n",
       "      <td>1.0</td>\n",
       "    </tr>\n",
       "    <tr>\n",
       "      <th>2</th>\n",
       "      <td>non renseigne</td>\n",
       "      <td>non renseigne</td>\n",
       "      <td>13.08.2018 10:33</td>\n",
       "      <td>G-Lactate</td>\n",
       "      <td>lactate</td>\n",
       "      <td>any_blood</td>\n",
       "      <td>mmol/l</td>\n",
       "      <td>2.2</td>\n",
       "      <td>NaN</td>\n",
       "      <td>NaN</td>\n",
       "      <td>321096_4448</td>\n",
       "      <td>22.07.2018 07:45</td>\n",
       "      <td>530.800000</td>\n",
       "      <td>530.0</td>\n",
       "      <td>4.0</td>\n",
       "    </tr>\n",
       "    <tr>\n",
       "      <th>3</th>\n",
       "      <td>non renseigne</td>\n",
       "      <td>non renseigne</td>\n",
       "      <td>08.09.2018 02:13</td>\n",
       "      <td>G-Lactate</td>\n",
       "      <td>lactate</td>\n",
       "      <td>any_blood</td>\n",
       "      <td>mmol/l</td>\n",
       "      <td>0.8</td>\n",
       "      <td>0.5</td>\n",
       "      <td>1.6</td>\n",
       "      <td>97186379_4096</td>\n",
       "      <td>17.08.2018 19:00</td>\n",
       "      <td>511.216667</td>\n",
       "      <td>511.0</td>\n",
       "      <td>3.0</td>\n",
       "    </tr>\n",
       "    <tr>\n",
       "      <th>4</th>\n",
       "      <td>non renseigne</td>\n",
       "      <td>non renseigne</td>\n",
       "      <td>08.09.2018 06:02</td>\n",
       "      <td>G-Lactate</td>\n",
       "      <td>lactate</td>\n",
       "      <td>any_blood</td>\n",
       "      <td>mmol/l</td>\n",
       "      <td>0.8</td>\n",
       "      <td>0.5</td>\n",
       "      <td>1.6</td>\n",
       "      <td>97186379_4096</td>\n",
       "      <td>17.08.2018 19:00</td>\n",
       "      <td>515.033333</td>\n",
       "      <td>515.0</td>\n",
       "      <td>3.0</td>\n",
       "    </tr>\n",
       "  </tbody>\n",
       "</table>\n",
       "</div>"
      ],
      "text/plain": [
       "   patient_id_gc eds_final_patient_id_gc       sample_date analyse_label  \\\n",
       "0            Oui                     Oui  22.09.2018 10:31     G-Lactate   \n",
       "1            Oui                     Oui  22.09.2018 20:34     G-Lactate   \n",
       "2  non renseigne           non renseigne  13.08.2018 10:33     G-Lactate   \n",
       "3  non renseigne           non renseigne  08.09.2018 02:13     G-Lactate   \n",
       "4  non renseigne           non renseigne  08.09.2018 06:02     G-Lactate   \n",
       "\n",
       "  dosage_label material_label unit_of_measure  value lower_limit upper_limit  \\\n",
       "0      lactate      any_blood          mmol/l    0.6         0.5         1.6   \n",
       "1      lactate      any_blood          mmol/l    0.4         0.5         1.6   \n",
       "2      lactate      any_blood          mmol/l    2.2         NaN         NaN   \n",
       "3      lactate      any_blood          mmol/l    0.8         0.5         1.6   \n",
       "4      lactate      any_blood          mmol/l    0.8         0.5         1.6   \n",
       "\n",
       "  case_admission_id                T0  relative_sample_date  \\\n",
       "0       115383_8908  31.08.2018 10:00            528.516667   \n",
       "1       115383_8908  31.08.2018 10:00            538.566667   \n",
       "2       321096_4448  22.07.2018 07:45            530.800000   \n",
       "3     97186379_4096  17.08.2018 19:00            511.216667   \n",
       "4     97186379_4096  17.08.2018 19:00            515.033333   \n",
       "\n",
       "   relative_sample_date_hcat  3M mRS  \n",
       "0                      528.0     1.0  \n",
       "1                      538.0     1.0  \n",
       "2                      530.0     4.0  \n",
       "3                      511.0     3.0  \n",
       "4                      515.0     3.0  "
      ]
     },
     "execution_count": 28,
     "metadata": {},
     "output_type": "execute_result"
    }
   ],
   "source": [
    "preprocessed_lactate_df.head()"
   ]
  },
  {
   "cell_type": "code",
   "execution_count": 29,
   "id": "1cb4a38c",
   "metadata": {},
   "outputs": [],
   "source": [
    "early_lactate_df = preprocessed_lactate_df[(preprocessed_lactate_df.relative_sample_date > -12) & (preprocessed_lactate_df.relative_sample_date < 24)]\n",
    "lactate_d2_df = preprocessed_lactate_df[(preprocessed_lactate_df.relative_sample_date > 24) & (preprocessed_lactate_df.relative_sample_date < 2*72)]\n",
    "lactate_d3_df = preprocessed_lactate_df[(preprocessed_lactate_df.relative_sample_date > 2*24) & (preprocessed_lactate_df.relative_sample_date < 3*72)]\n",
    "lactate_d_2_3_df = preprocessed_lactate_df[(preprocessed_lactate_df.relative_sample_date > 1*24) & (preprocessed_lactate_df.relative_sample_date < 3*72)]"
   ]
  },
  {
   "cell_type": "code",
   "execution_count": 30,
   "id": "5fcc4a00",
   "metadata": {},
   "outputs": [
    {
     "name": "stdout",
     "output_type": "stream",
     "text": [
      "Pearson correlation: 0.07478534139132387, p-value: 9.212030431816934e-05\n"
     ]
    }
   ],
   "source": [
    "# correlation of early lactate with outcome\n",
    "temp_df = early_lactate_df.dropna(subset=['value', '3M mRS'])\n",
    "corr, p_value = pearsonr(temp_df['value'], temp_df['3M mRS'])\n",
    "print(f'Pearson correlation: {corr}, p-value: {p_value}')"
   ]
  },
  {
   "cell_type": "code",
   "execution_count": 31,
   "id": "b5bd9ab5",
   "metadata": {},
   "outputs": [
    {
     "name": "stdout",
     "output_type": "stream",
     "text": [
      "Pearson correlation: 0.03538940472350459, p-value: 0.11262165860570118\n"
     ]
    }
   ],
   "source": [
    "# correlation of d2 lactate with outcome\n",
    "temp_df = lactate_d2_df.dropna(subset=['value', '3M mRS'])\n",
    "corr, p_value = pearsonr(temp_df['value'], temp_df['3M mRS'])\n",
    "print(f'Pearson correlation: {corr}, p-value: {p_value}')"
   ]
  },
  {
   "cell_type": "code",
   "execution_count": 32,
   "id": "c3e6267c",
   "metadata": {},
   "outputs": [
    {
     "name": "stdout",
     "output_type": "stream",
     "text": [
      "Pearson correlation: 0.033915847414756825, p-value: 0.18587487864178592\n"
     ]
    }
   ],
   "source": [
    "# correlation of d3 lactate with outcome\n",
    "temp_df = lactate_d3_df.dropna(subset=['value', '3M mRS'])\n",
    "corr, p_value = pearsonr(temp_df['value'], temp_df['3M mRS'])\n",
    "print(f'Pearson correlation: {corr}, p-value: {p_value}')"
   ]
  },
  {
   "cell_type": "code",
   "execution_count": 33,
   "id": "035594dc",
   "metadata": {},
   "outputs": [
    {
     "name": "stdout",
     "output_type": "stream",
     "text": [
      "Pearson correlation: 0.036164821432686574, p-value: 0.0770549302852999\n"
     ]
    }
   ],
   "source": [
    "# correlation of d3 lactate with outcome\n",
    "temp_df = lactate_d_2_3_df.dropna(subset=['value', '3M mRS'])\n",
    "corr, p_value = pearsonr(temp_df['value'], temp_df['3M mRS'])\n",
    "print(f'Pearson correlation: {corr}, p-value: {p_value}')"
   ]
  },
  {
   "cell_type": "code",
   "execution_count": 34,
   "id": "d188866e",
   "metadata": {},
   "outputs": [
    {
     "name": "stdout",
     "output_type": "stream",
     "text": [
      "Optimization terminated successfully.\n",
      "         Current function value: 1.736267\n",
      "         Iterations: 310\n",
      "         Function evaluations: 483\n"
     ]
    },
    {
     "data": {
      "text/html": [
       "<table class=\"simpletable\">\n",
       "<caption>OrderedModel Results</caption>\n",
       "<tr>\n",
       "  <th>Dep. Variable:</th>          <td>3M mRS</td>       <th>  Log-Likelihood:    </th> <td> -4151.4</td>\n",
       "</tr>\n",
       "<tr>\n",
       "  <th>Model:</th>               <td>OrderedModel</td>    <th>  AIC:               </th> <td>   8317.</td>\n",
       "</tr>\n",
       "<tr>\n",
       "  <th>Method:</th>           <td>Maximum Likelihood</td> <th>  BIC:               </th> <td>   8357.</td>\n",
       "</tr>\n",
       "<tr>\n",
       "  <th>Date:</th>              <td>Fri, 25 Jul 2025</td>  <th>                     </th>     <td> </td>   \n",
       "</tr>\n",
       "<tr>\n",
       "  <th>Time:</th>                  <td>15:22:19</td>      <th>                     </th>     <td> </td>   \n",
       "</tr>\n",
       "<tr>\n",
       "  <th>No. Observations:</th>       <td>  2391</td>       <th>                     </th>     <td> </td>   \n",
       "</tr>\n",
       "<tr>\n",
       "  <th>Df Residuals:</th>           <td>  2384</td>       <th>                     </th>     <td> </td>   \n",
       "</tr>\n",
       "<tr>\n",
       "  <th>Df Model:</th>               <td>     1</td>       <th>                     </th>     <td> </td>   \n",
       "</tr>\n",
       "</table>\n",
       "<table class=\"simpletable\">\n",
       "<tr>\n",
       "     <td></td>        <th>coef</th>     <th>std err</th>      <th>z</th>      <th>P>|z|</th>  <th>[0.025</th>    <th>0.975]</th>  \n",
       "</tr>\n",
       "<tr>\n",
       "  <th>value</th>   <td>    0.0950</td> <td>    0.040</td> <td>    2.398</td> <td> 0.017</td> <td>    0.017</td> <td>    0.173</td>\n",
       "</tr>\n",
       "<tr>\n",
       "  <th>0.0/1.0</th> <td>   -2.6339</td> <td>    0.096</td> <td>  -27.361</td> <td> 0.000</td> <td>   -2.823</td> <td>   -2.445</td>\n",
       "</tr>\n",
       "<tr>\n",
       "  <th>1.0/2.0</th> <td>    0.0945</td> <td>    0.064</td> <td>    1.479</td> <td> 0.139</td> <td>   -0.031</td> <td>    0.220</td>\n",
       "</tr>\n",
       "<tr>\n",
       "  <th>2.0/3.0</th> <td>   -0.7382</td> <td>    0.072</td> <td>  -10.234</td> <td> 0.000</td> <td>   -0.880</td> <td>   -0.597</td>\n",
       "</tr>\n",
       "<tr>\n",
       "  <th>3.0/4.0</th> <td>   -0.3867</td> <td>    0.051</td> <td>   -7.579</td> <td> 0.000</td> <td>   -0.487</td> <td>   -0.287</td>\n",
       "</tr>\n",
       "<tr>\n",
       "  <th>4.0/5.0</th> <td>   -0.5019</td> <td>    0.050</td> <td>  -10.110</td> <td> 0.000</td> <td>   -0.599</td> <td>   -0.405</td>\n",
       "</tr>\n",
       "<tr>\n",
       "  <th>5.0/6.0</th> <td>   -1.0441</td> <td>    0.067</td> <td>  -15.554</td> <td> 0.000</td> <td>   -1.176</td> <td>   -0.913</td>\n",
       "</tr>\n",
       "</table>"
      ],
      "text/latex": [
       "\\begin{center}\n",
       "\\begin{tabular}{lclc}\n",
       "\\toprule\n",
       "\\textbf{Dep. Variable:}    &       3M mRS       & \\textbf{  Log-Likelihood:    } &   -4151.4   \\\\\n",
       "\\textbf{Model:}            &    OrderedModel    & \\textbf{  AIC:               } &     8317.   \\\\\n",
       "\\textbf{Method:}           & Maximum Likelihood & \\textbf{  BIC:               } &     8357.   \\\\\n",
       "\\textbf{Date:}             &  Fri, 25 Jul 2025  & \\textbf{                     } &             \\\\\n",
       "\\textbf{Time:}             &      15:22:19      & \\textbf{                     } &             \\\\\n",
       "\\textbf{No. Observations:} &         2391       & \\textbf{                     } &             \\\\\n",
       "\\textbf{Df Residuals:}     &         2384       & \\textbf{                     } &             \\\\\n",
       "\\textbf{Df Model:}         &            1       & \\textbf{                     } &             \\\\\n",
       "\\bottomrule\n",
       "\\end{tabular}\n",
       "\\begin{tabular}{lcccccc}\n",
       "                 & \\textbf{coef} & \\textbf{std err} & \\textbf{z} & \\textbf{P$> |$z$|$} & \\textbf{[0.025} & \\textbf{0.975]}  \\\\\n",
       "\\midrule\n",
       "\\textbf{value}   &       0.0950  &        0.040     &     2.398  &         0.017        &        0.017    &        0.173     \\\\\n",
       "\\textbf{0.0/1.0} &      -2.6339  &        0.096     &   -27.361  &         0.000        &       -2.823    &       -2.445     \\\\\n",
       "\\textbf{1.0/2.0} &       0.0945  &        0.064     &     1.479  &         0.139        &       -0.031    &        0.220     \\\\\n",
       "\\textbf{2.0/3.0} &      -0.7382  &        0.072     &   -10.234  &         0.000        &       -0.880    &       -0.597     \\\\\n",
       "\\textbf{3.0/4.0} &      -0.3867  &        0.051     &    -7.579  &         0.000        &       -0.487    &       -0.287     \\\\\n",
       "\\textbf{4.0/5.0} &      -0.5019  &        0.050     &   -10.110  &         0.000        &       -0.599    &       -0.405     \\\\\n",
       "\\textbf{5.0/6.0} &      -1.0441  &        0.067     &   -15.554  &         0.000        &       -1.176    &       -0.913     \\\\\n",
       "\\bottomrule\n",
       "\\end{tabular}\n",
       "%\\caption{OrderedModel Results}\n",
       "\\end{center}"
      ],
      "text/plain": [
       "<class 'statsmodels.iolib.summary.Summary'>\n",
       "\"\"\"\n",
       "                             OrderedModel Results                             \n",
       "==============================================================================\n",
       "Dep. Variable:                 3M mRS   Log-Likelihood:                -4151.4\n",
       "Model:                   OrderedModel   AIC:                             8317.\n",
       "Method:            Maximum Likelihood   BIC:                             8357.\n",
       "Date:                Fri, 25 Jul 2025                                         \n",
       "Time:                        15:22:19                                         \n",
       "No. Observations:                2391                                         \n",
       "Df Residuals:                    2384                                         \n",
       "Df Model:                           1                                         \n",
       "==============================================================================\n",
       "                 coef    std err          z      P>|z|      [0.025      0.975]\n",
       "------------------------------------------------------------------------------\n",
       "value          0.0950      0.040      2.398      0.017       0.017       0.173\n",
       "0.0/1.0       -2.6339      0.096    -27.361      0.000      -2.823      -2.445\n",
       "1.0/2.0        0.0945      0.064      1.479      0.139      -0.031       0.220\n",
       "2.0/3.0       -0.7382      0.072    -10.234      0.000      -0.880      -0.597\n",
       "3.0/4.0       -0.3867      0.051     -7.579      0.000      -0.487      -0.287\n",
       "4.0/5.0       -0.5019      0.050    -10.110      0.000      -0.599      -0.405\n",
       "5.0/6.0       -1.0441      0.067    -15.554      0.000      -1.176      -0.913\n",
       "==============================================================================\n",
       "\"\"\""
      ]
     },
     "execution_count": 34,
     "metadata": {},
     "output_type": "execute_result"
    }
   ],
   "source": [
    "\n",
    "mod_log = OrderedModel(temp_df['3M mRS'],\n",
    "                        temp_df[['value']],\n",
    "                        distr='logit')\n",
    "\n",
    "res_log = mod_log.fit()\n",
    "res_log.summary()"
   ]
  },
  {
   "cell_type": "code",
   "execution_count": 35,
   "id": "1d2680f4",
   "metadata": {},
   "outputs": [
    {
     "data": {
      "application/vnd.microsoft.datawrangler.viewer.v0+json": {
       "columns": [
        {
         "name": "index",
         "rawType": "object",
         "type": "string"
        },
        {
         "name": "value",
         "rawType": "float64",
         "type": "float"
        },
        {
         "name": "relative_sample_date",
         "rawType": "float64",
         "type": "float"
        },
        {
         "name": "relative_sample_date_hcat",
         "rawType": "float64",
         "type": "float"
        },
        {
         "name": "3M mRS",
         "rawType": "float64",
         "type": "float"
        }
       ],
       "ref": "b6854675-edcc-4c50-bc3c-922b7eefea0b",
       "rows": [
        [
         "count",
         "3229.0",
         "3229.0",
         "3229.0",
         "2729.0"
        ],
        [
         "mean",
         "1.5257664911737383",
         "9.275606482915247",
         "8.786621244967483",
         "2.9017955294979845"
        ],
        [
         "std",
         "1.1768413066111334",
         "6.687499879200137",
         "6.6925299596471675",
         "2.2588763655224935"
        ],
        [
         "min",
         "0.1",
         "-1.5833333333333333",
         "-2.0",
         "0.0"
        ],
        [
         "25%",
         "0.9",
         "3.2333333333333334",
         "3.0",
         "1.0"
        ],
        [
         "50%",
         "1.3",
         "7.883333333333334",
         "7.0",
         "3.0"
        ],
        [
         "75%",
         "1.8",
         "14.4",
         "14.0",
         "5.0"
        ],
        [
         "max",
         "21.0",
         "23.983333333333334",
         "23.0",
         "6.0"
        ]
       ],
       "shape": {
        "columns": 4,
        "rows": 8
       }
      },
      "text/html": [
       "<div>\n",
       "<style scoped>\n",
       "    .dataframe tbody tr th:only-of-type {\n",
       "        vertical-align: middle;\n",
       "    }\n",
       "\n",
       "    .dataframe tbody tr th {\n",
       "        vertical-align: top;\n",
       "    }\n",
       "\n",
       "    .dataframe thead th {\n",
       "        text-align: right;\n",
       "    }\n",
       "</style>\n",
       "<table border=\"1\" class=\"dataframe\">\n",
       "  <thead>\n",
       "    <tr style=\"text-align: right;\">\n",
       "      <th></th>\n",
       "      <th>value</th>\n",
       "      <th>relative_sample_date</th>\n",
       "      <th>relative_sample_date_hcat</th>\n",
       "      <th>3M mRS</th>\n",
       "    </tr>\n",
       "  </thead>\n",
       "  <tbody>\n",
       "    <tr>\n",
       "      <th>count</th>\n",
       "      <td>3229.000000</td>\n",
       "      <td>3229.000000</td>\n",
       "      <td>3229.000000</td>\n",
       "      <td>2729.000000</td>\n",
       "    </tr>\n",
       "    <tr>\n",
       "      <th>mean</th>\n",
       "      <td>1.525766</td>\n",
       "      <td>9.275606</td>\n",
       "      <td>8.786621</td>\n",
       "      <td>2.901796</td>\n",
       "    </tr>\n",
       "    <tr>\n",
       "      <th>std</th>\n",
       "      <td>1.176841</td>\n",
       "      <td>6.687500</td>\n",
       "      <td>6.692530</td>\n",
       "      <td>2.258876</td>\n",
       "    </tr>\n",
       "    <tr>\n",
       "      <th>min</th>\n",
       "      <td>0.100000</td>\n",
       "      <td>-1.583333</td>\n",
       "      <td>-2.000000</td>\n",
       "      <td>0.000000</td>\n",
       "    </tr>\n",
       "    <tr>\n",
       "      <th>25%</th>\n",
       "      <td>0.900000</td>\n",
       "      <td>3.233333</td>\n",
       "      <td>3.000000</td>\n",
       "      <td>1.000000</td>\n",
       "    </tr>\n",
       "    <tr>\n",
       "      <th>50%</th>\n",
       "      <td>1.300000</td>\n",
       "      <td>7.883333</td>\n",
       "      <td>7.000000</td>\n",
       "      <td>3.000000</td>\n",
       "    </tr>\n",
       "    <tr>\n",
       "      <th>75%</th>\n",
       "      <td>1.800000</td>\n",
       "      <td>14.400000</td>\n",
       "      <td>14.000000</td>\n",
       "      <td>5.000000</td>\n",
       "    </tr>\n",
       "    <tr>\n",
       "      <th>max</th>\n",
       "      <td>21.000000</td>\n",
       "      <td>23.983333</td>\n",
       "      <td>23.000000</td>\n",
       "      <td>6.000000</td>\n",
       "    </tr>\n",
       "  </tbody>\n",
       "</table>\n",
       "</div>"
      ],
      "text/plain": [
       "             value  relative_sample_date  relative_sample_date_hcat  \\\n",
       "count  3229.000000           3229.000000                3229.000000   \n",
       "mean      1.525766              9.275606                   8.786621   \n",
       "std       1.176841              6.687500                   6.692530   \n",
       "min       0.100000             -1.583333                  -2.000000   \n",
       "25%       0.900000              3.233333                   3.000000   \n",
       "50%       1.300000              7.883333                   7.000000   \n",
       "75%       1.800000             14.400000                  14.000000   \n",
       "max      21.000000             23.983333                  23.000000   \n",
       "\n",
       "            3M mRS  \n",
       "count  2729.000000  \n",
       "mean      2.901796  \n",
       "std       2.258876  \n",
       "min       0.000000  \n",
       "25%       1.000000  \n",
       "50%       3.000000  \n",
       "75%       5.000000  \n",
       "max       6.000000  "
      ]
     },
     "execution_count": 35,
     "metadata": {},
     "output_type": "execute_result"
    }
   ],
   "source": [
    "early_lactate_df.describe()"
   ]
  },
  {
   "cell_type": "markdown",
   "id": "d0f21dc9",
   "metadata": {},
   "source": [
    "adjust form age, NIHSS, mRs"
   ]
  },
  {
   "cell_type": "code",
   "execution_count": 36,
   "id": "0858066f",
   "metadata": {},
   "outputs": [
    {
     "data": {
      "application/vnd.microsoft.datawrangler.viewer.v0+json": {
       "columns": [
        {
         "name": "index",
         "rawType": "int64",
         "type": "integer"
        },
        {
         "name": "Unnamed: 0",
         "rawType": "object",
         "type": "string"
        },
        {
         "name": "Case ID",
         "rawType": "object",
         "type": "string"
        },
        {
         "name": "Centre",
         "rawType": "object",
         "type": "string"
        },
        {
         "name": "Entry date",
         "rawType": "object",
         "type": "string"
        },
        {
         "name": "Entry person",
         "rawType": "object",
         "type": "string"
        },
        {
         "name": "Patient refuses use of data for research",
         "rawType": "object",
         "type": "string"
        },
        {
         "name": "Last name",
         "rawType": "object",
         "type": "string"
        },
        {
         "name": "First name",
         "rawType": "object",
         "type": "string"
        },
        {
         "name": "DOB",
         "rawType": "object",
         "type": "string"
        },
        {
         "name": "Type of event",
         "rawType": "object",
         "type": "string"
        },
        {
         "name": "ZIP",
         "rawType": "object",
         "type": "string"
        },
        {
         "name": "Non-Swiss",
         "rawType": "object",
         "type": "string"
        },
        {
         "name": "Arrival at hospital",
         "rawType": "object",
         "type": "string"
        },
        {
         "name": "Arrival time",
         "rawType": "object",
         "type": "string"
        },
        {
         "name": "Age (calc.)",
         "rawType": "object",
         "type": "string"
        },
        {
         "name": "Sex",
         "rawType": "object",
         "type": "string"
        },
        {
         "name": "Ethnicity",
         "rawType": "object",
         "type": "string"
        },
        {
         "name": "Other ethnicity",
         "rawType": "object",
         "type": "string"
        },
        {
         "name": "Insurance",
         "rawType": "object",
         "type": "string"
        },
        {
         "name": "Time of symptom onset known",
         "rawType": "object",
         "type": "string"
        },
        {
         "name": "Onset date",
         "rawType": "object",
         "type": "string"
        },
        {
         "name": "Onset time",
         "rawType": "object",
         "type": "string"
        },
        {
         "name": "Wake-up date",
         "rawType": "object",
         "type": "string"
        },
        {
         "name": "Wake-up time",
         "rawType": "object",
         "type": "string"
        },
        {
         "name": "Referral",
         "rawType": "object",
         "type": "string"
        },
        {
         "name": "Patient referred to",
         "rawType": "object",
         "type": "string"
        },
        {
         "name": "Transport",
         "rawType": "object",
         "type": "string"
        },
        {
         "name": "Prestroke living situation",
         "rawType": "object",
         "type": "string"
        },
        {
         "name": "Prestroke disability (Rankin)",
         "rawType": "object",
         "type": "string"
        },
        {
         "name": "Stroke syndrom (Bamford)",
         "rawType": "object",
         "type": "string"
        },
        {
         "name": "NIH on admission",
         "rawType": "object",
         "type": "string"
        },
        {
         "name": "GCS on admission",
         "rawType": "object",
         "type": "string"
        },
        {
         "name": "1st syst. bp",
         "rawType": "object",
         "type": "string"
        },
        {
         "name": "1st diast. bp",
         "rawType": "object",
         "type": "string"
        },
        {
         "name": "Height",
         "rawType": "object",
         "type": "string"
        },
        {
         "name": "Weight",
         "rawType": "object",
         "type": "string"
        },
        {
         "name": "BMI",
         "rawType": "object",
         "type": "string"
        },
        {
         "name": "Aspirin pre-stroke",
         "rawType": "object",
         "type": "string"
        },
        {
         "name": "Clopidogrel pre-stroke",
         "rawType": "object",
         "type": "string"
        },
        {
         "name": "Prasugrel pre-stroke",
         "rawType": "object",
         "type": "string"
        },
        {
         "name": "Ticagrelor pre-stroke",
         "rawType": "object",
         "type": "string"
        },
        {
         "name": "Dipyridamole pre-stroke",
         "rawType": "object",
         "type": "string"
        },
        {
         "name": "Vit. K ag pre-stroke",
         "rawType": "object",
         "type": "string"
        },
        {
         "name": "Vit. K ag INR",
         "rawType": "object",
         "type": "string"
        },
        {
         "name": "Rivaroxaban pre-stroke",
         "rawType": "object",
         "type": "string"
        },
        {
         "name": "Dabigatran pre-stroke",
         "rawType": "object",
         "type": "string"
        },
        {
         "name": "Apixaban pre-stroke",
         "rawType": "object",
         "type": "string"
        },
        {
         "name": "Edoxaban pre-stroke",
         "rawType": "object",
         "type": "string"
        },
        {
         "name": "Parenteral ac pre-stroke",
         "rawType": "object",
         "type": "string"
        },
        {
         "name": "Antihypert. drugs pre-stroke",
         "rawType": "object",
         "type": "string"
        },
        {
         "name": "Lipid lowering drugs pre-stroke",
         "rawType": "object",
         "type": "string"
        },
        {
         "name": "Hormone repl. or contracept.",
         "rawType": "object",
         "type": "string"
        },
        {
         "name": "1st brain imaging type",
         "rawType": "object",
         "type": "string"
        },
        {
         "name": "1st brain imaging date",
         "rawType": "object",
         "type": "string"
        },
        {
         "name": "1st brain imaging time",
         "rawType": "object",
         "type": "string"
        },
        {
         "name": "Door to image (min.)",
         "rawType": "object",
         "type": "string"
        },
        {
         "name": "1st brain imaging result",
         "rawType": "object",
         "type": "string"
        },
        {
         "name": "Acute perf. imaging type",
         "rawType": "object",
         "type": "string"
        },
        {
         "name": "Acute perf. imaging result",
         "rawType": "object",
         "type": "string"
        },
        {
         "name": "1st vascular imaging type",
         "rawType": "object",
         "type": "string"
        },
        {
         "name": "1st vascular imaging result",
         "rawType": "object",
         "type": "string"
        },
        {
         "name": "Antiplatelet drugs",
         "rawType": "object",
         "type": "string"
        },
        {
         "name": "Anticoagulants",
         "rawType": "object",
         "type": "string"
        },
        {
         "name": "IVT with rtPA",
         "rawType": "object",
         "type": "string"
        },
        {
         "name": "IVT start date",
         "rawType": "object",
         "type": "string"
        },
        {
         "name": "IVT start time",
         "rawType": "object",
         "type": "string"
        },
        {
         "name": "Total rtPA dose",
         "rawType": "object",
         "type": "string"
        },
        {
         "name": "Onset to treatment (min.)",
         "rawType": "object",
         "type": "string"
        },
        {
         "name": "Door to treatment (min.)",
         "rawType": "object",
         "type": "string"
        },
        {
         "name": "IAT",
         "rawType": "object",
         "type": "string"
        },
        {
         "name": "Date of groin puncture",
         "rawType": "object",
         "type": "string"
        },
        {
         "name": "Time of groin puncture",
         "rawType": "object",
         "type": "string"
        },
        {
         "name": "Onset to groin puncture (min.)",
         "rawType": "object",
         "type": "string"
        },
        {
         "name": "Door to groin puncture (min.)",
         "rawType": "object",
         "type": "string"
        },
        {
         "name": "IAT end date",
         "rawType": "object",
         "type": "string"
        },
        {
         "name": "IAT end time",
         "rawType": "object",
         "type": "string"
        },
        {
         "name": "Anesthesia",
         "rawType": "object",
         "type": "string"
        },
        {
         "name": "IAT rtPA",
         "rawType": "object",
         "type": "string"
        },
        {
         "name": "IAT rtPA dose",
         "rawType": "object",
         "type": "string"
        },
        {
         "name": "IAT urokinase",
         "rawType": "object",
         "type": "string"
        },
        {
         "name": "IAT urokinase dose",
         "rawType": "object",
         "type": "string"
        },
        {
         "name": "IAT mech. treatment",
         "rawType": "object",
         "type": "string"
        },
        {
         "name": "IAT stent retriever",
         "rawType": "object",
         "type": "string"
        },
        {
         "name": "IAT aspiration",
         "rawType": "object",
         "type": "string"
        },
        {
         "name": "IAT distal retriever",
         "rawType": "object",
         "type": "string"
        },
        {
         "name": "IAT balloon",
         "rawType": "object",
         "type": "string"
        },
        {
         "name": "IAT intracranial stent",
         "rawType": "object",
         "type": "string"
        },
        {
         "name": "IAT extracranial stent",
         "rawType": "object",
         "type": "string"
        },
        {
         "name": "IAT other mechanical",
         "rawType": "object",
         "type": "string"
        },
        {
         "name": "Study treatment",
         "rawType": "object",
         "type": "string"
        },
        {
         "name": "Initial hospitalization",
         "rawType": "object",
         "type": "string"
        },
        {
         "name": "Patient referred from",
         "rawType": "object",
         "type": "string"
        },
        {
         "name": "Reason of referral",
         "rawType": "object",
         "type": "string"
        },
        {
         "name": "Reason why not hospitalized in monitored unit",
         "rawType": "object",
         "type": "string"
        },
        {
         "name": "FU brain imaging",
         "rawType": "object",
         "type": "string"
        },
        {
         "name": "FU brain imaging result",
         "rawType": "object",
         "type": "string"
        },
        {
         "name": "MCA",
         "rawType": "object",
         "type": "string"
        },
        {
         "name": "ACA",
         "rawType": "object",
         "type": "string"
        },
        {
         "name": "PCA",
         "rawType": "object",
         "type": "string"
        },
        {
         "name": "Vertebro-basilar",
         "rawType": "object",
         "type": "string"
        },
        {
         "name": "Ocular",
         "rawType": "object",
         "type": "string"
        },
        {
         "name": "Etiology TOAST",
         "rawType": "object",
         "type": "string"
        },
        {
         "name": "Etiology TOAST other",
         "rawType": "object",
         "type": "string"
        },
        {
         "name": "Etiology",
         "rawType": "object",
         "type": "string"
        },
        {
         "name": "Etiology other",
         "rawType": "object",
         "type": "string"
        },
        {
         "name": "MedHist Stroke",
         "rawType": "object",
         "type": "string"
        },
        {
         "name": "MedHist TIA",
         "rawType": "object",
         "type": "string"
        },
        {
         "name": "MedHist ICH",
         "rawType": "object",
         "type": "string"
        },
        {
         "name": "MedHist Hypertension",
         "rawType": "object",
         "type": "string"
        },
        {
         "name": "MedHist Diabetes",
         "rawType": "object",
         "type": "string"
        },
        {
         "name": "MedHist Hyperlipidemia",
         "rawType": "object",
         "type": "string"
        },
        {
         "name": "MedHist Smoking",
         "rawType": "object",
         "type": "string"
        },
        {
         "name": "MedHist Atrial Fibr.",
         "rawType": "object",
         "type": "string"
        },
        {
         "name": "MedHist CHD",
         "rawType": "object",
         "type": "string"
        },
        {
         "name": "MedHist Prost. heart valves",
         "rawType": "object",
         "type": "string"
        },
        {
         "name": "MedHist Low ejection fract.",
         "rawType": "object",
         "type": "string"
        },
        {
         "name": "MedHist PAD",
         "rawType": "object",
         "type": "string"
        },
        {
         "name": "Average sleep",
         "rawType": "object",
         "type": "string"
        },
        {
         "name": "Last night sleep",
         "rawType": "object",
         "type": "string"
        },
        {
         "name": "Snoring",
         "rawType": "object",
         "type": "string"
        },
        {
         "name": "Daytime sleepiness",
         "rawType": "object",
         "type": "string"
        },
        {
         "name": "FU MR-angiography",
         "rawType": "object",
         "type": "string"
        },
        {
         "name": "FU CT-angiography",
         "rawType": "object",
         "type": "string"
        },
        {
         "name": "FU Ultrasound",
         "rawType": "object",
         "type": "string"
        },
        {
         "name": "FU Digital subt. angiogr.",
         "rawType": "object",
         "type": "string"
        },
        {
         "name": "FU Transthoratic echo",
         "rawType": "object",
         "type": "string"
        },
        {
         "name": "FU Transesophageal echo",
         "rawType": "object",
         "type": "string"
        },
        {
         "name": "FU Holter ECG",
         "rawType": "object",
         "type": "string"
        },
        {
         "name": "FU Holter days",
         "rawType": "object",
         "type": "string"
        },
        {
         "name": "1st glucose",
         "rawType": "object",
         "type": "string"
        },
        {
         "name": "1st cholesterol total",
         "rawType": "object",
         "type": "string"
        },
        {
         "name": "1st cholesterol LDL",
         "rawType": "object",
         "type": "string"
        },
        {
         "name": "1st creatinine",
         "rawType": "object",
         "type": "string"
        },
        {
         "name": "NIHSS 24h",
         "rawType": "object",
         "type": "string"
        },
        {
         "name": "Symptomatic ICH",
         "rawType": "object",
         "type": "string"
        },
        {
         "name": "Symptomatic ICH date",
         "rawType": "object",
         "type": "string"
        },
        {
         "name": "Recurrent stroke",
         "rawType": "object",
         "type": "string"
        },
        {
         "name": "Recurrent stroke date",
         "rawType": "object",
         "type": "string"
        },
        {
         "name": "Orolingual angioedema",
         "rawType": "object",
         "type": "string"
        },
        {
         "name": "Death in hospital",
         "rawType": "object",
         "type": "string"
        },
        {
         "name": "Death at hospital date",
         "rawType": "object",
         "type": "string"
        },
        {
         "name": "Death at hospital time",
         "rawType": "object",
         "type": "string"
        },
        {
         "name": "Death at hospital cause",
         "rawType": "object",
         "type": "string"
        },
        {
         "name": "Epileptic seizure in hospital",
         "rawType": "object",
         "type": "string"
        },
        {
         "name": "Epileptic seizure in hospital date",
         "rawType": "object",
         "type": "string"
        },
        {
         "name": "Decompr. craniectomy",
         "rawType": "object",
         "type": "string"
        },
        {
         "name": "Decompr. craniectomy date",
         "rawType": "object",
         "type": "string"
        },
        {
         "name": "CEA",
         "rawType": "object",
         "type": "string"
        },
        {
         "name": "CEA date",
         "rawType": "object",
         "type": "string"
        },
        {
         "name": "CAS",
         "rawType": "object",
         "type": "string"
        },
        {
         "name": "CAS date",
         "rawType": "object",
         "type": "string"
        },
        {
         "name": "Other endovascular revascularization",
         "rawType": "object",
         "type": "string"
        },
        {
         "name": "Other surgical revascularization",
         "rawType": "object",
         "type": "string"
        },
        {
         "name": "Other surgical revascularization date",
         "rawType": "object",
         "type": "string"
        },
        {
         "name": "Other surgical revascularization spec",
         "rawType": "object",
         "type": "string"
        },
        {
         "name": "PFO closure",
         "rawType": "object",
         "type": "string"
        },
        {
         "name": "PFO closure date",
         "rawType": "object",
         "type": "string"
        },
        {
         "name": "Discharge destination",
         "rawType": "object",
         "type": "string"
        },
        {
         "name": "Discharge date",
         "rawType": "object",
         "type": "string"
        },
        {
         "name": "Discharge time",
         "rawType": "object",
         "type": "string"
        },
        {
         "name": "Duration of hospital stay (days)",
         "rawType": "object",
         "type": "string"
        },
        {
         "name": "3M date",
         "rawType": "object",
         "type": "string"
        },
        {
         "name": "3M mode",
         "rawType": "object",
         "type": "string"
        },
        {
         "name": "3M mRS",
         "rawType": "object",
         "type": "string"
        },
        {
         "name": "3M NIHSS",
         "rawType": "object",
         "type": "string"
        },
        {
         "name": "3M Stroke",
         "rawType": "object",
         "type": "string"
        },
        {
         "name": "3M Stroke date",
         "rawType": "object",
         "type": "string"
        },
        {
         "name": "3M ICH",
         "rawType": "object",
         "type": "string"
        },
        {
         "name": "3M ICH date",
         "rawType": "object",
         "type": "string"
        },
        {
         "name": "3M Death",
         "rawType": "object",
         "type": "string"
        },
        {
         "name": "3M Death date",
         "rawType": "object",
         "type": "string"
        },
        {
         "name": "3M Death cause",
         "rawType": "object",
         "type": "string"
        },
        {
         "name": "3M Epileptic seizure",
         "rawType": "object",
         "type": "string"
        },
        {
         "name": "3M Epileptic seizure date",
         "rawType": "object",
         "type": "string"
        },
        {
         "name": "Unnamed: 174",
         "rawType": "object",
         "type": "string"
        },
        {
         "name": "case_admission_id",
         "rawType": "object",
         "type": "string"
        },
        {
         "name": "arrival_dt",
         "rawType": "object",
         "type": "string"
        },
        {
         "name": "stroke_dt",
         "rawType": "object",
         "type": "string"
        },
        {
         "name": "delta_onset_arrival",
         "rawType": "float64",
         "type": "float"
        },
        {
         "name": "T0",
         "rawType": "object",
         "type": "string"
        }
       ],
       "ref": "c2f09205-779d-42ac-a851-a9cd27731d34",
       "rows": [
        [
         "3",
         "4",
         "SSR-HUG-1005030884",
         "HUG Genève",
         "20181108",
         "Emmanuel Carrera",
         null,
         null,
         null,
         "19331031",
         "Ischemic stroke",
         "1201",
         null,
         "20181108",
         "13:21",
         "85.1",
         "Female",
         null,
         null,
         null,
         "no",
         "20181108",
         "08:30",
         null,
         null,
         "Emergency service (144)",
         null,
         "Ambulance",
         "Nursing home",
         "3",
         null,
         "3",
         null,
         "140",
         "60",
         null,
         "56",
         null,
         "no",
         "no",
         "no",
         "no",
         "no",
         "no",
         null,
         "no",
         "no",
         "no",
         "no",
         "no",
         "yes",
         "no",
         "no",
         "CT",
         "20181108",
         "17:14",
         "233",
         null,
         "Perfusion CT",
         "No hypoperfusion",
         "CT-angiography",
         "Stenosis 50-99% in suspected ischemic territory",
         "no",
         "no",
         "no",
         null,
         null,
         null,
         null,
         null,
         "no",
         null,
         null,
         null,
         null,
         null,
         null,
         null,
         null,
         null,
         null,
         null,
         null,
         null,
         null,
         null,
         null,
         null,
         null,
         null,
         "no",
         "Monitored stroke unit in-house",
         null,
         null,
         null,
         "MRI",
         "Ischemia",
         "left",
         "no",
         "no",
         "no",
         null,
         "Unknown etiology with incomplete evaluation",
         null,
         null,
         null,
         "no",
         "no",
         "no",
         "yes",
         "no",
         "yes",
         "no",
         "no",
         "no",
         "None",
         "no",
         "no",
         null,
         null,
         null,
         null,
         "yes",
         "no",
         "yes",
         "no",
         "yes",
         "no",
         "yes",
         "2",
         "6.4",
         "5.1",
         "2.72",
         "86",
         "2",
         "no",
         null,
         "no",
         null,
         null,
         "no",
         null,
         null,
         null,
         "no",
         null,
         "no",
         null,
         "no",
         null,
         "no",
         null,
         "no",
         "no",
         null,
         null,
         "no",
         null,
         "Nursing home,palliative care center,or other medical facility",
         "20181116",
         "13:00",
         "7.99",
         "20190222",
         "Clinical",
         "3",
         "2",
         "no",
         null,
         "no",
         null,
         "no",
         null,
         null,
         null,
         null,
         null,
         "100503_0884",
         "08.11.2018 13:21",
         "08.11.2018 08:30",
         "-17460.0",
         "08.11.2018 08:30"
        ],
        [
         "5",
         "6",
         "SSR-HUG-10055644109",
         "HUG Genève",
         "20181002",
         "Emmanuel Carrera",
         null,
         null,
         null,
         "19570311",
         "Ischemic stroke",
         "1222",
         null,
         "20181002",
         "08:11",
         "61.6",
         "Male",
         null,
         null,
         null,
         "no",
         "20180928",
         "00:00",
         null,
         null,
         "Emergency service (144)",
         null,
         "Ambulance",
         "Home",
         "0",
         null,
         "2",
         null,
         "168",
         "88",
         "182",
         "89",
         "26.9",
         "no",
         "no",
         "no",
         "no",
         "no",
         "no",
         null,
         "no",
         "no",
         "no",
         "no",
         "no",
         "no",
         "yes",
         "no",
         "CT",
         "20181002",
         "09:22",
         "71",
         null,
         "None",
         null,
         "CT-angiography",
         "Occlusion in suspected ischemic territory",
         "no",
         "no",
         "no",
         null,
         null,
         null,
         null,
         null,
         "yes",
         "20181002",
         "12:45",
         "6525",
         "274",
         "20181002",
         "14:32",
         "General anaesthesia",
         "no",
         null,
         "no",
         null,
         "yes",
         "no",
         "yes",
         "no",
         "yes",
         "yes",
         "no",
         "no",
         "no",
         "Other intermediate or intensive care unit in-house",
         null,
         null,
         null,
         "CT",
         "Ischemia with hemorrhagic transformation",
         "no",
         "no",
         "left",
         "left",
         null,
         "Large artery atherosclerosis",
         null,
         null,
         null,
         "no",
         "no",
         "no",
         "no",
         "no",
         "yes",
         "no",
         "no",
         "no",
         "None",
         "no",
         "no",
         null,
         null,
         null,
         null,
         "yes",
         "yes",
         "yes",
         "no",
         "yes",
         "no",
         "yes",
         "5",
         "6.2",
         null,
         null,
         "121",
         "3",
         "no",
         null,
         "no",
         null,
         null,
         "no",
         null,
         null,
         null,
         "no",
         null,
         "no",
         null,
         "no",
         null,
         "no",
         null,
         "no",
         "no",
         null,
         null,
         "no",
         null,
         "Rehabilitation hospital",
         "20181022",
         "09:35",
         "20.06",
         "20190222",
         "Clinical",
         "2",
         "1",
         "no",
         null,
         "no",
         null,
         "no",
         null,
         null,
         "no",
         null,
         null,
         "1005564_4109",
         "02.10.2018 08:11",
         "28.09.2018 00:00",
         "-375060.0",
         "28.09.2018 00:00"
        ],
        [
         "6",
         "7",
         "SSR-HUG-10057989217",
         "HUG Genève",
         "20180910",
         "Emmanuel Carrera",
         null,
         null,
         null,
         "19500315",
         "Ischemic stroke",
         "1223",
         null,
         "20180910",
         "21:36",
         "68.5",
         "Male",
         null,
         null,
         null,
         "yes",
         "20180908",
         "09:00",
         null,
         null,
         "Other hospital",
         null,
         null,
         "Home",
         "0",
         null,
         "2",
         null,
         "140",
         "74",
         "178",
         "86",
         "27.1",
         "no",
         "no",
         "no",
         "no",
         "no",
         "no",
         null,
         "no",
         "no",
         "no",
         "no",
         "no",
         "no",
         "yes",
         "no",
         "MRI (external)",
         null,
         null,
         null,
         null,
         "None",
         null,
         "MR-angiography",
         "Occlusion in suspected ischemic territory",
         "yes",
         "no",
         "no",
         null,
         null,
         null,
         null,
         null,
         "no",
         null,
         null,
         null,
         null,
         null,
         null,
         null,
         null,
         null,
         null,
         null,
         null,
         null,
         null,
         null,
         null,
         null,
         null,
         null,
         "no",
         "Monitored stroke unit in-house",
         null,
         null,
         null,
         "CT",
         "Ischemia",
         "left",
         "no",
         "no",
         "left",
         null,
         "Unknown etiology with incomplete evaluation",
         null,
         null,
         null,
         "no",
         "no",
         "no",
         "no",
         "yes",
         "no",
         "no",
         "no",
         "no",
         "None",
         "no",
         "no",
         null,
         null,
         null,
         null,
         "yes",
         "no",
         "yes",
         "no",
         "yes",
         "no",
         "yes",
         "2",
         "5.4",
         null,
         null,
         "78",
         "2",
         "no",
         null,
         "no",
         null,
         null,
         "no",
         null,
         null,
         null,
         "no",
         null,
         "no",
         null,
         "no",
         null,
         "no",
         null,
         "no",
         "no",
         null,
         null,
         "no",
         null,
         "Home",
         "20180918",
         "17:47",
         "7.84",
         "20181203",
         "Clinical",
         "1",
         "0",
         "no",
         null,
         "no",
         null,
         "no",
         null,
         null,
         "no",
         null,
         null,
         "1005798_9217",
         "10.09.2018 21:36",
         "08.09.2018 09:00",
         "-218160.0",
         "08.09.2018 09:00"
        ],
        [
         "11",
         "12",
         "SSR-HUG-10117940030",
         "HUG Genève",
         "20180122",
         "Roman Sztajzel",
         null,
         null,
         null,
         "19210723",
         "Ischemic stroke",
         "1202",
         null,
         "20180122",
         "13:13",
         "96.6",
         "Male",
         null,
         null,
         null,
         "yes",
         "20180122",
         "11:30",
         null,
         null,
         "Emergency service (144)",
         null,
         "Ambulance",
         "Home",
         "0",
         "PACS",
         "19",
         null,
         "134",
         "88",
         "170",
         "68",
         "23.5",
         "no",
         "no",
         "no",
         "no",
         "no",
         "no",
         null,
         "no",
         "no",
         "no",
         "no",
         "no",
         "no",
         "no",
         "no",
         "CT",
         "20180122",
         "13:45",
         "32",
         null,
         "None",
         null,
         "CT-angiography",
         "No abnormality",
         "no",
         "no",
         "no",
         null,
         null,
         null,
         null,
         null,
         "no",
         null,
         null,
         null,
         null,
         null,
         null,
         null,
         null,
         null,
         null,
         null,
         null,
         null,
         null,
         null,
         null,
         null,
         null,
         null,
         "no",
         "Monitored stroke unit in-house",
         null,
         null,
         null,
         "MRI",
         "Ischemia",
         "no",
         "no",
         "right",
         "no",
         null,
         "Large artery atherosclerosis",
         null,
         null,
         null,
         "yes",
         "no",
         "no",
         "yes",
         "no",
         "no",
         "no",
         "no",
         "no",
         "None",
         "no",
         "no",
         null,
         null,
         "no",
         "never",
         "yes",
         "no",
         "no",
         "no",
         "no",
         "no",
         "no",
         null,
         "6.1",
         "3.1",
         "1.39",
         "85",
         "0",
         "no",
         null,
         "no",
         null,
         null,
         "yes",
         "20180201",
         "01:00",
         "Fatal stroke or intracranial hemorrhage",
         "no",
         null,
         "no",
         null,
         "no",
         null,
         "no",
         null,
         "no",
         "no",
         null,
         null,
         "no",
         null,
         null,
         null,
         null,
         null,
         null,
         null,
         null,
         null,
         null,
         null,
         null,
         null,
         null,
         null,
         null,
         null,
         null,
         null,
         "1011794_0030",
         "22.01.2018 13:13",
         "22.01.2018 11:30",
         "-6180.0",
         "22.01.2018 11:30"
        ],
        [
         "12",
         "13",
         "SSR-HUG-10128979104",
         "HUG Genève",
         "20181226",
         "Emmanuel Carrera",
         null,
         null,
         null,
         "19270427",
         "Ischemic stroke",
         "1224",
         null,
         "20181226",
         "10:12",
         "91.7",
         "Female",
         null,
         null,
         null,
         "yes",
         "20181225",
         "18:00",
         null,
         null,
         "Emergency service (144)",
         null,
         "Ambulance",
         "Nursing home",
         "3",
         null,
         "10",
         null,
         "180",
         "85",
         null,
         "59",
         null,
         "yes",
         "no",
         "no",
         "no",
         "no",
         "no",
         null,
         "no",
         "no",
         "no",
         "no",
         "no",
         "yes",
         "no",
         "no",
         "CT",
         "20181226",
         "10:46",
         "34",
         null,
         "Perfusion CT",
         "Focal hypoperfusion with mismatch",
         "CT-angiography",
         "Occlusion in suspected ischemic territory",
         "yes",
         "no",
         "no",
         null,
         null,
         null,
         null,
         null,
         "no",
         null,
         null,
         null,
         null,
         null,
         null,
         null,
         null,
         null,
         null,
         null,
         null,
         null,
         null,
         null,
         null,
         null,
         null,
         null,
         "no",
         "Referral to other hospital or care institution",
         null,
         null,
         null,
         "MRI",
         "Ischemia",
         "no",
         "left",
         "left",
         "no",
         null,
         "Unknown etiology with incomplete evaluation",
         null,
         null,
         null,
         "yes",
         "no",
         "no",
         "yes",
         "yes",
         "no",
         "no",
         "no",
         "no",
         "None",
         "no",
         "no",
         null,
         null,
         null,
         null,
         "no",
         "yes",
         "yes",
         "no",
         "no",
         "no",
         "no",
         null,
         "6.4",
         null,
         null,
         "149",
         null,
         "no",
         null,
         "no",
         null,
         null,
         "no",
         null,
         null,
         null,
         "no",
         null,
         "no",
         null,
         "no",
         null,
         "no",
         null,
         "no",
         "no",
         null,
         null,
         "no",
         null,
         "Nursing home,palliative care center,or other medical facility",
         "20181226",
         "15:20",
         "0.21",
         "20190113",
         "Hospital discharge letter or other record",
         "6",
         null,
         null,
         null,
         null,
         null,
         "yes",
         "20190113",
         "Fatal stroke or intracranial hemorrhage",
         null,
         null,
         null,
         "1012897_9104",
         "26.12.2018 10:12",
         "25.12.2018 18:00",
         "-58320.0",
         "25.12.2018 18:00"
        ]
       ],
       "shape": {
        "columns": 180,
        "rows": 5
       }
      },
      "text/html": [
       "<div>\n",
       "<style scoped>\n",
       "    .dataframe tbody tr th:only-of-type {\n",
       "        vertical-align: middle;\n",
       "    }\n",
       "\n",
       "    .dataframe tbody tr th {\n",
       "        vertical-align: top;\n",
       "    }\n",
       "\n",
       "    .dataframe thead th {\n",
       "        text-align: right;\n",
       "    }\n",
       "</style>\n",
       "<table border=\"1\" class=\"dataframe\">\n",
       "  <thead>\n",
       "    <tr style=\"text-align: right;\">\n",
       "      <th></th>\n",
       "      <th>Unnamed: 0</th>\n",
       "      <th>Case ID</th>\n",
       "      <th>Centre</th>\n",
       "      <th>Entry date</th>\n",
       "      <th>Entry person</th>\n",
       "      <th>Patient refuses use of data for research</th>\n",
       "      <th>Last name</th>\n",
       "      <th>First name</th>\n",
       "      <th>DOB</th>\n",
       "      <th>Type of event</th>\n",
       "      <th>...</th>\n",
       "      <th>3M Death date</th>\n",
       "      <th>3M Death cause</th>\n",
       "      <th>3M Epileptic seizure</th>\n",
       "      <th>3M Epileptic seizure date</th>\n",
       "      <th>Unnamed: 174</th>\n",
       "      <th>case_admission_id</th>\n",
       "      <th>arrival_dt</th>\n",
       "      <th>stroke_dt</th>\n",
       "      <th>delta_onset_arrival</th>\n",
       "      <th>T0</th>\n",
       "    </tr>\n",
       "  </thead>\n",
       "  <tbody>\n",
       "    <tr>\n",
       "      <th>3</th>\n",
       "      <td>4</td>\n",
       "      <td>SSR-HUG-1005030884</td>\n",
       "      <td>HUG Genève</td>\n",
       "      <td>20181108</td>\n",
       "      <td>Emmanuel Carrera</td>\n",
       "      <td>NaN</td>\n",
       "      <td>NaN</td>\n",
       "      <td>NaN</td>\n",
       "      <td>19331031</td>\n",
       "      <td>Ischemic stroke</td>\n",
       "      <td>...</td>\n",
       "      <td>NaN</td>\n",
       "      <td>NaN</td>\n",
       "      <td>NaN</td>\n",
       "      <td>NaN</td>\n",
       "      <td>NaN</td>\n",
       "      <td>100503_0884</td>\n",
       "      <td>08.11.2018 13:21</td>\n",
       "      <td>08.11.2018 08:30</td>\n",
       "      <td>-17460.0</td>\n",
       "      <td>08.11.2018 08:30</td>\n",
       "    </tr>\n",
       "    <tr>\n",
       "      <th>5</th>\n",
       "      <td>6</td>\n",
       "      <td>SSR-HUG-10055644109</td>\n",
       "      <td>HUG Genève</td>\n",
       "      <td>20181002</td>\n",
       "      <td>Emmanuel Carrera</td>\n",
       "      <td>NaN</td>\n",
       "      <td>NaN</td>\n",
       "      <td>NaN</td>\n",
       "      <td>19570311</td>\n",
       "      <td>Ischemic stroke</td>\n",
       "      <td>...</td>\n",
       "      <td>NaN</td>\n",
       "      <td>NaN</td>\n",
       "      <td>no</td>\n",
       "      <td>NaN</td>\n",
       "      <td>NaN</td>\n",
       "      <td>1005564_4109</td>\n",
       "      <td>02.10.2018 08:11</td>\n",
       "      <td>28.09.2018 00:00</td>\n",
       "      <td>-375060.0</td>\n",
       "      <td>28.09.2018 00:00</td>\n",
       "    </tr>\n",
       "    <tr>\n",
       "      <th>6</th>\n",
       "      <td>7</td>\n",
       "      <td>SSR-HUG-10057989217</td>\n",
       "      <td>HUG Genève</td>\n",
       "      <td>20180910</td>\n",
       "      <td>Emmanuel Carrera</td>\n",
       "      <td>NaN</td>\n",
       "      <td>NaN</td>\n",
       "      <td>NaN</td>\n",
       "      <td>19500315</td>\n",
       "      <td>Ischemic stroke</td>\n",
       "      <td>...</td>\n",
       "      <td>NaN</td>\n",
       "      <td>NaN</td>\n",
       "      <td>no</td>\n",
       "      <td>NaN</td>\n",
       "      <td>NaN</td>\n",
       "      <td>1005798_9217</td>\n",
       "      <td>10.09.2018 21:36</td>\n",
       "      <td>08.09.2018 09:00</td>\n",
       "      <td>-218160.0</td>\n",
       "      <td>08.09.2018 09:00</td>\n",
       "    </tr>\n",
       "    <tr>\n",
       "      <th>11</th>\n",
       "      <td>12</td>\n",
       "      <td>SSR-HUG-10117940030</td>\n",
       "      <td>HUG Genève</td>\n",
       "      <td>20180122</td>\n",
       "      <td>Roman Sztajzel</td>\n",
       "      <td>NaN</td>\n",
       "      <td>NaN</td>\n",
       "      <td>NaN</td>\n",
       "      <td>19210723</td>\n",
       "      <td>Ischemic stroke</td>\n",
       "      <td>...</td>\n",
       "      <td>NaN</td>\n",
       "      <td>NaN</td>\n",
       "      <td>NaN</td>\n",
       "      <td>NaN</td>\n",
       "      <td>NaN</td>\n",
       "      <td>1011794_0030</td>\n",
       "      <td>22.01.2018 13:13</td>\n",
       "      <td>22.01.2018 11:30</td>\n",
       "      <td>-6180.0</td>\n",
       "      <td>22.01.2018 11:30</td>\n",
       "    </tr>\n",
       "    <tr>\n",
       "      <th>12</th>\n",
       "      <td>13</td>\n",
       "      <td>SSR-HUG-10128979104</td>\n",
       "      <td>HUG Genève</td>\n",
       "      <td>20181226</td>\n",
       "      <td>Emmanuel Carrera</td>\n",
       "      <td>NaN</td>\n",
       "      <td>NaN</td>\n",
       "      <td>NaN</td>\n",
       "      <td>19270427</td>\n",
       "      <td>Ischemic stroke</td>\n",
       "      <td>...</td>\n",
       "      <td>20190113</td>\n",
       "      <td>Fatal stroke or intracranial hemorrhage</td>\n",
       "      <td>NaN</td>\n",
       "      <td>NaN</td>\n",
       "      <td>NaN</td>\n",
       "      <td>1012897_9104</td>\n",
       "      <td>26.12.2018 10:12</td>\n",
       "      <td>25.12.2018 18:00</td>\n",
       "      <td>-58320.0</td>\n",
       "      <td>25.12.2018 18:00</td>\n",
       "    </tr>\n",
       "  </tbody>\n",
       "</table>\n",
       "<p>5 rows × 180 columns</p>\n",
       "</div>"
      ],
      "text/plain": [
       "   Unnamed: 0              Case ID      Centre Entry date      Entry person  \\\n",
       "3           4   SSR-HUG-1005030884  HUG Genève   20181108  Emmanuel Carrera   \n",
       "5           6  SSR-HUG-10055644109  HUG Genève   20181002  Emmanuel Carrera   \n",
       "6           7  SSR-HUG-10057989217  HUG Genève   20180910  Emmanuel Carrera   \n",
       "11         12  SSR-HUG-10117940030  HUG Genève   20180122    Roman Sztajzel   \n",
       "12         13  SSR-HUG-10128979104  HUG Genève   20181226  Emmanuel Carrera   \n",
       "\n",
       "   Patient refuses use of data for research Last name First name       DOB  \\\n",
       "3                                       NaN       NaN        NaN  19331031   \n",
       "5                                       NaN       NaN        NaN  19570311   \n",
       "6                                       NaN       NaN        NaN  19500315   \n",
       "11                                      NaN       NaN        NaN  19210723   \n",
       "12                                      NaN       NaN        NaN  19270427   \n",
       "\n",
       "      Type of event  ... 3M Death date  \\\n",
       "3   Ischemic stroke  ...           NaN   \n",
       "5   Ischemic stroke  ...           NaN   \n",
       "6   Ischemic stroke  ...           NaN   \n",
       "11  Ischemic stroke  ...           NaN   \n",
       "12  Ischemic stroke  ...      20190113   \n",
       "\n",
       "                             3M Death cause 3M Epileptic seizure  \\\n",
       "3                                       NaN                  NaN   \n",
       "5                                       NaN                   no   \n",
       "6                                       NaN                   no   \n",
       "11                                      NaN                  NaN   \n",
       "12  Fatal stroke or intracranial hemorrhage                  NaN   \n",
       "\n",
       "   3M Epileptic seizure date Unnamed: 174 case_admission_id        arrival_dt  \\\n",
       "3                        NaN          NaN       100503_0884  08.11.2018 13:21   \n",
       "5                        NaN          NaN      1005564_4109  02.10.2018 08:11   \n",
       "6                        NaN          NaN      1005798_9217  10.09.2018 21:36   \n",
       "11                       NaN          NaN      1011794_0030  22.01.2018 13:13   \n",
       "12                       NaN          NaN      1012897_9104  26.12.2018 10:12   \n",
       "\n",
       "           stroke_dt delta_onset_arrival                T0  \n",
       "3   08.11.2018 08:30            -17460.0  08.11.2018 08:30  \n",
       "5   28.09.2018 00:00           -375060.0  28.09.2018 00:00  \n",
       "6   08.09.2018 09:00           -218160.0  08.09.2018 09:00  \n",
       "11  22.01.2018 11:30             -6180.0  22.01.2018 11:30  \n",
       "12  25.12.2018 18:00            -58320.0  25.12.2018 18:00  \n",
       "\n",
       "[5 rows x 180 columns]"
      ]
     },
     "execution_count": 36,
     "metadata": {},
     "output_type": "execute_result"
    }
   ],
   "source": [
    "inclusion_registry_df.head()"
   ]
  },
  {
   "cell_type": "code",
   "execution_count": 37,
   "id": "541503c1",
   "metadata": {},
   "outputs": [],
   "source": [
    "inclusion_registry_df['age'] = inclusion_registry_df['Age (calc.)']\n",
    "# covariates = ['age', 'Prestroke disability (Rankin)', 'NIH on admission']\n",
    "covariates = ['age', 'NIH on admission']\n",
    "preprocessed_lactate_df = preprocessed_lactate_df.merge(\n",
    "    inclusion_registry_df[['case_admission_id'] + covariates],\n",
    "    on='case_admission_id',\n",
    "    how='left'\n",
    ")"
   ]
  },
  {
   "cell_type": "code",
   "execution_count": 38,
   "id": "8e0278d7",
   "metadata": {},
   "outputs": [],
   "source": [
    "early_lactate_df = preprocessed_lactate_df[(preprocessed_lactate_df.relative_sample_date > -12) & (preprocessed_lactate_df.relative_sample_date < 24)]\n",
    "lactate_d2_df = preprocessed_lactate_df[(preprocessed_lactate_df.relative_sample_date > 24) & (preprocessed_lactate_df.relative_sample_date < 2*72)]\n",
    "lactate_d3_df = preprocessed_lactate_df[(preprocessed_lactate_df.relative_sample_date > 2*24) & (preprocessed_lactate_df.relative_sample_date < 3*72)]\n",
    "lactate_d_2_3_df = preprocessed_lactate_df[(preprocessed_lactate_df.relative_sample_date > 1*24) & (preprocessed_lactate_df.relative_sample_date < 3*72)]"
   ]
  },
  {
   "cell_type": "code",
   "execution_count": 39,
   "id": "2cb7f2ad",
   "metadata": {},
   "outputs": [
    {
     "name": "stderr",
     "output_type": "stream",
     "text": [
      "/var/folders/9v/1s329cwj32jc2kkx24p8jp980000gp/T/ipykernel_14516/3190176849.py:3: SettingWithCopyWarning: \n",
      "A value is trying to be set on a copy of a slice from a DataFrame\n",
      "\n",
      "See the caveats in the documentation: https://pandas.pydata.org/pandas-docs/stable/user_guide/indexing.html#returning-a-view-versus-a-copy\n",
      "  temp_df.dropna(inplace=True)\n",
      "/Users/jk1/opt/anaconda3/envs/opsum/lib/python3.8/site-packages/statsmodels/base/optimizer.py:736: RuntimeWarning: Maximum number of iterations has been exceeded.\n",
      "  retvals = optimize.fmin(f, start_params, args=fargs, xtol=xtol,\n",
      "/Users/jk1/opt/anaconda3/envs/opsum/lib/python3.8/site-packages/statsmodels/base/model.py:607: ConvergenceWarning: Maximum Likelihood optimization failed to converge. Check mle_retvals\n",
      "  warnings.warn(\"Maximum Likelihood optimization failed to \"\n"
     ]
    },
    {
     "data": {
      "text/html": [
       "<table class=\"simpletable\">\n",
       "<caption>OrderedModel Results</caption>\n",
       "<tr>\n",
       "  <th>Dep. Variable:</th>          <td>3M mRS</td>       <th>  Log-Likelihood:    </th> <td> -10492.</td> \n",
       "</tr>\n",
       "<tr>\n",
       "  <th>Model:</th>               <td>OrderedModel</td>    <th>  AIC:               </th> <td>2.100e+04</td>\n",
       "</tr>\n",
       "<tr>\n",
       "  <th>Method:</th>           <td>Maximum Likelihood</td> <th>  BIC:               </th> <td>2.106e+04</td>\n",
       "</tr>\n",
       "<tr>\n",
       "  <th>Date:</th>              <td>Fri, 25 Jul 2025</td>  <th>                     </th>     <td> </td>    \n",
       "</tr>\n",
       "<tr>\n",
       "  <th>Time:</th>                  <td>15:22:20</td>      <th>                     </th>     <td> </td>    \n",
       "</tr>\n",
       "<tr>\n",
       "  <th>No. Observations:</th>       <td>  6056</td>       <th>                     </th>     <td> </td>    \n",
       "</tr>\n",
       "<tr>\n",
       "  <th>Df Residuals:</th>           <td>  6047</td>       <th>                     </th>     <td> </td>    \n",
       "</tr>\n",
       "<tr>\n",
       "  <th>Df Model:</th>               <td>     3</td>       <th>                     </th>     <td> </td>    \n",
       "</tr>\n",
       "</table>\n",
       "<table class=\"simpletable\">\n",
       "<tr>\n",
       "          <td></td>            <th>coef</th>     <th>std err</th>      <th>z</th>      <th>P>|z|</th>  <th>[0.025</th>    <th>0.975]</th>  \n",
       "</tr>\n",
       "<tr>\n",
       "  <th>value</th>            <td>   -0.0643</td> <td>    0.024</td> <td>   -2.634</td> <td> 0.008</td> <td>   -0.112</td> <td>   -0.016</td>\n",
       "</tr>\n",
       "<tr>\n",
       "  <th>age</th>              <td>    0.0238</td> <td>    0.002</td> <td>   14.898</td> <td> 0.000</td> <td>    0.021</td> <td>    0.027</td>\n",
       "</tr>\n",
       "<tr>\n",
       "  <th>NIH on admission</th> <td>    0.0981</td> <td>    0.003</td> <td>   32.619</td> <td> 0.000</td> <td>    0.092</td> <td>    0.104</td>\n",
       "</tr>\n",
       "<tr>\n",
       "  <th>0.0/1.0</th>          <td>    0.4644</td> <td>    0.123</td> <td>    3.782</td> <td> 0.000</td> <td>    0.224</td> <td>    0.705</td>\n",
       "</tr>\n",
       "<tr>\n",
       "  <th>1.0/2.0</th>          <td>    0.1006</td> <td>    0.031</td> <td>    3.273</td> <td> 0.001</td> <td>    0.040</td> <td>    0.161</td>\n",
       "</tr>\n",
       "<tr>\n",
       "  <th>2.0/3.0</th>          <td>   -0.6471</td> <td>    0.040</td> <td>  -16.222</td> <td> 0.000</td> <td>   -0.725</td> <td>   -0.569</td>\n",
       "</tr>\n",
       "<tr>\n",
       "  <th>3.0/4.0</th>          <td>   -0.4173</td> <td>    0.033</td> <td>  -12.611</td> <td> 0.000</td> <td>   -0.482</td> <td>   -0.352</td>\n",
       "</tr>\n",
       "<tr>\n",
       "  <th>4.0/5.0</th>          <td>   -0.3967</td> <td>    0.032</td> <td>  -12.229</td> <td> 0.000</td> <td>   -0.460</td> <td>   -0.333</td>\n",
       "</tr>\n",
       "<tr>\n",
       "  <th>5.0/6.0</th>          <td>   -1.2166</td> <td>    0.052</td> <td>  -23.384</td> <td> 0.000</td> <td>   -1.319</td> <td>   -1.115</td>\n",
       "</tr>\n",
       "</table>"
      ],
      "text/latex": [
       "\\begin{center}\n",
       "\\begin{tabular}{lclc}\n",
       "\\toprule\n",
       "\\textbf{Dep. Variable:}    &       3M mRS       & \\textbf{  Log-Likelihood:    } &   -10492.   \\\\\n",
       "\\textbf{Model:}            &    OrderedModel    & \\textbf{  AIC:               } & 2.100e+04   \\\\\n",
       "\\textbf{Method:}           & Maximum Likelihood & \\textbf{  BIC:               } & 2.106e+04   \\\\\n",
       "\\textbf{Date:}             &  Fri, 25 Jul 2025  & \\textbf{                     } &             \\\\\n",
       "\\textbf{Time:}             &      15:22:20      & \\textbf{                     } &             \\\\\n",
       "\\textbf{No. Observations:} &         6056       & \\textbf{                     } &             \\\\\n",
       "\\textbf{Df Residuals:}     &         6047       & \\textbf{                     } &             \\\\\n",
       "\\textbf{Df Model:}         &            3       & \\textbf{                     } &             \\\\\n",
       "\\bottomrule\n",
       "\\end{tabular}\n",
       "\\begin{tabular}{lcccccc}\n",
       "                          & \\textbf{coef} & \\textbf{std err} & \\textbf{z} & \\textbf{P$> |$z$|$} & \\textbf{[0.025} & \\textbf{0.975]}  \\\\\n",
       "\\midrule\n",
       "\\textbf{value}            &      -0.0643  &        0.024     &    -2.634  &         0.008        &       -0.112    &       -0.016     \\\\\n",
       "\\textbf{age}              &       0.0238  &        0.002     &    14.898  &         0.000        &        0.021    &        0.027     \\\\\n",
       "\\textbf{NIH on admission} &       0.0981  &        0.003     &    32.619  &         0.000        &        0.092    &        0.104     \\\\\n",
       "\\textbf{0.0/1.0}          &       0.4644  &        0.123     &     3.782  &         0.000        &        0.224    &        0.705     \\\\\n",
       "\\textbf{1.0/2.0}          &       0.1006  &        0.031     &     3.273  &         0.001        &        0.040    &        0.161     \\\\\n",
       "\\textbf{2.0/3.0}          &      -0.6471  &        0.040     &   -16.222  &         0.000        &       -0.725    &       -0.569     \\\\\n",
       "\\textbf{3.0/4.0}          &      -0.4173  &        0.033     &   -12.611  &         0.000        &       -0.482    &       -0.352     \\\\\n",
       "\\textbf{4.0/5.0}          &      -0.3967  &        0.032     &   -12.229  &         0.000        &       -0.460    &       -0.333     \\\\\n",
       "\\textbf{5.0/6.0}          &      -1.2166  &        0.052     &   -23.384  &         0.000        &       -1.319    &       -1.115     \\\\\n",
       "\\bottomrule\n",
       "\\end{tabular}\n",
       "%\\caption{OrderedModel Results}\n",
       "\\end{center}"
      ],
      "text/plain": [
       "<class 'statsmodels.iolib.summary.Summary'>\n",
       "\"\"\"\n",
       "                             OrderedModel Results                             \n",
       "==============================================================================\n",
       "Dep. Variable:                 3M mRS   Log-Likelihood:                -10492.\n",
       "Model:                   OrderedModel   AIC:                         2.100e+04\n",
       "Method:            Maximum Likelihood   BIC:                         2.106e+04\n",
       "Date:                Fri, 25 Jul 2025                                         \n",
       "Time:                        15:22:20                                         \n",
       "No. Observations:                6056                                         \n",
       "Df Residuals:                    6047                                         \n",
       "Df Model:                           3                                         \n",
       "====================================================================================\n",
       "                       coef    std err          z      P>|z|      [0.025      0.975]\n",
       "------------------------------------------------------------------------------------\n",
       "value               -0.0643      0.024     -2.634      0.008      -0.112      -0.016\n",
       "age                  0.0238      0.002     14.898      0.000       0.021       0.027\n",
       "NIH on admission     0.0981      0.003     32.619      0.000       0.092       0.104\n",
       "0.0/1.0              0.4644      0.123      3.782      0.000       0.224       0.705\n",
       "1.0/2.0              0.1006      0.031      3.273      0.001       0.040       0.161\n",
       "2.0/3.0             -0.6471      0.040    -16.222      0.000      -0.725      -0.569\n",
       "3.0/4.0             -0.4173      0.033    -12.611      0.000      -0.482      -0.352\n",
       "4.0/5.0             -0.3967      0.032    -12.229      0.000      -0.460      -0.333\n",
       "5.0/6.0             -1.2166      0.052    -23.384      0.000      -1.319      -1.115\n",
       "====================================================================================\n",
       "\"\"\""
      ]
     },
     "execution_count": 39,
     "metadata": {},
     "output_type": "execute_result"
    }
   ],
   "source": [
    "# overall lactate vs mrs adjusted for covariates\n",
    "temp_df = preprocessed_lactate_df[['value', '3M mRS'] + covariates]\n",
    "temp_df.dropna(inplace=True)\n",
    "# set all vars to float\n",
    "temp_df = temp_df.astype(float)\n",
    "\n",
    "all_data_mod_log = OrderedModel(temp_df['3M mRS'],\n",
    "                        temp_df[['value'] + covariates],\n",
    "                        distr='logit')\n",
    "\n",
    "all_data_res_log = all_data_mod_log.fit()\n",
    "all_data_res_log.summary()"
   ]
  },
  {
   "cell_type": "code",
   "execution_count": 40,
   "id": "241f8ef7",
   "metadata": {},
   "outputs": [
    {
     "name": "stderr",
     "output_type": "stream",
     "text": [
      "/var/folders/9v/1s329cwj32jc2kkx24p8jp980000gp/T/ipykernel_14516/140342734.py:3: SettingWithCopyWarning: \n",
      "A value is trying to be set on a copy of a slice from a DataFrame\n",
      "\n",
      "See the caveats in the documentation: https://pandas.pydata.org/pandas-docs/stable/user_guide/indexing.html#returning-a-view-versus-a-copy\n",
      "  temp_df.dropna(inplace=True)\n",
      "/Users/jk1/opt/anaconda3/envs/opsum/lib/python3.8/site-packages/statsmodels/base/optimizer.py:736: RuntimeWarning: Maximum number of iterations has been exceeded.\n",
      "  retvals = optimize.fmin(f, start_params, args=fargs, xtol=xtol,\n",
      "/Users/jk1/opt/anaconda3/envs/opsum/lib/python3.8/site-packages/statsmodels/base/model.py:607: ConvergenceWarning: Maximum Likelihood optimization failed to converge. Check mle_retvals\n",
      "  warnings.warn(\"Maximum Likelihood optimization failed to \"\n"
     ]
    },
    {
     "data": {
      "text/html": [
       "<table class=\"simpletable\">\n",
       "<caption>OrderedModel Results</caption>\n",
       "<tr>\n",
       "  <th>Dep. Variable:</th>          <td>3M mRS</td>       <th>  Log-Likelihood:    </th> <td> -4439.6</td>\n",
       "</tr>\n",
       "<tr>\n",
       "  <th>Model:</th>               <td>OrderedModel</td>    <th>  AIC:               </th> <td>   8897.</td>\n",
       "</tr>\n",
       "<tr>\n",
       "  <th>Method:</th>           <td>Maximum Likelihood</td> <th>  BIC:               </th> <td>   8950.</td>\n",
       "</tr>\n",
       "<tr>\n",
       "  <th>Date:</th>              <td>Fri, 25 Jul 2025</td>  <th>                     </th>     <td> </td>   \n",
       "</tr>\n",
       "<tr>\n",
       "  <th>Time:</th>                  <td>15:22:21</td>      <th>                     </th>     <td> </td>   \n",
       "</tr>\n",
       "<tr>\n",
       "  <th>No. Observations:</th>       <td>  2608</td>       <th>                     </th>     <td> </td>   \n",
       "</tr>\n",
       "<tr>\n",
       "  <th>Df Residuals:</th>           <td>  2599</td>       <th>                     </th>     <td> </td>   \n",
       "</tr>\n",
       "<tr>\n",
       "  <th>Df Model:</th>               <td>     3</td>       <th>                     </th>     <td> </td>   \n",
       "</tr>\n",
       "</table>\n",
       "<table class=\"simpletable\">\n",
       "<tr>\n",
       "          <td></td>            <th>coef</th>     <th>std err</th>      <th>z</th>      <th>P>|z|</th>  <th>[0.025</th>    <th>0.975]</th>  \n",
       "</tr>\n",
       "<tr>\n",
       "  <th>value</th>            <td>    0.0258</td> <td>    0.034</td> <td>    0.752</td> <td> 0.452</td> <td>   -0.041</td> <td>    0.093</td>\n",
       "</tr>\n",
       "<tr>\n",
       "  <th>age</th>              <td>    0.0373</td> <td>    0.002</td> <td>   15.013</td> <td> 0.000</td> <td>    0.032</td> <td>    0.042</td>\n",
       "</tr>\n",
       "<tr>\n",
       "  <th>NIH on admission</th> <td>    0.1018</td> <td>    0.005</td> <td>   22.502</td> <td> 0.000</td> <td>    0.093</td> <td>    0.111</td>\n",
       "</tr>\n",
       "<tr>\n",
       "  <th>0.0/1.0</th>          <td>    2.2664</td> <td>    0.195</td> <td>   11.636</td> <td> 0.000</td> <td>    1.885</td> <td>    2.648</td>\n",
       "</tr>\n",
       "<tr>\n",
       "  <th>1.0/2.0</th>          <td>   -0.1716</td> <td>    0.048</td> <td>   -3.551</td> <td> 0.000</td> <td>   -0.266</td> <td>   -0.077</td>\n",
       "</tr>\n",
       "<tr>\n",
       "  <th>2.0/3.0</th>          <td>   -0.4969</td> <td>    0.055</td> <td>   -9.101</td> <td> 0.000</td> <td>   -0.604</td> <td>   -0.390</td>\n",
       "</tr>\n",
       "<tr>\n",
       "  <th>3.0/4.0</th>          <td>   -0.4291</td> <td>    0.052</td> <td>   -8.194</td> <td> 0.000</td> <td>   -0.532</td> <td>   -0.326</td>\n",
       "</tr>\n",
       "<tr>\n",
       "  <th>4.0/5.0</th>          <td>   -0.3793</td> <td>    0.053</td> <td>   -7.113</td> <td> 0.000</td> <td>   -0.484</td> <td>   -0.275</td>\n",
       "</tr>\n",
       "<tr>\n",
       "  <th>5.0/6.0</th>          <td>   -1.2876</td> <td>    0.092</td> <td>  -14.027</td> <td> 0.000</td> <td>   -1.468</td> <td>   -1.108</td>\n",
       "</tr>\n",
       "</table>"
      ],
      "text/latex": [
       "\\begin{center}\n",
       "\\begin{tabular}{lclc}\n",
       "\\toprule\n",
       "\\textbf{Dep. Variable:}    &       3M mRS       & \\textbf{  Log-Likelihood:    } &   -4439.6   \\\\\n",
       "\\textbf{Model:}            &    OrderedModel    & \\textbf{  AIC:               } &     8897.   \\\\\n",
       "\\textbf{Method:}           & Maximum Likelihood & \\textbf{  BIC:               } &     8950.   \\\\\n",
       "\\textbf{Date:}             &  Fri, 25 Jul 2025  & \\textbf{                     } &             \\\\\n",
       "\\textbf{Time:}             &      15:22:21      & \\textbf{                     } &             \\\\\n",
       "\\textbf{No. Observations:} &         2608       & \\textbf{                     } &             \\\\\n",
       "\\textbf{Df Residuals:}     &         2599       & \\textbf{                     } &             \\\\\n",
       "\\textbf{Df Model:}         &            3       & \\textbf{                     } &             \\\\\n",
       "\\bottomrule\n",
       "\\end{tabular}\n",
       "\\begin{tabular}{lcccccc}\n",
       "                          & \\textbf{coef} & \\textbf{std err} & \\textbf{z} & \\textbf{P$> |$z$|$} & \\textbf{[0.025} & \\textbf{0.975]}  \\\\\n",
       "\\midrule\n",
       "\\textbf{value}            &       0.0258  &        0.034     &     0.752  &         0.452        &       -0.041    &        0.093     \\\\\n",
       "\\textbf{age}              &       0.0373  &        0.002     &    15.013  &         0.000        &        0.032    &        0.042     \\\\\n",
       "\\textbf{NIH on admission} &       0.1018  &        0.005     &    22.502  &         0.000        &        0.093    &        0.111     \\\\\n",
       "\\textbf{0.0/1.0}          &       2.2664  &        0.195     &    11.636  &         0.000        &        1.885    &        2.648     \\\\\n",
       "\\textbf{1.0/2.0}          &      -0.1716  &        0.048     &    -3.551  &         0.000        &       -0.266    &       -0.077     \\\\\n",
       "\\textbf{2.0/3.0}          &      -0.4969  &        0.055     &    -9.101  &         0.000        &       -0.604    &       -0.390     \\\\\n",
       "\\textbf{3.0/4.0}          &      -0.4291  &        0.052     &    -8.194  &         0.000        &       -0.532    &       -0.326     \\\\\n",
       "\\textbf{4.0/5.0}          &      -0.3793  &        0.053     &    -7.113  &         0.000        &       -0.484    &       -0.275     \\\\\n",
       "\\textbf{5.0/6.0}          &      -1.2876  &        0.092     &   -14.027  &         0.000        &       -1.468    &       -1.108     \\\\\n",
       "\\bottomrule\n",
       "\\end{tabular}\n",
       "%\\caption{OrderedModel Results}\n",
       "\\end{center}"
      ],
      "text/plain": [
       "<class 'statsmodels.iolib.summary.Summary'>\n",
       "\"\"\"\n",
       "                             OrderedModel Results                             \n",
       "==============================================================================\n",
       "Dep. Variable:                 3M mRS   Log-Likelihood:                -4439.6\n",
       "Model:                   OrderedModel   AIC:                             8897.\n",
       "Method:            Maximum Likelihood   BIC:                             8950.\n",
       "Date:                Fri, 25 Jul 2025                                         \n",
       "Time:                        15:22:21                                         \n",
       "No. Observations:                2608                                         \n",
       "Df Residuals:                    2599                                         \n",
       "Df Model:                           3                                         \n",
       "====================================================================================\n",
       "                       coef    std err          z      P>|z|      [0.025      0.975]\n",
       "------------------------------------------------------------------------------------\n",
       "value                0.0258      0.034      0.752      0.452      -0.041       0.093\n",
       "age                  0.0373      0.002     15.013      0.000       0.032       0.042\n",
       "NIH on admission     0.1018      0.005     22.502      0.000       0.093       0.111\n",
       "0.0/1.0              2.2664      0.195     11.636      0.000       1.885       2.648\n",
       "1.0/2.0             -0.1716      0.048     -3.551      0.000      -0.266      -0.077\n",
       "2.0/3.0             -0.4969      0.055     -9.101      0.000      -0.604      -0.390\n",
       "3.0/4.0             -0.4291      0.052     -8.194      0.000      -0.532      -0.326\n",
       "4.0/5.0             -0.3793      0.053     -7.113      0.000      -0.484      -0.275\n",
       "5.0/6.0             -1.2876      0.092    -14.027      0.000      -1.468      -1.108\n",
       "====================================================================================\n",
       "\"\"\""
      ]
     },
     "execution_count": 40,
     "metadata": {},
     "output_type": "execute_result"
    }
   ],
   "source": [
    "# day 1\n",
    "temp_df = early_lactate_df[['value', '3M mRS'] + covariates]\n",
    "temp_df.dropna(inplace=True)\n",
    "# set all vars to float\n",
    "temp_df = temp_df.astype(float)\n",
    "\n",
    "all_data_mod_log = OrderedModel(temp_df['3M mRS'],\n",
    "                        temp_df[['value'] + covariates],\n",
    "                        distr='logit')\n",
    "\n",
    "all_data_res_log = all_data_mod_log.fit()\n",
    "all_data_res_log.summary()"
   ]
  },
  {
   "cell_type": "code",
   "execution_count": 41,
   "id": "c16141b4",
   "metadata": {},
   "outputs": [
    {
     "name": "stderr",
     "output_type": "stream",
     "text": [
      "/var/folders/9v/1s329cwj32jc2kkx24p8jp980000gp/T/ipykernel_14516/2277983882.py:3: SettingWithCopyWarning: \n",
      "A value is trying to be set on a copy of a slice from a DataFrame\n",
      "\n",
      "See the caveats in the documentation: https://pandas.pydata.org/pandas-docs/stable/user_guide/indexing.html#returning-a-view-versus-a-copy\n",
      "  temp_df.dropna(inplace=True)\n",
      "/Users/jk1/opt/anaconda3/envs/opsum/lib/python3.8/site-packages/statsmodels/base/optimizer.py:736: RuntimeWarning: Maximum number of iterations has been exceeded.\n",
      "  retvals = optimize.fmin(f, start_params, args=fargs, xtol=xtol,\n",
      "/Users/jk1/opt/anaconda3/envs/opsum/lib/python3.8/site-packages/statsmodels/base/model.py:607: ConvergenceWarning: Maximum Likelihood optimization failed to converge. Check mle_retvals\n",
      "  warnings.warn(\"Maximum Likelihood optimization failed to \"\n"
     ]
    },
    {
     "data": {
      "text/html": [
       "<table class=\"simpletable\">\n",
       "<caption>OrderedModel Results</caption>\n",
       "<tr>\n",
       "  <th>Dep. Variable:</th>          <td>3M mRS</td>       <th>  Log-Likelihood:    </th> <td> -3697.5</td>\n",
       "</tr>\n",
       "<tr>\n",
       "  <th>Model:</th>               <td>OrderedModel</td>    <th>  AIC:               </th> <td>   7413.</td>\n",
       "</tr>\n",
       "<tr>\n",
       "  <th>Method:</th>           <td>Maximum Likelihood</td> <th>  BIC:               </th> <td>   7464.</td>\n",
       "</tr>\n",
       "<tr>\n",
       "  <th>Date:</th>              <td>Fri, 25 Jul 2025</td>  <th>                     </th>     <td> </td>   \n",
       "</tr>\n",
       "<tr>\n",
       "  <th>Time:</th>                  <td>15:22:21</td>      <th>                     </th>     <td> </td>   \n",
       "</tr>\n",
       "<tr>\n",
       "  <th>No. Observations:</th>       <td>  2219</td>       <th>                     </th>     <td> </td>   \n",
       "</tr>\n",
       "<tr>\n",
       "  <th>Df Residuals:</th>           <td>  2210</td>       <th>                     </th>     <td> </td>   \n",
       "</tr>\n",
       "<tr>\n",
       "  <th>Df Model:</th>               <td>     3</td>       <th>                     </th>     <td> </td>   \n",
       "</tr>\n",
       "</table>\n",
       "<table class=\"simpletable\">\n",
       "<tr>\n",
       "          <td></td>            <th>coef</th>     <th>std err</th>      <th>z</th>      <th>P>|z|</th>  <th>[0.025</th>    <th>0.975]</th>  \n",
       "</tr>\n",
       "<tr>\n",
       "  <th>value</th>            <td>   -0.1181</td> <td>    0.045</td> <td>   -2.612</td> <td> 0.009</td> <td>   -0.207</td> <td>   -0.029</td>\n",
       "</tr>\n",
       "<tr>\n",
       "  <th>age</th>              <td>    0.0250</td> <td>    0.003</td> <td>    9.551</td> <td> 0.000</td> <td>    0.020</td> <td>    0.030</td>\n",
       "</tr>\n",
       "<tr>\n",
       "  <th>NIH on admission</th> <td>    0.0659</td> <td>    0.005</td> <td>   14.493</td> <td> 0.000</td> <td>    0.057</td> <td>    0.075</td>\n",
       "</tr>\n",
       "<tr>\n",
       "  <th>0.0/1.0</th>          <td>   -0.4308</td> <td>    0.206</td> <td>   -2.095</td> <td> 0.036</td> <td>   -0.834</td> <td>   -0.028</td>\n",
       "</tr>\n",
       "<tr>\n",
       "  <th>1.0/2.0</th>          <td>    0.1033</td> <td>    0.066</td> <td>    1.566</td> <td> 0.117</td> <td>   -0.026</td> <td>    0.233</td>\n",
       "</tr>\n",
       "<tr>\n",
       "  <th>2.0/3.0</th>          <td>   -0.8249</td> <td>    0.083</td> <td>   -9.888</td> <td> 0.000</td> <td>   -0.988</td> <td>   -0.661</td>\n",
       "</tr>\n",
       "<tr>\n",
       "  <th>3.0/4.0</th>          <td>   -0.2017</td> <td>    0.051</td> <td>   -3.956</td> <td> 0.000</td> <td>   -0.302</td> <td>   -0.102</td>\n",
       "</tr>\n",
       "<tr>\n",
       "  <th>4.0/5.0</th>          <td>   -0.3389</td> <td>    0.050</td> <td>   -6.847</td> <td> 0.000</td> <td>   -0.436</td> <td>   -0.242</td>\n",
       "</tr>\n",
       "<tr>\n",
       "  <th>5.0/6.0</th>          <td>   -1.0081</td> <td>    0.071</td> <td>  -14.145</td> <td> 0.000</td> <td>   -1.148</td> <td>   -0.868</td>\n",
       "</tr>\n",
       "</table>"
      ],
      "text/latex": [
       "\\begin{center}\n",
       "\\begin{tabular}{lclc}\n",
       "\\toprule\n",
       "\\textbf{Dep. Variable:}    &       3M mRS       & \\textbf{  Log-Likelihood:    } &   -3697.5   \\\\\n",
       "\\textbf{Model:}            &    OrderedModel    & \\textbf{  AIC:               } &     7413.   \\\\\n",
       "\\textbf{Method:}           & Maximum Likelihood & \\textbf{  BIC:               } &     7464.   \\\\\n",
       "\\textbf{Date:}             &  Fri, 25 Jul 2025  & \\textbf{                     } &             \\\\\n",
       "\\textbf{Time:}             &      15:22:21      & \\textbf{                     } &             \\\\\n",
       "\\textbf{No. Observations:} &         2219       & \\textbf{                     } &             \\\\\n",
       "\\textbf{Df Residuals:}     &         2210       & \\textbf{                     } &             \\\\\n",
       "\\textbf{Df Model:}         &            3       & \\textbf{                     } &             \\\\\n",
       "\\bottomrule\n",
       "\\end{tabular}\n",
       "\\begin{tabular}{lcccccc}\n",
       "                          & \\textbf{coef} & \\textbf{std err} & \\textbf{z} & \\textbf{P$> |$z$|$} & \\textbf{[0.025} & \\textbf{0.975]}  \\\\\n",
       "\\midrule\n",
       "\\textbf{value}            &      -0.1181  &        0.045     &    -2.612  &         0.009        &       -0.207    &       -0.029     \\\\\n",
       "\\textbf{age}              &       0.0250  &        0.003     &     9.551  &         0.000        &        0.020    &        0.030     \\\\\n",
       "\\textbf{NIH on admission} &       0.0659  &        0.005     &    14.493  &         0.000        &        0.057    &        0.075     \\\\\n",
       "\\textbf{0.0/1.0}          &      -0.4308  &        0.206     &    -2.095  &         0.036        &       -0.834    &       -0.028     \\\\\n",
       "\\textbf{1.0/2.0}          &       0.1033  &        0.066     &     1.566  &         0.117        &       -0.026    &        0.233     \\\\\n",
       "\\textbf{2.0/3.0}          &      -0.8249  &        0.083     &    -9.888  &         0.000        &       -0.988    &       -0.661     \\\\\n",
       "\\textbf{3.0/4.0}          &      -0.2017  &        0.051     &    -3.956  &         0.000        &       -0.302    &       -0.102     \\\\\n",
       "\\textbf{4.0/5.0}          &      -0.3389  &        0.050     &    -6.847  &         0.000        &       -0.436    &       -0.242     \\\\\n",
       "\\textbf{5.0/6.0}          &      -1.0081  &        0.071     &   -14.145  &         0.000        &       -1.148    &       -0.868     \\\\\n",
       "\\bottomrule\n",
       "\\end{tabular}\n",
       "%\\caption{OrderedModel Results}\n",
       "\\end{center}"
      ],
      "text/plain": [
       "<class 'statsmodels.iolib.summary.Summary'>\n",
       "\"\"\"\n",
       "                             OrderedModel Results                             \n",
       "==============================================================================\n",
       "Dep. Variable:                 3M mRS   Log-Likelihood:                -3697.5\n",
       "Model:                   OrderedModel   AIC:                             7413.\n",
       "Method:            Maximum Likelihood   BIC:                             7464.\n",
       "Date:                Fri, 25 Jul 2025                                         \n",
       "Time:                        15:22:21                                         \n",
       "No. Observations:                2219                                         \n",
       "Df Residuals:                    2210                                         \n",
       "Df Model:                           3                                         \n",
       "====================================================================================\n",
       "                       coef    std err          z      P>|z|      [0.025      0.975]\n",
       "------------------------------------------------------------------------------------\n",
       "value               -0.1181      0.045     -2.612      0.009      -0.207      -0.029\n",
       "age                  0.0250      0.003      9.551      0.000       0.020       0.030\n",
       "NIH on admission     0.0659      0.005     14.493      0.000       0.057       0.075\n",
       "0.0/1.0             -0.4308      0.206     -2.095      0.036      -0.834      -0.028\n",
       "1.0/2.0              0.1033      0.066      1.566      0.117      -0.026       0.233\n",
       "2.0/3.0             -0.8249      0.083     -9.888      0.000      -0.988      -0.661\n",
       "3.0/4.0             -0.2017      0.051     -3.956      0.000      -0.302      -0.102\n",
       "4.0/5.0             -0.3389      0.050     -6.847      0.000      -0.436      -0.242\n",
       "5.0/6.0             -1.0081      0.071    -14.145      0.000      -1.148      -0.868\n",
       "====================================================================================\n",
       "\"\"\""
      ]
     },
     "execution_count": 41,
     "metadata": {},
     "output_type": "execute_result"
    }
   ],
   "source": [
    "# day 2-3\n",
    "temp_df = lactate_d_2_3_df[['value', '3M mRS'] + covariates]\n",
    "temp_df.dropna(inplace=True)\n",
    "# set all vars to float\n",
    "temp_df = temp_df.astype(float)\n",
    "\n",
    "all_data_mod_log = OrderedModel(temp_df['3M mRS'],\n",
    "                        temp_df[['value'] + covariates],\n",
    "                        distr='logit')\n",
    "\n",
    "all_data_res_log = all_data_mod_log.fit()\n",
    "all_data_res_log.summary()"
   ]
  },
  {
   "cell_type": "code",
   "execution_count": null,
   "id": "a14b9a46",
   "metadata": {},
   "outputs": [],
   "source": [
    "# day 2-3 (mrs 0-2 vs 3-6)\n"
   ]
  },
  {
   "cell_type": "code",
   "execution_count": null,
   "id": "927eabb1",
   "metadata": {},
   "outputs": [
    {
     "name": "stderr",
     "output_type": "stream",
     "text": [
      "/var/folders/9v/1s329cwj32jc2kkx24p8jp980000gp/T/ipykernel_14516/2543611263.py:5: SettingWithCopyWarning: \n",
      "A value is trying to be set on a copy of a slice from a DataFrame.\n",
      "Try using .loc[row_indexer,col_indexer] = value instead\n",
      "\n",
      "See the caveats in the documentation: https://pandas.pydata.org/pandas-docs/stable/user_guide/indexing.html#returning-a-view-versus-a-copy\n",
      "  early_lactate_df['mRS_binary'] = (early_lactate_df['3M mRS'] <= 2).astype(int)\n",
      "/var/folders/9v/1s329cwj32jc2kkx24p8jp980000gp/T/ipykernel_14516/2543611263.py:6: SettingWithCopyWarning: \n",
      "A value is trying to be set on a copy of a slice from a DataFrame.\n",
      "Try using .loc[row_indexer,col_indexer] = value instead\n",
      "\n",
      "See the caveats in the documentation: https://pandas.pydata.org/pandas-docs/stable/user_guide/indexing.html#returning-a-view-versus-a-copy\n",
      "  lactate_d_2_3_df['mRS_binary'] = (lactate_d_2_3_df['3M mRS'] <= 2).astype(int)\n"
     ]
    },
    {
     "data": {
      "image/png": "[encoded data removed]",
      "text/plain": [
       "<Figure size 1008x432 with 2 Axes>"
      ]
     },
     "metadata": {
      "needs_background": "light"
     },
     "output_type": "display_data"
    }
   ],
   "source": [
    "# VISUALIZATION: Binary density plots only (0-5 range)\n",
    "from scipy.stats import gaussian_kde\n",
    "\n",
    "# Create binary mRS outcome (0-2 vs 3-6)\n",
    "early_lactate_df['mRS_binary'] = (early_lactate_df['3M mRS'] <= 2).astype(int)\n",
    "lactate_d_2_3_df['mRS_binary'] = (lactate_d_2_3_df['3M mRS'] <= 2).astype(int)\n",
    "\n",
    "# Use data without outlier removal\n",
    "early_clean = early_lactate_df.dropna(subset=['value', '3M mRS'])\n",
    "d23_clean = lactate_d_2_3_df.dropna(subset=['value', '3M mRS'])\n",
    "\n",
    "fig, axes = plt.subplots(1, 2, figsize=(14, 6))\n",
    "\n",
    "# Binary outcomes setup\n",
    "binary_outcomes = [0, 1]\n",
    "binary_labels = ['Poor (mRS 3-6)', 'Good (mRS 0-2)']\n",
    "colors_binary = ['red', 'green']\n",
    "\n",
    "# Early lactate - binary mRS\n",
    "for i, (outcome, label, color) in enumerate(zip(binary_outcomes, binary_labels, colors_binary)):\n",
    "    subset = early_clean[early_clean['mRS_binary'] == outcome]['value']\n",
    "    if len(subset) > 1:\n",
    "        density = gaussian_kde(subset)\n",
    "        xs = np.linspace(0, 5, 200)  # Concentrated on 0-5 range\n",
    "        density_values = density(xs)\n",
    "        # Plot density curves with proper scaling\n",
    "        axes[0].plot(xs, density_values, color=color, linewidth=2, label=label)\n",
    "        axes[0].fill_between(xs, 0, density_values, alpha=0.3, color=color)\n",
    "\n",
    "axes[0].set_title('Early Lactate Density by Binary Outcome', fontsize=14, fontweight='bold')\n",
    "axes[0].set_xlabel('Lactate Level (mmol/L)')\n",
    "axes[0].set_ylabel('Density')\n",
    "axes[0].set_xlim(0, 5)\n",
    "axes[0].legend()\n",
    "\n",
    "# Day 2-3 lactate - binary mRS\n",
    "for i, (outcome, label, color) in enumerate(zip(binary_outcomes, binary_labels, colors_binary)):\n",
    "    subset = d23_clean[d23_clean['mRS_binary'] == outcome]['value']\n",
    "    if len(subset) > 1:\n",
    "        density = gaussian_kde(subset)\n",
    "        xs = np.linspace(0, 5, 200)  # Concentrated on 0-5 range\n",
    "        density_values = density(xs)\n",
    "        # Plot density curves with proper scaling\n",
    "        axes[1].plot(xs, density_values, color=color, linewidth=2, label=label)\n",
    "        axes[1].fill_between(xs, 0, density_values, alpha=0.3, color=color)\n",
    "\n",
    "axes[1].set_title('Day 2-3 Lactate Density by Binary Outcome', fontsize=14, fontweight='bold')\n",
    "axes[1].set_xlabel('Lactate Level (mmol/L)')\n",
    "axes[1].set_ylabel('Density')\n",
    "axes[1].set_xlim(0, 5)\n",
    "axes[1].legend()\n",
    "\n",
    "plt.tight_layout()\n",
    "plt.show()"
   ]
  },
  {
   "cell_type": "code",
   "execution_count": 78,
   "id": "25afa2aa",
   "metadata": {},
   "outputs": [
    {
     "name": "stderr",
     "output_type": "stream",
     "text": [
      "/var/folders/9v/1s329cwj32jc2kkx24p8jp980000gp/T/ipykernel_48002/1229724053.py:16: SettingWithCopyWarning: \n",
      "A value is trying to be set on a copy of a slice from a DataFrame.\n",
      "Try using .loc[row_indexer,col_indexer] = value instead\n",
      "\n",
      "See the caveats in the documentation: https://pandas.pydata.org/pandas-docs/stable/user_guide/indexing.html#returning-a-view-versus-a-copy\n",
      "  early_clean['mRS_str'] = early_clean['3M mRS'].astype(int).astype(str)\n",
      "/var/folders/9v/1s329cwj32jc2kkx24p8jp980000gp/T/ipykernel_48002/1229724053.py:17: SettingWithCopyWarning: \n",
      "A value is trying to be set on a copy of a slice from a DataFrame.\n",
      "Try using .loc[row_indexer,col_indexer] = value instead\n",
      "\n",
      "See the caveats in the documentation: https://pandas.pydata.org/pandas-docs/stable/user_guide/indexing.html#returning-a-view-versus-a-copy\n",
      "  d23_clean['mRS_str'] = d23_clean['3M mRS'].astype(int).astype(str)\n",
      "/var/folders/9v/1s329cwj32jc2kkx24p8jp980000gp/T/ipykernel_48002/1229724053.py:21: SettingWithCopyWarning: \n",
      "A value is trying to be set on a copy of a slice from a DataFrame.\n",
      "Try using .loc[row_indexer,col_indexer] = value instead\n",
      "\n",
      "See the caveats in the documentation: https://pandas.pydata.org/pandas-docs/stable/user_guide/indexing.html#returning-a-view-versus-a-copy\n",
      "  early_clean['mRS_str'] = pd.Categorical(early_clean['mRS_str'], categories=mrs_categories, ordered=True)\n",
      "/var/folders/9v/1s329cwj32jc2kkx24p8jp980000gp/T/ipykernel_48002/1229724053.py:22: SettingWithCopyWarning: \n",
      "A value is trying to be set on a copy of a slice from a DataFrame.\n",
      "Try using .loc[row_indexer,col_indexer] = value instead\n",
      "\n",
      "See the caveats in the documentation: https://pandas.pydata.org/pandas-docs/stable/user_guide/indexing.html#returning-a-view-versus-a-copy\n",
      "  d23_clean['mRS_str'] = pd.Categorical(d23_clean['mRS_str'], categories=mrs_categories, ordered=True)\n"
     ]
    },
    {
     "data": {
      "image/png": "[encoded data removed]",
      "text/plain": [
       "<Figure size 1152x403.2 with 7 Axes>"
      ]
     },
     "metadata": {},
     "output_type": "display_data"
    },
    {
     "data": {
      "image/png": "[encoded data removed]",
      "text/plain": [
       "<Figure size 1152x403.2 with 7 Axes>"
      ]
     },
     "metadata": {},
     "output_type": "display_data"
    }
   ],
   "source": [
    "import numpy as np\n",
    "import pandas as pd\n",
    "import seaborn as sns\n",
    "import matplotlib.pyplot as plt\n",
    "\n",
    "x_max = 2.5  # Set x-axis limit for ridge plots\n",
    "\n",
    "# Set the style for ridge plots\n",
    "sns.set_theme(style=\"white\", rc={\"axes.facecolor\": (0, 0, 0, 0)})\n",
    "\n",
    "# Prepare data for ridge plots\n",
    "early_clean = early_lactate_df.dropna(subset=['value', '3M mRS'])\n",
    "d23_clean = lactate_d_2_3_df.dropna(subset=['value', '3M mRS'])\n",
    "\n",
    "# Convert mRS to string for proper ordering - SORT PROPERLY\n",
    "early_clean['mRS_str'] = early_clean['3M mRS'].astype(int).astype(str)\n",
    "d23_clean['mRS_str'] = d23_clean['3M mRS'].astype(int).astype(str)\n",
    "\n",
    "# Create ordered categories for proper sorting\n",
    "mrs_categories = ['0', '1', '2', '3', '4', '5', '6']\n",
    "early_clean['mRS_str'] = pd.Categorical(early_clean['mRS_str'], categories=mrs_categories, ordered=True)\n",
    "d23_clean['mRS_str'] = pd.Categorical(d23_clean['mRS_str'], categories=mrs_categories, ordered=True)\n",
    "\n",
    "# Define function to label the plot\n",
    "def label(x, color, label):\n",
    "    ax = plt.gca()\n",
    "    ax.text(0, .2, f\"mRS {label}\", fontweight=\"bold\", color=color,\n",
    "            ha=\"left\", va=\"center\", transform=ax.transAxes)\n",
    "\n",
    "# Ridge plot for Early Lactate - BIGGER SIZE\n",
    "pal = sns.cubehelix_palette(len(early_clean['mRS_str'].cat.categories), rot=-.25, light=.7)\n",
    "g1 = sns.FacetGrid(early_clean, row=\"mRS_str\", hue=\"mRS_str\", aspect=20, height=.8, palette=pal, row_order=mrs_categories)\n",
    "\n",
    "# Draw the densities\n",
    "g1.map(sns.kdeplot, \"value\",\n",
    "      bw_adjust=.5, clip_on=True,\n",
    "      fill=True, alpha=1, linewidth=1.5)\n",
    "g1.map(sns.kdeplot, \"value\", clip_on=True, color=\"w\", lw=2, bw_adjust=.5)\n",
    "\n",
    "# Add reference line\n",
    "g1.refline(y=0, linewidth=2, linestyle=\"-\", color=None, clip_on=False)\n",
    "\n",
    "g1.map(label, \"value\")\n",
    "\n",
    "# Set the subplots to overlap\n",
    "g1.figure.subplots_adjust(hspace=-.25)\n",
    "\n",
    "# Remove axes details\n",
    "g1.set_titles(\"\")\n",
    "g1.set(yticks=[], ylabel=\"\")\n",
    "g1.despine(bottom=True, left=True)\n",
    "\n",
    "# Set x-axis limits to focus on 0-3\n",
    "g1.set(xlim=(0, x_max))\n",
    "\n",
    "# Add main title with larger font\n",
    "g1.figure.suptitle('Early Lactate Distribution by mRS Score (0-24h)', \n",
    "                   fontsize=18, fontweight='bold', y=0.98)\n",
    "\n",
    "plt.show()\n",
    "\n",
    "# Ridge plot for Day 2-3 Lactate - BIGGER SIZE\n",
    "pal2 = sns.cubehelix_palette(len(d23_clean['mRS_str'].cat.categories), rot=-.25, light=.7)\n",
    "g2 = sns.FacetGrid(d23_clean, row=\"mRS_str\", hue=\"mRS_str\", aspect=20, height=.8, palette=pal2, row_order=mrs_categories)\n",
    "\n",
    "# Draw the densities\n",
    "g2.map(sns.kdeplot, \"value\",\n",
    "      bw_adjust=.5, clip_on=True,\n",
    "      fill=True, alpha=1, linewidth=1.5)\n",
    "g2.map(sns.kdeplot, \"value\", clip_on=True, color=\"w\", lw=2, bw_adjust=.5)\n",
    "\n",
    "# Add reference line\n",
    "g2.refline(y=0, linewidth=2, linestyle=\"-\", color=None, clip_on=False)\n",
    "\n",
    "g2.map(label, \"value\")\n",
    "\n",
    "# Set the subplots to overlap\n",
    "g2.figure.subplots_adjust(hspace=-.25)\n",
    "\n",
    "# Remove axes details\n",
    "g2.set_titles(\"\")\n",
    "g2.set(yticks=[], ylabel=\"\")\n",
    "g2.despine(bottom=True, left=True)\n",
    "\n",
    "# Set x-axis limits to focus on 0-3\n",
    "g2.set(xlim=(0, x_max))\n",
    "\n",
    "# Add main title with larger font\n",
    "g2.figure.suptitle('Day 2-3 Lactate Distribution by mRS Score (24-72h)', \n",
    "                   fontsize=18, fontweight='bold', y=0.98)\n",
    "\n",
    "plt.show()"
   ]
  },
  {
   "cell_type": "code",
   "execution_count": 84,
   "id": "4a5d6fbf",
   "metadata": {},
   "outputs": [
    {
     "data": {
      "image/png": "[encoded data removed]",
      "text/plain": [
       "<Figure size 864x172.8 with 2 Axes>"
      ]
     },
     "metadata": {},
     "output_type": "display_data"
    },
    {
     "data": {
      "image/png": "[encoded data removed]",
      "text/plain": [
       "<Figure size 864x172.8 with 2 Axes>"
      ]
     },
     "metadata": {},
     "output_type": "display_data"
    },
    {
     "name": "stdout",
     "output_type": "stream",
     "text": [
      "\n",
      "SUMMARY STATISTICS (threshold=2):\n",
      "==================================================\n",
      "\n",
      "EARLY LACTATE:\n",
      "Good outcome (mRS 0-2): N=1286, median=1.30 ± 0.80\n",
      "Poor outcome (mRS 3-6): N=1443, median=1.30 ± 1.40\n",
      "Good outcome rate: 47.1%\n",
      "\n",
      "DAY 2-3 LACTATE:\n",
      "Good outcome (mRS 0-2): N=569, median=1.00 ± 0.91\n",
      "Poor outcome (mRS 3-6): N=1822, median=0.90 ± 1.12\n",
      "Good outcome rate: 23.8%\n"
     ]
    }
   ],
   "source": [
    "import numpy as np\n",
    "import pandas as pd\n",
    "import seaborn as sns\n",
    "import matplotlib.pyplot as plt\n",
    "\n",
    "def create_dichotomized_ridge_plots(early_lactate_df, lactate_d_2_3_df, threshold=2, x_max=2.5):\n",
    "    \"\"\"\n",
    "    Create dichotomized ridge plots for mRS outcomes with variable threshold.\n",
    "    \n",
    "    Parameters:\n",
    "    - early_lactate_df: DataFrame with early lactate data\n",
    "    - lactate_d_2_3_df: DataFrame with day 2-3 lactate data\n",
    "    - threshold: mRS threshold for dichotomization (default=2, creates 0-2 vs 3-6)\n",
    "    - x_max: Maximum x-axis limit for plots\n",
    "    \"\"\"\n",
    "    aspect_ratio = 10\n",
    "    \n",
    "    # Set the style for ridge plots\n",
    "    sns.set_theme(style=\"white\", rc={\"axes.facecolor\": (0, 0, 0, 0)})\n",
    "\n",
    "    # Prepare data for ridge plots\n",
    "    early_clean = early_lactate_df.dropna(subset=['value', '3M mRS']).copy()\n",
    "    d23_clean = lactate_d_2_3_df.dropna(subset=['value', '3M mRS']).copy()\n",
    "\n",
    "    # Create dichotomized mRS outcome based on threshold\n",
    "    early_clean['mRS_binary'] = (early_clean['3M mRS'] <= threshold).astype(int)\n",
    "    d23_clean['mRS_binary'] = (d23_clean['3M mRS'] <= threshold).astype(int)\n",
    "\n",
    "    # Create categorical labels for binary outcomes\n",
    "    early_clean['mRS_binary_str'] = early_clean['mRS_binary'].map({\n",
    "        0: f'Poor (mRS {threshold+1}-6)', \n",
    "        1: f'Good (mRS 0-{threshold})'\n",
    "    })\n",
    "    d23_clean['mRS_binary_str'] = d23_clean['mRS_binary'].map({\n",
    "        0: f'Poor (mRS {threshold+1}-6)', \n",
    "        1: f'Good (mRS 0-{threshold})'\n",
    "    })\n",
    "\n",
    "    # Create ordered categories for proper sorting (Good outcome first, then Poor)\n",
    "    binary_categories = [f'Good (mRS 0-{threshold})', f'Poor (mRS {threshold+1}-6)']\n",
    "    early_clean['mRS_binary_str'] = pd.Categorical(\n",
    "        early_clean['mRS_binary_str'], \n",
    "        categories=binary_categories, \n",
    "        ordered=True\n",
    "    )\n",
    "    d23_clean['mRS_binary_str'] = pd.Categorical(\n",
    "        d23_clean['mRS_binary_str'], \n",
    "        categories=binary_categories, \n",
    "        ordered=True\n",
    "    )\n",
    "\n",
    "    # Define function to label the plot\n",
    "    def label_binary(x, color, label):\n",
    "        ax = plt.gca()\n",
    "        ax.text(0, .2, label, fontweight=\"bold\", color=color,\n",
    "                ha=\"left\", va=\"center\", transform=ax.transAxes)\n",
    "\n",
    "    # Create color palette for binary outcomes\n",
    "    colors = ['#27ae60', '#e74c3c']  # Green for good, red for poor\n",
    "    \n",
    "    # Ridge plot for Early Lactate - Dichotomized\n",
    "    g1 = sns.FacetGrid(early_clean, row=\"mRS_binary_str\", hue=\"mRS_binary_str\", \n",
    "                       aspect=aspect_ratio, height=1.2, palette=colors, row_order=binary_categories)\n",
    "\n",
    "    # Draw the densities\n",
    "    g1.map(sns.kdeplot, \"value\",\n",
    "          bw_adjust=.5, clip_on=True,\n",
    "          fill=True, alpha=1, linewidth=1.5)\n",
    "    g1.map(sns.kdeplot, \"value\", clip_on=True, color=\"w\", lw=2, bw_adjust=.5)\n",
    "\n",
    "    # Add reference line\n",
    "    g1.refline(y=0, linewidth=2, linestyle=\"-\", color=None, clip_on=False)\n",
    "\n",
    "    g1.map(label_binary, \"value\")\n",
    "\n",
    "    # Set the subplots to overlap\n",
    "    g1.figure.subplots_adjust(hspace=-.25)\n",
    "\n",
    "    # Remove axes details\n",
    "    g1.set_titles(\"\")\n",
    "    g1.set(yticks=[], ylabel=\"\")\n",
    "    g1.despine(bottom=True, left=True)\n",
    "\n",
    "    # Set x-axis limits\n",
    "    g1.set(xlim=(0, x_max))\n",
    "\n",
    "    # Add main title with larger font\n",
    "    g1.figure.suptitle(f'Early Lactate Distribution by Binary mRS (threshold={threshold}) - (0-24h)', \n",
    "                       fontsize=18, fontweight='bold', y=0.98)\n",
    "\n",
    "    plt.show()\n",
    "\n",
    "    # Ridge plot for Day 2-3 Lactate - Dichotomized\n",
    "    g2 = sns.FacetGrid(d23_clean, row=\"mRS_binary_str\", hue=\"mRS_binary_str\", \n",
    "                       aspect=aspect_ratio, height=1.2, palette=colors, row_order=binary_categories)\n",
    "\n",
    "    # Draw the densities\n",
    "    g2.map(sns.kdeplot, \"value\",\n",
    "          bw_adjust=.5, clip_on=True,\n",
    "          fill=True, alpha=1, linewidth=1.5)\n",
    "    g2.map(sns.kdeplot, \"value\", clip_on=True, color=\"w\", lw=2, bw_adjust=.5)\n",
    "\n",
    "    # Add reference line\n",
    "    g2.refline(y=0, linewidth=2, linestyle=\"-\", color=None, clip_on=False)\n",
    "\n",
    "    g2.map(label_binary, \"value\")\n",
    "\n",
    "    # Set the subplots to overlap\n",
    "    g2.figure.subplots_adjust(hspace=-.25)\n",
    "\n",
    "    # Remove axes details\n",
    "    g2.set_titles(\"\")\n",
    "    g2.set(yticks=[], ylabel=\"\")\n",
    "    g2.despine(bottom=True, left=True)\n",
    "\n",
    "    # Set x-axis limits\n",
    "    g2.set(xlim=(0, x_max))\n",
    "\n",
    "    # Add main title with larger font\n",
    "    g2.figure.suptitle(f'Day 2-3 Lactate Distribution by Binary mRS (threshold={threshold}) - (24-72h)', \n",
    "                       fontsize=18, fontweight='bold', y=0.98)\n",
    "\n",
    "    plt.show()\n",
    "\n",
    "    # Print summary statistics\n",
    "    print(f\"\\nSUMMARY STATISTICS (threshold={threshold}):\")\n",
    "    print(\"=\"*50)\n",
    "    \n",
    "    # Early lactate summary\n",
    "    early_good = early_clean[early_clean['mRS_binary'] == 1]\n",
    "    early_poor = early_clean[early_clean['mRS_binary'] == 0]\n",
    "    \n",
    "    print(f\"\\nEARLY LACTATE:\")\n",
    "    print(f\"Good outcome (mRS 0-{threshold}): N={len(early_good)}, median={early_good['value'].median():.2f} ± {early_good['value'].std():.2f}\")\n",
    "    print(f\"Poor outcome (mRS {threshold+1}-6): N={len(early_poor)}, median={early_poor['value'].median():.2f} ± {early_poor['value'].std():.2f}\")\n",
    "    print(f\"Good outcome rate: {(early_clean['mRS_binary'] == 1).mean()*100:.1f}%\")\n",
    "    \n",
    "    # Day 2-3 lactate summary\n",
    "    d23_good = d23_clean[d23_clean['mRS_binary'] == 1]\n",
    "    d23_poor = d23_clean[d23_clean['mRS_binary'] == 0]\n",
    "    \n",
    "    print(f\"\\nDAY 2-3 LACTATE:\")\n",
    "    print(f\"Good outcome (mRS 0-{threshold}): N={len(d23_good)}, median={d23_good['value'].median():.2f} ± {d23_good['value'].std():.2f}\")\n",
    "    print(f\"Poor outcome (mRS {threshold+1}-6): N={len(d23_poor)}, median={d23_poor['value'].median():.2f} ± {d23_poor['value'].std():.2f}\")\n",
    "    print(f\"Good outcome rate: {(d23_clean['mRS_binary'] == 1).mean()*100:.1f}%\")\n",
    "\n",
    "# Usage examples:\n",
    "# Default threshold of 2 (mRS 0-2 vs 3-6)\n",
    "create_dichotomized_ridge_plots(early_lactate_df, lactate_d_2_3_df, threshold=2)\n",
    "\n",
    "# Alternative threshold of 1 (mRS 0-1 vs 2-6)\n",
    "# create_dichotomized_ridge_plots(early_lactate_df, lactate_d_2_3_df, threshold=1)\n",
    "\n",
    "# Alternative threshold of 3 (mRS 0-3 vs 4-6)\n",
    "# create_dichotomized_ridge_plots(early_lactate_df, lactate_d_2_3_df, threshold=3)"
   ]
  },
  {
   "cell_type": "code",
   "execution_count": null,
   "id": "973332bd",
   "metadata": {},
   "outputs": [
    {
     "name": "stderr",
     "output_type": "stream",
     "text": [
      "/var/folders/9v/1s329cwj32jc2kkx24p8jp980000gp/T/ipykernel_48002/2086056834.py:2: SettingWithCopyWarning: \n",
      "A value is trying to be set on a copy of a slice from a DataFrame.\n",
      "Try using .loc[row_indexer,col_indexer] = value instead\n",
      "\n",
      "See the caveats in the documentation: https://pandas.pydata.org/pandas-docs/stable/user_guide/indexing.html#returning-a-view-versus-a-copy\n",
      "  early_lactate_df['mRS_binary'] = (early_lactate_df['3M mRS'] <= 2).astype(int)\n",
      "/var/folders/9v/1s329cwj32jc2kkx24p8jp980000gp/T/ipykernel_48002/2086056834.py:3: SettingWithCopyWarning: \n",
      "A value is trying to be set on a copy of a slice from a DataFrame.\n",
      "Try using .loc[row_indexer,col_indexer] = value instead\n",
      "\n",
      "See the caveats in the documentation: https://pandas.pydata.org/pandas-docs/stable/user_guide/indexing.html#returning-a-view-versus-a-copy\n",
      "  lactate_d_2_3_df['mRS_binary'] = (lactate_d_2_3_df['3M mRS'] <= 2).astype(int)\n",
      "/var/folders/9v/1s329cwj32jc2kkx24p8jp980000gp/T/ipykernel_48002/2086056834.py:6: SettingWithCopyWarning: \n",
      "A value is trying to be set on a copy of a slice from a DataFrame.\n",
      "Try using .loc[row_indexer,col_indexer] = value instead\n",
      "\n",
      "See the caveats in the documentation: https://pandas.pydata.org/pandas-docs/stable/user_guide/indexing.html#returning-a-view-versus-a-copy\n",
      "  early_lactate_df['outcome_label'] = early_lactate_df['mRS_binary'].map({0: 'Poor (mRS 3-6)', 1: 'Good (mRS 0-2)'})\n",
      "/var/folders/9v/1s329cwj32jc2kkx24p8jp980000gp/T/ipykernel_48002/2086056834.py:7: SettingWithCopyWarning: \n",
      "A value is trying to be set on a copy of a slice from a DataFrame.\n",
      "Try using .loc[row_indexer,col_indexer] = value instead\n",
      "\n",
      "See the caveats in the documentation: https://pandas.pydata.org/pandas-docs/stable/user_guide/indexing.html#returning-a-view-versus-a-copy\n",
      "  lactate_d_2_3_df['outcome_label'] = lactate_d_2_3_df['mRS_binary'].map({0: 'Poor (mRS 3-6)', 1: 'Good (mRS 0-2)'})\n",
      "/var/folders/9v/1s329cwj32jc2kkx24p8jp980000gp/T/ipykernel_48002/2086056834.py:10: SettingWithCopyWarning: \n",
      "A value is trying to be set on a copy of a slice from a DataFrame.\n",
      "Try using .loc[row_indexer,col_indexer] = value instead\n",
      "\n",
      "See the caveats in the documentation: https://pandas.pydata.org/pandas-docs/stable/user_guide/indexing.html#returning-a-view-versus-a-copy\n",
      "  early_lactate_df['time_period'] = 'Early (0-24h)'\n",
      "/var/folders/9v/1s329cwj32jc2kkx24p8jp980000gp/T/ipykernel_48002/2086056834.py:11: SettingWithCopyWarning: \n",
      "A value is trying to be set on a copy of a slice from a DataFrame.\n",
      "Try using .loc[row_indexer,col_indexer] = value instead\n",
      "\n",
      "See the caveats in the documentation: https://pandas.pydata.org/pandas-docs/stable/user_guide/indexing.html#returning-a-view-versus-a-copy\n",
      "  lactate_d_2_3_df['time_period'] = 'Day 2-3 (24-72h)'\n"
     ]
    },
    {
     "data": {
      "image/png": "[encoded data removed]",
      "text/plain": [
       "<Figure size 864x576 with 1 Axes>"
      ]
     },
     "metadata": {},
     "output_type": "display_data"
    }
   ],
   "source": [
    "# Create binary mRS outcome (0-2 vs 3-6)\n",
    "early_lactate_df['mRS_binary'] = (early_lactate_df['3M mRS'] <= 2).astype(int)\n",
    "lactate_d_2_3_df['mRS_binary'] = (lactate_d_2_3_df['3M mRS'] <= 2).astype(int)\n",
    "\n",
    "# Create binary outcome labels\n",
    "early_lactate_df['outcome_label'] = early_lactate_df['mRS_binary'].map({0: 'Poor (mRS 3-6)', 1: 'Good (mRS 0-2)'})\n",
    "lactate_d_2_3_df['outcome_label'] = lactate_d_2_3_df['mRS_binary'].map({0: 'Poor (mRS 3-6)', 1: 'Good (mRS 0-2)'})\n",
    "\n",
    "# Add time period labels\n",
    "early_lactate_df['time_period'] = 'Early (0-24h)'\n",
    "lactate_d_2_3_df['time_period'] = 'Day 2-3 (24-72h)'\n",
    "\n",
    "# Combine datasets\n",
    "combined_df = pd.concat([early_lactate_df, lactate_d_2_3_df], ignore_index=True)\n",
    "\n",
    "# Create the combined plot\n",
    "fig, ax = plt.subplots(1, 1, figsize=(12, 8))\n",
    "\n",
    "# Define vibrant colors for outcomes\n",
    "outcome_colors = {\n",
    "    'Poor (mRS 3-6)': '#e74c3c',    # Red for poor outcomes\n",
    "    'Good (mRS 0-2)': '#27ae60'     # Green for good outcomes\n",
    "}\n",
    "\n",
    "# Create boxplot with time periods on x-axis and outcomes as hue\n",
    "sns.boxplot(x='time_period', y='value', hue='outcome_label', data=combined_df, \n",
    "            ax=ax, showfliers=False, palette=outcome_colors,\n",
    "            boxprops=dict(alpha=0.8), whiskerprops=dict(alpha=0.8))\n",
    "\n",
    "# Style improvements\n",
    "ax.set_title('Lactate Levels by Time Period and Outcome', \n",
    "             fontsize=16, fontweight='bold', pad=20)\n",
    "ax.set_xlabel('Time Period', fontsize=14, fontweight='bold')\n",
    "ax.set_ylabel('Lactate Level (mmol/L)', fontsize=14, fontweight='bold')\n",
    "ax.set_ylim(0, 3.2)\n",
    "\n",
    "# Improve legend with better styling\n",
    "legend = ax.legend(title='Outcome', title_fontsize=13, fontsize=12, \n",
    "                  loc='upper right', frameon=True, fancybox=True, shadow=True)\n",
    "legend.get_frame().set_facecolor('#f8f9fa')\n",
    "legend.get_frame().set_alpha(0.9)\n",
    "\n",
    "# Add subtle grid for better readability\n",
    "ax.grid(True, alpha=0.3, linestyle='--')\n",
    "\n",
    "# Make the plot background slightly off-white\n",
    "ax.set_facecolor('#fafafa')\n",
    "\n",
    "# Style the spines\n",
    "for spine in ax.spines.values():\n",
    "    spine.set_color('#cccccc')\n",
    "    spine.set_linewidth(0.8)\n",
    "\n",
    "plt.tight_layout()\n",
    "plt.show()"
   ]
  },
  {
   "cell_type": "code",
   "execution_count": 46,
   "id": "1be5a184",
   "metadata": {},
   "outputs": [
    {
     "name": "stderr",
     "output_type": "stream",
     "text": [
      "/var/folders/9v/1s329cwj32jc2kkx24p8jp980000gp/T/ipykernel_48002/2636111682.py:7: FutureWarning: The default value of regex will change from True to False in a future version. In addition, single character regular expressions will *not* be treated as literal strings when regex=True.\n",
      "  temp_df.columns = temp_df.columns.str.replace(' ', '_').str.replace('(', '').str.replace(')', '')\n",
      "/var/folders/9v/1s329cwj32jc2kkx24p8jp980000gp/T/ipykernel_48002/2636111682.py:7: FutureWarning: The default value of regex will change from True to False in a future version. In addition, single character regular expressions will *not* be treated as literal strings when regex=True.\n",
      "  temp_df.columns = temp_df.columns.str.replace(' ', '_').str.replace('(', '').str.replace(')', '')\n",
      "/var/folders/9v/1s329cwj32jc2kkx24p8jp980000gp/T/ipykernel_48002/2636111682.py:9: SettingWithCopyWarning: \n",
      "A value is trying to be set on a copy of a slice from a DataFrame.\n",
      "Try using .loc[row_indexer,col_indexer] = value instead\n",
      "\n",
      "See the caveats in the documentation: https://pandas.pydata.org/pandas-docs/stable/user_guide/indexing.html#returning-a-view-versus-a-copy\n",
      "  temp_df['mrs'] = temp_df['3M_mRS']\n"
     ]
    },
    {
     "name": "stdout",
     "output_type": "stream",
     "text": [
      "[1] \"Model failed to converge with max|grad| = 0.00725 (tol = 0.002, component 1)\"\n",
      "[2] \" \\n\"                                                                         \n",
      "\n",
      "[1] \"Model is nearly unidentifiable: very large eigenvalue\\n - Rescale variables?\"\n",
      "[2] \" \\n\"                                                                         \n",
      "\n",
      "**NOTE**: Column for 'residuals' not created in model.data, but saved in model.resid only. This is because you have rows with NaNs in your data.\n",
      "\n",
      "**NOTE** Column for 'fits' not created in model.data, but saved in model.fits only. This is because you have rows with NaNs in your data.\n",
      "\n",
      "Linear mixed model fit by REML [’lmerMod’]\n",
      "Formula: mrs~value+age+NIH_on_admission+(1|case_admission_id)\n",
      "\n",
      "Family: gaussian\t Inference: parametric\n",
      "\n",
      "Number of observations: 7258\t Groups: {'case_admission_id': 1819.0}\n",
      "\n",
      "Log-likelihood: 37882.647 \t AIC: -74597.294\n",
      "\n",
      "Random effects:\n",
      "\n",
      "                          Name    Var    Std\n",
      "case_admission_id  (Intercept)  0.735  0.857\n",
      "Residual                        0.000  0.000\n",
      "\n",
      "No random effect correlations specified\n",
      "\n",
      "Fixed effects:\n",
      "\n",
      "Linear mixed model fit by REML [’lmerMod’]\n",
      "Formula: mrs~value+age+NIH_on_admission+(1|case_admission_id)\n",
      "\n",
      "Family: gaussian\t Inference: parametric\n",
      "\n",
      "Number of observations: 7258\t Groups: {'case_admission_id': 1819.0}\n",
      "\n",
      "Log-likelihood: 37882.647 \t AIC: -74597.294\n",
      "\n",
      "Random effects:\n",
      "\n",
      "                          Name    Var    Std\n",
      "case_admission_id  (Intercept)  0.735  0.857\n",
      "Residual                        0.000  0.000\n",
      "\n",
      "No random effect correlations specified\n",
      "\n",
      "Fixed effects:\n",
      "\n",
      "                   Estimate  2.5_ci  97.5_ci     SE        DF  T-stat  P-val  \\\n",
      "(Intercept)          -0.970  -2.177    0.238  0.616     0.012  -1.574  0.960   \n",
      "value                 0.000  -0.000    0.000  0.000  1546.563   0.000  1.000   \n",
      "age0.1                2.970   0.901    5.039  1.056     0.105   2.813  0.744   \n",
      "age0.5                6.005   3.933    8.076  1.057     0.111   5.682  0.679   \n",
      "age0.6                2.485   0.409    4.562  1.059     0.112   2.346  0.747   \n",
      "...                     ...     ...      ...    ...       ...     ...    ...   \n",
      "NIH_on_admission5     1.123   0.896    1.351  0.116   751.595   9.668  0.000   \n",
      "NIH_on_admission6     1.484   1.237    1.731  0.126  1001.195  11.765  0.000   \n",
      "NIH_on_admission7     1.010   0.737    1.283  0.139  1167.062   7.259  0.000   \n",
      "NIH_on_admission8     1.636   1.363    1.909  0.139  1503.610  11.753  0.000   \n",
      "NIH_on_admission9     2.096   1.723    2.470  0.190  2739.166  11.011  0.000   \n",
      "\n",
      "                   Sig  \n",
      "(Intercept)             \n",
      "value                   \n",
      "age0.1                  \n",
      "age0.5                  \n",
      "age0.6                  \n",
      "...                ...  \n",
      "NIH_on_admission5  ***  \n",
      "NIH_on_admission6  ***  \n",
      "NIH_on_admission7  ***  \n",
      "NIH_on_admission8  ***  \n",
      "NIH_on_admission9  ***  \n",
      "\n",
      "[582 rows x 8 columns]\n"
     ]
    }
   ],
   "source": [
    "os.environ[\"R_HOME\"] = \"/Library/Frameworks/R.framework/Versions/4.1/Resources\"\n",
    "from pymer4.models import Lmer\n",
    "\n",
    "# overall lactate vs mrs adjusted for covariates\n",
    "temp_df = preprocessed_lactate_df[['value', '3M mRS', 'case_admission_id'] + covariates]\n",
    "# replace all ' ' in columns names with _\n",
    "temp_df.columns = temp_df.columns.str.replace(' ', '_').str.replace('(', '').str.replace(')', '')\n",
    "covariates_with_underscore = [covar_name.replace(' ', '_').replace('(', '').replace(')', '') for covar_name in covariates]\n",
    "temp_df['mrs'] = temp_df['3M_mRS']\n",
    "\n",
    "model = Lmer(f'mrs ~ value + {\" + \".join(covariates_with_underscore)} + (1|case_admission_id)',\n",
    "             data=temp_df)\n",
    "# model.fit(control='optimizer=\"bobyqa\", optCtrl=list(maxfun=100000)')\n",
    "model.fit()\n",
    "print(model.summary())\n",
    "\n"
   ]
  },
  {
   "cell_type": "code",
   "execution_count": null,
   "id": "18c39600",
   "metadata": {},
   "outputs": [
    {
     "name": "stderr",
     "output_type": "stream",
     "text": [
      "/var/folders/9v/1s329cwj32jc2kkx24p8jp980000gp/T/ipykernel_48002/3660559814.py:4: FutureWarning: The default value of regex will change from True to False in a future version. In addition, single character regular expressions will *not* be treated as literal strings when regex=True.\n",
      "  temp_df.columns = temp_df.columns.str.replace(' ', '_').str.replace('(', '').str.replace(')', '')\n",
      "/var/folders/9v/1s329cwj32jc2kkx24p8jp980000gp/T/ipykernel_48002/3660559814.py:4: FutureWarning: The default value of regex will change from True to False in a future version. In addition, single character regular expressions will *not* be treated as literal strings when regex=True.\n",
      "  temp_df.columns = temp_df.columns.str.replace(' ', '_').str.replace('(', '').str.replace(')', '')\n",
      "/var/folders/9v/1s329cwj32jc2kkx24p8jp980000gp/T/ipykernel_48002/3660559814.py:6: SettingWithCopyWarning: \n",
      "A value is trying to be set on a copy of a slice from a DataFrame.\n",
      "Try using .loc[row_indexer,col_indexer] = value instead\n",
      "\n",
      "See the caveats in the documentation: https://pandas.pydata.org/pandas-docs/stable/user_guide/indexing.html#returning-a-view-versus-a-copy\n",
      "  temp_df['mrs'] = temp_df['3M_mRS']\n"
     ]
    },
    {
     "name": "stdout",
     "output_type": "stream",
     "text": [
      "unable to evaluate scaled gradient \n",
      "\n",
      "Model failed to converge: degenerate  Hessian with 1 negative eigenvalues \n",
      "\n",
      "**NOTE**: Column for 'residuals' not created in model.data, but saved in model.resid only. This is because you have rows with NaNs in your data.\n",
      "\n",
      "**NOTE** Column for 'fits' not created in model.data, but saved in model.fits only. This is because you have rows with NaNs in your data.\n",
      "\n",
      "Linear mixed model fit by REML [’lmerMod’]\n",
      "Formula: mrs~value+age+NIH_on_admission+(1|case_admission_id)\n",
      "\n",
      "Family: gaussian\t Inference: parametric\n",
      "\n",
      "Number of observations: 3229\t Groups: {'case_admission_id': 1539.0}\n",
      "\n",
      "Log-likelihood: 7346.157 \t AIC: -13564.313\n",
      "\n",
      "Random effects:\n",
      "\n",
      "                          Name    Var    Std\n",
      "case_admission_id  (Intercept)  1.547  1.244\n",
      "Residual                        0.000  0.000\n",
      "\n",
      "No random effect correlations specified\n",
      "\n",
      "Fixed effects:\n",
      "\n",
      "Linear mixed model fit by REML [’lmerMod’]\n",
      "Formula: mrs~value+age+NIH_on_admission+(1|case_admission_id)\n",
      "\n",
      "Family: gaussian\t Inference: parametric\n",
      "\n",
      "Number of observations: 3229\t Groups: {'case_admission_id': 1539.0}\n",
      "\n",
      "Log-likelihood: 7346.157 \t AIC: -13564.313\n",
      "\n",
      "Random effects:\n",
      "\n",
      "                          Name    Var    Std\n",
      "case_admission_id  (Intercept)  1.547  1.244\n",
      "Residual                        0.000  0.000\n",
      "\n",
      "No random effect correlations specified\n",
      "\n",
      "Fixed effects:\n",
      "\n",
      "                   Estimate  2.5_ci  97.5_ci     SE       DF  T-stat  P-val  \\\n",
      "(Intercept)          -1.272  -3.070    0.525  0.917    0.002  -1.388  0.994   \n",
      "value                 0.000  -0.000    0.000  0.000  535.266   0.000  1.000   \n",
      "age0.5                6.198   3.166    9.230  1.547    0.013   4.006  0.946   \n",
      "age100.3              2.508  -0.556    5.571  1.563    0.014   1.604  0.956   \n",
      "age103.3              3.560   0.515    6.604  1.554    0.013   2.291  0.952   \n",
      "...                     ...     ...      ...    ...      ...     ...    ...   \n",
      "NIH_on_admission5     1.207   0.820    1.594  0.197   71.525   6.118  0.000   \n",
      "NIH_on_admission6     1.660   1.247    2.074  0.211   72.835   7.876  0.000   \n",
      "NIH_on_admission7     1.331   0.877    1.786  0.232   88.435   5.736  0.000   \n",
      "NIH_on_admission8     1.713   1.267    2.159  0.228   90.254   7.526  0.000   \n",
      "NIH_on_admission9     2.138   1.557    2.720  0.297  272.277   7.204  0.000   \n",
      "\n",
      "                   Sig  \n",
      "(Intercept)             \n",
      "value                   \n",
      "age0.5                  \n",
      "age100.3                \n",
      "age103.3                \n",
      "...                ...  \n",
      "NIH_on_admission5  ***  \n",
      "NIH_on_admission6  ***  \n",
      "NIH_on_admission7  ***  \n",
      "NIH_on_admission8  ***  \n",
      "NIH_on_admission9  ***  \n",
      "\n",
      "[562 rows x 8 columns]\n"
     ]
    }
   ],
   "source": [
    "# overall lactate vs mrs adjusted for covariates\n",
    "temp_df = early_lactate_df[['value', '3M mRS', 'case_admission_id'] + covariates]\n",
    "# replace all ' ' in columns names with _\n",
    "temp_df.columns = temp_df.columns.str.replace(' ', '_').str.replace('(', '').str.replace(')', '')\n",
    "covariates_with_underscore = [covar_name.replace(' ', '_').replace('(', '').replace(')', '') for covar_name in covariates]\n",
    "temp_df['mrs'] = temp_df['3M_mRS']\n",
    "\n",
    "model = Lmer(f'mrs ~ value + {\" + \".join(covariates_with_underscore)} + (1|case_admission_id)',\n",
    "             data=temp_df)\n",
    "model.fit(control='optimizer=\"bobyqa\", optCtrl=list(maxfun=100000)')\n",
    "# model.fit()\n",
    "print(model.summary())"
   ]
  },
  {
   "cell_type": "code",
   "execution_count": 48,
   "id": "39bfe90d",
   "metadata": {},
   "outputs": [
    {
     "name": "stderr",
     "output_type": "stream",
     "text": [
      "/var/folders/9v/1s329cwj32jc2kkx24p8jp980000gp/T/ipykernel_48002/2168025672.py:4: FutureWarning: The default value of regex will change from True to False in a future version. In addition, single character regular expressions will *not* be treated as literal strings when regex=True.\n",
      "  temp_df.columns = temp_df.columns.str.replace(' ', '_').str.replace('(', '').str.replace(')', '')\n",
      "/var/folders/9v/1s329cwj32jc2kkx24p8jp980000gp/T/ipykernel_48002/2168025672.py:4: FutureWarning: The default value of regex will change from True to False in a future version. In addition, single character regular expressions will *not* be treated as literal strings when regex=True.\n",
      "  temp_df.columns = temp_df.columns.str.replace(' ', '_').str.replace('(', '').str.replace(')', '')\n",
      "/var/folders/9v/1s329cwj32jc2kkx24p8jp980000gp/T/ipykernel_48002/2168025672.py:6: SettingWithCopyWarning: \n",
      "A value is trying to be set on a copy of a slice from a DataFrame.\n",
      "Try using .loc[row_indexer,col_indexer] = value instead\n",
      "\n",
      "See the caveats in the documentation: https://pandas.pydata.org/pandas-docs/stable/user_guide/indexing.html#returning-a-view-versus-a-copy\n",
      "  temp_df['mrs'] = temp_df['3M_mRS']\n",
      "/var/folders/9v/1s329cwj32jc2kkx24p8jp980000gp/T/ipykernel_48002/2168025672.py:7: SettingWithCopyWarning: \n",
      "A value is trying to be set on a copy of a slice from a DataFrame\n",
      "\n",
      "See the caveats in the documentation: https://pandas.pydata.org/pandas-docs/stable/user_guide/indexing.html#returning-a-view-versus-a-copy\n",
      "  temp_df.dropna(subset=['value', 'mrs'] + covariates_with_underscore, inplace=True)\n"
     ]
    },
    {
     "name": "stdout",
     "output_type": "stream",
     "text": [
      "[1] \"unrecognized control elements named ‘xtol_abs’, ‘ftol_abs’ ignored\"\n",
      "[2] \" \\n\"                                                               \n",
      "\n",
      "[1] \"Model failed to converge with max|grad| = 0.0189131 (tol = 0.002, component 1)\"\n",
      "[2] \" \\n\"                                                                           \n",
      "\n",
      "[1] \"Model is nearly unidentifiable: very large eigenvalue\\n - Rescale variables?\"\n",
      "[2] \" \\n\"                                                                         \n",
      "\n",
      "Linear mixed model fit by REML [’lmerMod’]\n",
      "Formula: mrs~value+age+NIH_on_admission+(1|case_admission_id)\n",
      "\n",
      "Family: gaussian\t Inference: parametric\n",
      "\n",
      "Number of observations: 2219\t Groups: {'case_admission_id': 495.0}\n",
      "\n",
      "Log-likelihood: 17809.660 \t AIC: -34961.321\n",
      "\n",
      "Random effects:\n",
      "\n",
      "                          Name    Var    Std\n",
      "case_admission_id  (Intercept)  0.329  0.574\n",
      "Residual                        0.000  0.000\n",
      "\n",
      "No random effect correlations specified\n",
      "\n",
      "Fixed effects:\n",
      "\n",
      "Linear mixed model fit by REML [’lmerMod’]\n",
      "Formula: mrs~value+age+NIH_on_admission+(1|case_admission_id)\n",
      "\n",
      "Family: gaussian\t Inference: parametric\n",
      "\n",
      "Number of observations: 2219\t Groups: {'case_admission_id': 495.0}\n",
      "\n",
      "Log-likelihood: 17809.660 \t AIC: -34961.321\n",
      "\n",
      "Random effects:\n",
      "\n",
      "                          Name    Var    Std\n",
      "case_admission_id  (Intercept)  0.329  0.574\n",
      "Residual                        0.000  0.000\n",
      "\n",
      "No random effect correlations specified\n",
      "\n",
      "Fixed effects:\n",
      "\n",
      "                   Estimate  2.5_ci  97.5_ci     SE       DF  T-stat  P-val  \\\n",
      "(Intercept)           2.285   1.106    3.463  0.601    0.065   3.799  0.803   \n",
      "value                -0.000  -0.000    0.000  0.000  150.852  -0.000  1.000   \n",
      "age0.6               -1.168  -2.867    0.532  0.867    0.285  -1.347  0.641   \n",
      "age100.2             -0.026  -1.812    1.760  0.911    0.353  -0.028  0.986   \n",
      "age100.8             -0.168  -1.867    1.532  0.867    0.285  -0.194  0.915   \n",
      "...                     ...     ...      ...    ...      ...     ...    ...   \n",
      "NIH_on_admission5     0.673   0.301    1.044  0.189  142.107   3.549  0.001   \n",
      "NIH_on_admission6     1.883   1.398    2.369  0.248  170.681   7.604  0.000   \n",
      "NIH_on_admission7     1.512   1.022    2.002  0.250  171.495   6.045  0.000   \n",
      "NIH_on_admission8     1.894   1.383    2.405  0.261  171.725   7.269  0.000   \n",
      "NIH_on_admission9     2.239   1.667    2.811  0.292  171.221   7.671  0.000   \n",
      "\n",
      "                   Sig  \n",
      "(Intercept)             \n",
      "value                   \n",
      "age0.6                  \n",
      "age100.2                \n",
      "age100.8                \n",
      "...                ...  \n",
      "NIH_on_admission5  ***  \n",
      "NIH_on_admission6  ***  \n",
      "NIH_on_admission7  ***  \n",
      "NIH_on_admission8  ***  \n",
      "NIH_on_admission9  ***  \n",
      "\n",
      "[327 rows x 8 columns]\n"
     ]
    }
   ],
   "source": [
    "# overall lactate vs mrs adjusted for covariates\n",
    "temp_df = lactate_d_2_3_df[['value', '3M mRS', 'case_admission_id'] + covariates]\n",
    "# replace all ' ' in columns names with _\n",
    "temp_df.columns = temp_df.columns.str.replace(' ', '_').str.replace('(', '').str.replace(')', '')\n",
    "covariates_with_underscore = [covar_name.replace(' ', '_').replace('(', '').replace(')', '') for covar_name in covariates]\n",
    "temp_df['mrs'] = temp_df['3M_mRS']\n",
    "temp_df.dropna(subset=['value', 'mrs'] + covariates_with_underscore, inplace=True)\n",
    "model = Lmer(f'mrs ~ value + {\" + \".join(covariates_with_underscore)} + (1|case_admission_id)',\n",
    "             data=temp_df)\n",
    "# model.fit(control='optimizer=\"bobyqa\", optCtrl=list(maxfun=100000)')\n",
    "# increase tolerance\n",
    "model.fit(control='optimizer=\"nlminbwrap\", optCtrl=list(maxfun=100000, xtol_abs = 1e-12, ftol_abs = 1e-12)')\n",
    "\n",
    "print(model.summary())"
   ]
  },
  {
   "cell_type": "code",
   "execution_count": null,
   "id": "b06d4bb1",
   "metadata": {},
   "outputs": [],
   "source": []
  }
 ],
 "metadata": {
  "kernelspec": {
   "display_name": "opsum",
   "language": "python",
   "name": "python3"
  },
  "language_info": {
   "codemirror_mode": {
    "name": "ipython",
    "version": 3
   },
   "file_extension": ".py",
   "mimetype": "text/x-python",
   "name": "python",
   "nbconvert_exporter": "python",
   "pygments_lexer": "ipython3",
   "version": "3.8.11"
  }
 },
 "nbformat": 4,
 "nbformat_minor": 5
}
